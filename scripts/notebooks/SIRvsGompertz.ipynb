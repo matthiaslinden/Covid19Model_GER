{
 "cells": [
  {
   "cell_type": "code",
   "execution_count": 2,
   "metadata": {},
   "outputs": [],
   "source": [
    "import numpy as np\n",
    "import theano\n",
    "import theano.tensor as tt\n",
    "import pymc3 as pm\n",
    "\n",
    "import matplotlib.pyplot as plt\n",
    "\n",
    "\n"
   ]
  },
  {
   "cell_type": "code",
   "execution_count": 3,
   "metadata": {},
   "outputs": [],
   "source": [
    "def plain_SIR_model(beta,gamma,N,S0,I0,R0,l=150):\n",
    "    \"\"\"Simple classical SIR-Model with time-constant beta,gamma\"\"\"\n",
    "    def next_day(St,It,Rt,oS,oI,oR,eff,beta,gamma,N):\n",
    "        eff = beta*St/N\n",
    "        bSIoN = eff * It # -beta * (S*I)/N\n",
    "        gI = gamma*It\n",
    "        # Calculate differences\n",
    "        dS = -bSIoN\n",
    "        dI = bSIoN - gI\n",
    "        dR = gI\n",
    "        # Update values\n",
    "        nxt_St = St + dS\n",
    "        nxt_It = It + dI\n",
    "        nxt_Rt = Rt + dR\n",
    "        # Pass on to next step\n",
    "        return nxt_St,nxt_It,nxt_Rt, dS,dI,dR, eff\n",
    "        \n",
    "    # Initial internal state\n",
    "    zero = tt.cast(0.,dtype='float64')\n",
    "    initial_state = [S0,I0,R0,zero,zero,zero,zero]\n",
    "    # Exceute the 'Loop'\n",
    "    state,_ = theano.scan(fn=next_day,\n",
    "                            n_steps = l,\n",
    "                            #        sequences=[],\n",
    "                            outputs_info=initial_state,\n",
    "                            non_sequences=[beta,gamma,N])\n",
    "    return state"
   ]
  },
  {
   "cell_type": "code",
   "execution_count": null,
   "metadata": {},
   "outputs": [],
   "source": []
  }
 ],
 "metadata": {
  "kernelspec": {
   "display_name": "Python 3",
   "language": "python",
   "name": "python3"
  },
  "language_info": {
   "codemirror_mode": {
    "name": "ipython",
    "version": 3
   },
   "file_extension": ".py",
   "mimetype": "text/x-python",
   "name": "python",
   "nbconvert_exporter": "python",
   "pygments_lexer": "ipython3",
   "version": "3.7.9"
  }
 },
 "nbformat": 4,
 "nbformat_minor": 4
}
