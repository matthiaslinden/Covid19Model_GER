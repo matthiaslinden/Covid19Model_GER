{
 "cells": [
  {
   "cell_type": "code",
   "execution_count": 1,
   "metadata": {},
   "outputs": [],
   "source": [
    "import numpy as np\n",
    "import theano\n",
    "import theano.tensor as tt\n",
    "import pymc3 as pm\n",
    "import datetime\n",
    "import pandas as pd\n",
    "\n",
    "import time\n",
    "import pickle\n",
    "\n",
    "import matplotlib.pyplot as plt\n",
    "import matplotlib\n",
    "theano.config.optimizer='fast_run'\n",
    "theano.config.floatX = \"float64\"\n",
    "\n",
    "# Legend-formating for matplotlib\n",
    "def _format_k(prec):\n",
    "    \"\"\"\n",
    "        format yaxis 10_000 as 10 k.\n",
    "        _format_k(0)(1200, 1000.0) gives \"1 k\"\n",
    "        _format_k(1)(1200, 1000.0) gives \"1.2 k\"\n",
    "    \"\"\"\n",
    "\n",
    "    def inner(xval, tickpos):\n",
    "        return f\"${xval/1_000:.{prec}f}\\,$k\"\n",
    "\n",
    "    return inner\n"
   ]
  },
  {
   "cell_type": "code",
   "execution_count": 2,
   "metadata": {},
   "outputs": [],
   "source": [
    "def plain_SIR_model(beta,gamma,N,S0,I0,R0,l=150):\n",
    "    \"\"\"Simple classical SIR-Model with time-constant beta,gamma\"\"\"\n",
    "    def next_day(t,St,It,Rt,oS,oI,oR,eff,beta,gamma,N):\n",
    "        eff = beta*St/N\n",
    "        bSIoN = eff * It # -beta * (S*I)/N\n",
    "        gI = gamma*It\n",
    "        # Calculate differences\n",
    "        dS = -bSIoN\n",
    "        dI = bSIoN - gI\n",
    "        dR = gI\n",
    "        # Update values\n",
    "        nxt_St = St + dS\n",
    "        nxt_It = It + dI\n",
    "        nxt_Rt = Rt + dR\n",
    "        \n",
    "        nxt_St = tt.clip(nxt_St,0,1e16) # Improves sampling stability\n",
    "        \n",
    "        # Pass on to next step\n",
    "        return nxt_St,nxt_It,nxt_Rt, dS,dI,dR, eff\n",
    "        \n",
    "    # Initial internal state\n",
    "    zero = tt.cast(0.,dtype='float64')\n",
    "    initial_state = [S0,I0,R0,zero,zero,zero,zero]\n",
    "    sequences = [tt.arange(l)]\n",
    "    # Exceute the 'Loop'\n",
    "    state,_ = theano.scan(fn=next_day,\n",
    "                            sequences=sequences,# time dependent sequences can be passed as first params\n",
    "                            outputs_info=initial_state,\n",
    "                            non_sequences=[beta,gamma,N])\n",
    "    return state\n",
    "\n",
    "\n",
    "def Gompertz(a,b,c,l=150):\n",
    "    t = tt.arange(l)\n",
    "    return a*tt.exp(-b*tt.exp(-c*t))"
   ]
  },
  {
   "cell_type": "code",
   "execution_count": 3,
   "metadata": {},
   "outputs": [
    {
     "name": "stdout",
     "output_type": "stream",
     "text": [
      "first non zero deaths timestamp 2020-03-08 00:00:00\n"
     ]
    }
   ],
   "source": [
    "# Data from\n",
    "#https://raw.githubusercontent.com/CSSEGISandData/COVID-19/master/csse_covid_19_data/csse_covid_19_time_series/time_series_covid19_deaths_global.csv\n",
    "#Germany,51.165690999999995,10.451526,\n",
    "jhu_deaths = [0,0,0,0,0,0,0,0,0,0,0,0,0,0,0,0,0,0,0,0,0,0,0,0,0,0,0,0,0,0,0,0,0,0,0,0,0,0,0,0,0,0,0,0,0,0,0,2,2,3,3,7,9,11,17,24,28,44,67,84,94,123,157,206,267,342,433,533,645,775,920,1107,1275,1444,1584,1810,2016,2349,2607,2767,2736,3022,3194,3294,3804,4052,4352,4459,4586,4862,5033,5279,5575,5760,5877,5976,6126,6314,6467,6623,6736,6812,6866,6993,6993,7275,7392,7510,7549,7569,7661,7738,7861,7884,7897,7938,7962,8003,8081,8144,8203,8228,8261,8283,8309,8372,8428,8470,8504,8530,8540,8555,8563,8602,8635,8658,8673,8685,8695,8736,8752,8772,8783,8793,8801,8807,8820,8851,8875,8887,8895,8895,8899,8914,8928,8940,8965,8968,8968,8976,8990,8995,9006,9010,9020,9023,9022,9032,9046,9057,9063,9070,9071,9074,9078,9080,9087,9088,9091,9092,9094,9099,9102,9110,9120,9124,9124,9125,9131,9135,9144,9147,9154,9154,9154,9163,9179,9181,9195,9201,9202,9203,9208,9213,9217,9230,9235,9235,9236,9241,9249,9263,9266,9272,9275,9276,9281,9285,9290,9290,9299]\n",
    "jhu_ts = pd.date_range(datetime.date(2020,1,21),periods=len(jhu_deaths),freq='D')\n",
    "\n",
    "# Limit to non-zero values, dropping the front of the list\n",
    "first_non_zero_index = 47\n",
    "jhu_deaths1 = jhu_deaths[first_non_zero_index:]\n",
    "jhu_ts1 = jhu_ts[first_non_zero_index:]\n",
    "print(\"first non zero deaths timestamp\",jhu_ts1[0])\n",
    "\n",
    "# Alternative Deaths from Situation-report graph of actual dates of deaths\n",
    "rki_deaths_per_day = [1, 1, 1, 1, 5, 2, 3, 4, 11, 13, 12, 21, 40, 24, 42, 42, 67, 76, 92, 104, 107, 114, 172, 165, 162, 204, 199, 223, 240, 240, 254, 260, 257, 240, 246, 239, 243, 245, 227, 239, 241, 191, 203, 209, 172, 194, 157, 163, 129, 141, 132, 125, 128, 121, 106, 76, 92, 78, 93, 82, 69, 54, 63, 64, 63, 42, 54, 66, 47, 29, 40, 44, 45, 47, 31, 33, 27, 30, 31, 23, 21, 18, 19, 17, 18, 24, 15, 18, 18, 14, 8, 9, 8, 6, 11, 11, 14, 9, 6, 9, 7, 7, 9, 6, 3, 4, 4, 6, 7, 7, 7, 4, 7, 8, 1]\n",
    "rki_deaths = np.cumsum(rki_deaths_per_day)\n",
    "rki_ts = pd.date_range(datetime.date(2020,3,8),periods=len(rki_deaths),freq='D')\n",
    "\n",
    "sources = {\"jhu_deaths\":(jhu_deaths,jhu_ts),\"jhu1_deaths\":(jhu_deaths1,jhu_ts1),\"rki_deaths\":(rki_deaths,rki_ts)}"
   ]
  },
  {
   "cell_type": "code",
   "execution_count": 4,
   "metadata": {
    "scrolled": false
   },
   "outputs": [
    {
     "name": "stdout",
     "output_type": "stream",
     "text": [
      "2020-02-01 00:00:00 20.0\n",
      "2020-02-02 00:00:00 25.0\n",
      "2020-02-03 00:00:00 27.0\n",
      "2020-02-04 00:00:00 29.0\n",
      "2020-02-05 00:00:00 31.0\n",
      "2020-02-06 00:00:00 32.0\n",
      "2020-02-07 00:00:00 34.0\n",
      "2020-02-08 00:00:00 34.0\n",
      "2020-02-09 00:00:00 36.0\n",
      "2020-02-10 00:00:00 42.0\n",
      "2020-02-11 00:00:00 43.0\n",
      "2020-02-12 00:00:00 47.0\n",
      "2020-02-13 00:00:00 52.0\n",
      "2020-02-14 00:00:00 58.0\n",
      "2020-02-15 00:00:00 67.0\n",
      "2020-02-16 00:00:00 72.0\n",
      "2020-02-17 00:00:00 81.0\n",
      "2020-02-18 00:00:00 91.0\n",
      "2020-02-19 00:00:00 101.0\n",
      "2020-02-20 00:00:00 128.0\n",
      "2020-02-21 00:00:00 144.0\n",
      "2020-02-22 00:00:00 167.0\n",
      "2020-02-23 00:00:00 211.0\n",
      "2020-02-24 00:00:00 276.0\n",
      "2020-02-25 00:00:00 380.0\n",
      "2020-02-26 00:00:00 533.0\n",
      "2020-02-27 00:00:00 693.0\n",
      "2020-02-28 00:00:00 901.0\n",
      "2020-02-29 00:00:00 1089.0\n",
      "2020-03-01 00:00:00 1304.0\n",
      "2020-03-02 00:00:00 1587.0\n",
      "2020-03-03 00:00:00 1862.0\n",
      "2020-03-04 00:00:00 2238.0\n",
      "2020-03-05 00:00:00 2647.0\n",
      "2020-03-06 00:00:00 3281.0\n",
      "2020-03-07 00:00:00 4081.0\n",
      "2020-03-08 00:00:00 5166.0\n",
      "2020-03-09 00:00:00 6853.0\n",
      "2020-03-10 00:00:00 8988.0\n",
      "2020-03-11 00:00:00 11652.0\n",
      "2020-03-12 00:00:00 14603.0\n",
      "2020-03-13 00:00:00 18190.0\n",
      "2020-03-14 00:00:00 21832.0\n",
      "2020-03-15 00:00:00 25590.0\n",
      "2020-03-16 00:00:00 30574.0\n",
      "2020-03-17 00:00:00 34803.0\n",
      "2020-03-18 00:00:00 39122.0\n",
      "2020-03-19 00:00:00 42877.0\n",
      "2020-03-20 00:00:00 47260.0\n",
      "2020-03-21 00:00:00 50792.0\n",
      "2020-03-22 00:00:00 53719.0\n",
      "2020-03-23 00:00:00 57907.0\n",
      "2020-03-24 00:00:00 61020.0\n",
      "2020-03-25 00:00:00 64465.0\n",
      "2020-03-26 00:00:00 67524.0\n",
      "2020-03-27 00:00:00 70704.0\n",
      "2020-03-28 00:00:00 73673.0\n",
      "2020-03-29 00:00:00 76015.0\n",
      "2020-03-30 00:00:00 79406.0\n",
      "2020-03-31 00:00:00 81946.0\n",
      "2020-04-01 00:00:00 84948.0\n",
      "2020-04-02 00:00:00 87625.0\n",
      "2020-04-03 00:00:00 90354.0\n",
      "2020-04-04 00:00:00 92499.0\n",
      "2020-04-05 00:00:00 94398.0\n",
      "2020-04-06 00:00:00 96843.0\n",
      "2020-04-07 00:00:00 98953.0\n",
      "2020-04-08 00:00:00 100943.0\n",
      "2020-04-09 00:00:00 102826.0\n",
      "2020-04-10 00:00:00 104426.0\n",
      "2020-04-11 00:00:00 105772.0\n",
      "2020-04-12 00:00:00 107084.0\n",
      "2020-04-13 00:00:00 108350.0\n",
      "2020-04-14 00:00:00 109646.0\n",
      "2020-04-15 00:00:00 110931.0\n",
      "2020-04-16 00:00:00 112072.0\n",
      "2020-04-17 00:00:00 113149.0\n",
      "2020-04-18 00:00:00 114081.0\n",
      "2020-04-19 00:00:00 114878.0\n",
      "2020-04-20 00:00:00 115912.0\n",
      "2020-04-21 00:00:00 116725.0\n",
      "2020-04-22 00:00:00 117526.0\n",
      "2020-04-23 00:00:00 118305.0\n",
      "2020-04-24 00:00:00 119012.0\n",
      "2020-04-25 00:00:00 119626.0\n",
      "2020-04-26 00:00:00 120141.0\n",
      "2020-04-27 00:00:00 120840.0\n",
      "2020-04-28 00:00:00 121399.0\n",
      "2020-04-29 00:00:00 121900.0\n",
      "2020-04-30 00:00:00 122489.0\n",
      "2020-05-01 00:00:00 122959.0\n",
      "2020-05-02 00:00:00 123373.0\n",
      "2020-05-03 00:00:00 123798.0\n",
      "2020-05-04 00:00:00 124331.0\n",
      "2020-05-05 00:00:00 124793.0\n",
      "2020-05-06 00:00:00 125200.0\n",
      "2020-05-07 00:00:00 125600.0\n",
      "2020-05-08 00:00:00 125978.0\n",
      "2020-05-09 00:00:00 126302.0\n",
      "2020-05-10 00:00:00 126598.0\n",
      "2020-05-11 00:00:00 126964.0\n",
      "2020-05-12 00:00:00 127288.0\n",
      "2020-05-13 00:00:00 127588.0\n",
      "2020-05-14 00:00:00 127832.0\n",
      "2020-05-15 00:00:00 128190.0\n",
      "2020-05-16 00:00:00 128486.0\n",
      "2020-05-17 00:00:00 128683.0\n",
      "2020-05-18 00:00:00 129036.0\n",
      "2020-05-19 00:00:00 129250.0\n",
      "2020-05-20 00:00:00 129574.0\n",
      "2020-05-21 00:00:00 129766.0\n",
      "2020-05-22 00:00:00 129978.0\n",
      "2020-05-23 00:00:00 130167.0\n",
      "2020-05-24 00:00:00 130343.0\n",
      "2020-05-25 00:00:00 130607.0\n",
      "2020-05-26 00:00:00 130836.0\n",
      "2020-05-27 00:00:00 131091.0\n",
      "2020-05-28 00:00:00 131293.0\n",
      "2020-05-29 00:00:00 131482.0\n",
      "2020-05-30 00:00:00 131638.0\n",
      "2020-05-31 00:00:00 131770.0\n",
      "2020-06-01 00:00:00 131938.0\n",
      "2020-06-02 00:00:00 132156.0\n",
      "2020-06-03 00:00:00 132364.0\n",
      "2020-06-04 00:00:00 132547.0\n",
      "2020-06-05 00:00:00 132716.0\n",
      "2020-06-06 00:00:00 132872.0\n",
      "2020-06-07 00:00:00 132977.0\n",
      "2020-06-08 00:00:00 133192.0\n",
      "2020-06-09 00:00:00 133393.0\n",
      "2020-06-10 00:00:00 133608.0\n",
      "2020-06-11 00:00:00 133778.0\n",
      "2020-06-12 00:00:00 133960.0\n",
      "2020-06-13 00:00:00 134147.0\n",
      "2020-06-14 00:00:00 134302.0\n",
      "2020-06-15 00:00:00 134582.0\n",
      "2020-06-16 00:00:00 135287.0\n",
      "2020-06-17 00:00:00 135615.0\n",
      "2020-06-18 00:00:00 135835.0\n",
      "2020-06-19 00:00:00 136124.0\n",
      "2020-06-20 00:00:00 136328.0\n",
      "2020-06-21 00:00:00 136489.0\n",
      "2020-06-22 00:00:00 136721.0\n",
      "2020-06-23 00:00:00 136908.0\n",
      "2020-06-24 00:00:00 137147.0\n",
      "2020-06-25 00:00:00 137338.0\n",
      "2020-06-26 00:00:00 137550.0\n",
      "2020-06-27 00:00:00 137721.0\n",
      "2020-06-28 00:00:00 137863.0\n",
      "2020-06-29 00:00:00 138087.0\n"
     ]
    }
   ],
   "source": [
    "# Include Symptomatic from arcgis-Dump\n",
    "rki_df = pd.read_csv(\"data/RKI_COVID19_200723.csv\", sep=\",\") \n",
    "\n",
    "def rdate(s):\n",
    "    r = None\n",
    "    if \"T\" in s:\n",
    "        r = datetime.datetime.strptime(s.split(\"T\")[0],\"%Y-%m-%d\")\n",
    "    if \"-\" in s:\n",
    "        r = datetime.datetime.strptime(s.split(\" \")[0],\"%Y-%m-%d\")\n",
    "    else:\n",
    "        if s[:4] == \"2020\":\n",
    "            r = datetime.datetime.strptime(s.split(\" \")[0],\"%Y/%m/%d\")\n",
    "        else:\n",
    "            r = datetime.datetime.strptime(s.split(\" \")[0],\"%m/%d/%Y\")\n",
    "    return r.date()\n",
    "\n",
    "cols = [x for x in [\"Meldedatum\",\"Refdatum\"] if x in rki_df.columns]\n",
    "for col in cols:\n",
    "    if col in rki_df:\n",
    "        rki_df[col] = rki_df[col].apply(rdate)\n",
    "        \n",
    "rki_df = rki_df.filter(items=[\"Meldedatum\",\"Refdatum\",\"NeuerFall\",\"AnzahlFall\",\"IstErkrankungsbeginn\",\"AnzahlTodesfall\"])\n",
    "\n",
    "ts = pd.date_range(datetime.date(2020,1,1),periods=200,freq='D')\n",
    "symptomatic_timeseries = pd.date_range(datetime.date(2020,2,1),periods=150,freq='D')\n",
    "\n",
    "symptomatic = np.zeros(len(ts))\n",
    "for i,t in enumerate(ts):\n",
    "    m = rki_df[rki_df[\"Refdatum\"] == t]\n",
    "    symptomatic[i] = np.sum(m[m[\"IstErkrankungsbeginn\"] == 1][\"AnzahlFall\"])\n",
    "\n",
    "cs = np.cumsum(symptomatic)\n",
    "s = cs[(symptomatic_timeseries[0]-ts[0]).days:]\n",
    "s = s[:len(ts)]\n",
    "\n",
    "for t,d in zip(symptomatic_timeseries,s):\n",
    "    print(t,d)\n",
    "\n",
    "sources[\"rki_symptomatic\"] = (s,symptomatic_timeseries)"
   ]
  },
  {
   "cell_type": "code",
   "execution_count": 5,
   "metadata": {},
   "outputs": [],
   "source": [
    "# Select Datasource\n",
    "data,ts = sources[\"rki_symptomatic\"]"
   ]
  },
  {
   "cell_type": "code",
   "execution_count": 6,
   "metadata": {},
   "outputs": [
    {
     "data": {
      "image/png": "[encoded data removed]",
      "text/plain": [
       "<Figure size 576x432 with 2 Axes>"
      ]
     },
     "metadata": {
      "needs_background": "light"
     },
     "output_type": "display_data"
    }
   ],
   "source": [
    "fig = plt.figure(figsize=(8,6))\n",
    "fig.subplots_adjust(wspace=0.33,hspace=0.27,left=0.05,right=0.98,top=0.94,bottom=0.05)\n",
    "fig.suptitle(\"graphical overview of different sources\")\n",
    "gs = fig.add_gridspec(2, 1)\n",
    "\n",
    "ax = fig.add_subplot(gs[0,0])\n",
    "bx = fig.add_subplot(gs[1,0])\n",
    "\n",
    "i = 0\n",
    "color=[\"red\",\"orange\",\"blue\"]\n",
    "keys = [\"jhu_deaths\",\"jhu1_deaths\",\"rki_deaths\"]\n",
    "for k in keys:\n",
    "    d,t = sources[k]\n",
    "    ax.plot(t,d,'+',label=k,color=color[i])\n",
    "    bx.plot(t[1:],np.diff(d),label=k,color=color[i])\n",
    "    i+=1\n",
    "    \n",
    "ax.set_xlim([datetime.date(2020,3,1),datetime.date(2020,7,1)])\n",
    "bx.set_xlim([datetime.date(2020,3,1),datetime.date(2020,7,1)])\n",
    "ax.legend()\n",
    "    \n",
    "for tx in [ax,bx]:\n",
    "    prec = 1.0 / (np.log10(tx.get_ylim()[1]) - 2.5)\n",
    "    if prec < 2.0 and prec >= 0:\n",
    "        tx.yaxis.set_major_formatter(\n",
    "            matplotlib.ticker.FuncFormatter(_format_k(int(prec)))\n",
    "        )\n",
    "    tx.spines['top'].set_visible(False)\n",
    "    tx.spines['right'].set_visible(False)\n",
    "        "
   ]
  },
  {
   "cell_type": "code",
   "execution_count": 76,
   "metadata": {},
   "outputs": [],
   "source": [
    "# Test simple SIR-Fit beta,gamma,N,I0\n",
    "\n",
    "def FitSIRModel(data,l=90,initial={},I0=None,fit_differences=False):\n",
    "    \"\"\"\n",
    "    Fit SIR model using HamiltonianMonteCarlo No-UTurn-Sampler \n",
    "        fit_0 : Allow fitting I0 else I0 = 1\n",
    "        fit_differences : False # keep it that way until daily differences are of interest and not total numbers\n",
    "    \"\"\"\n",
    "    with pm.Model() as model:\n",
    "        # Setup Priors for beta,gamma\n",
    "        beta = pm.Lognormal(name=\"beta\",\n",
    "                        mu=tt.log(tt.cast(.25,dtype='float64')),\n",
    "                        sigma=tt.cast(.9,dtype='float64')) # Choose both beta and gamma wide enough\n",
    "        gamma = pm.Lognormal(name=\"gamma\",\n",
    "                         mu=tt.log(tt.cast(.13,dtype='float64')),\n",
    "                         sigma=tt.cast(.9,dtype='float64'))\n",
    "        beta = tt.clip(beta,gamma,1e3) # Ensure positive initial growth, improves sampling\n",
    "    \n",
    "#        N = tt.cast(83e6,dtype='float64')\n",
    "        N = pm.Lognormal(name=\"N\",\n",
    "                         mu=tt.log(tt.cast(200000,dtype='float64')),\n",
    "                         sigma=tt.cast(.4,dtype='float64'))\n",
    "        S0 = N\n",
    "        if I0 == None: # Eiher fit or don't fit I0\n",
    "            I0 = pm.Lognormal(name=\"I0\",\n",
    "                      mu=tt.log(tt.cast(20,dtype='float64')),\n",
    "                      sigma=tt.cast(.5,dtype=\"float64\")\n",
    "                     )\n",
    "        else:\n",
    "            I0 = tt.cast(I0,dtype='float64')\n",
    "    \n",
    "        R0 = tt.cast(0.,dtype='float64')\n",
    "    \n",
    "        # Run the Model\n",
    "        S_t,I_t,R_t,dS,dI,dR,eff = plain_SIR_model(beta,gamma,N,S0,I0,R0,l=l)\n",
    "        # Store Model output in Trace\n",
    "        pm.Deterministic(\"S_t\",S_t)\n",
    "        pm.Deterministic(\"I_t\",I_t)\n",
    "        pm.Deterministic(\"R_t\",R_t)\n",
    "        pm.Deterministic(\"dS\",dS)\n",
    "        pm.Deterministic(\"dR\",dR)\n",
    "        \n",
    "        # Loglike-estimate\n",
    "        if fit_differences: # Fit differences, which might me more suitable for the Sampler\n",
    "            est = -dS\n",
    "            sigma_obs = pm.HalfCauchy( name=\"sigma\", beta=10 )\n",
    "            pm.StudentT(\n",
    "                    name=\"like_studentT\",\n",
    "                    nu=4,\n",
    "                    mu=est,\n",
    "                    sigma=tt.abs_(est + 1) ** 0.5 * sigma_obs,\n",
    "                    observed=np.diff(data[:l+1])\n",
    "            )\n",
    "        else: # Leads to tighter fit to the non-differentiated data\n",
    "#            est_deaths = R_t\n",
    "            est = tt.cumsum(-dS)[30:]\n",
    "            pm.Deterministic(\"est\",est)\n",
    "            sigma_obs = pm.HalfCauchy( name=\"sigma\", beta=40 )\n",
    "            pm.StudentT(\n",
    "                    name=\"like_studentT\",\n",
    "                    nu=4,\n",
    "                    mu=est,\n",
    "                    sigma=tt.abs_(est + 1) ** 0.5 * sigma_obs,\n",
    "                    observed=data[30:l]\n",
    "            )\n",
    "        \n",
    "        # Handle Chained sampling reusing previous fit as starting-point\n",
    "        init = \"advi+adapt_diag\" if len(initial) == 0 else None\n",
    "        trace = pm.sample( model=model,init=init,start=initial,draws=1200,tune=1200,cores=4,chains=4)#,max_treedepth=16)\n",
    "        return trace"
   ]
  },
  {
   "cell_type": "code",
   "execution_count": 72,
   "metadata": {},
   "outputs": [
    {
     "name": "stderr",
     "output_type": "stream",
     "text": [
      "Multiprocess sampling (4 chains in 4 jobs)\n",
      "NUTS: [sigma, I0, N, gamma, beta]\n"
     ]
    },
    {
     "data": {
      "text/html": [
       "\n",
       "    <div>\n",
       "        <style>\n",
       "            /* Turns off some styling */\n",
       "            progress {\n",
       "                /* gets rid of default border in Firefox and Opera. */\n",
       "                border: none;\n",
       "                /* Needs to be in here for Safari polyfill so background images work as expected. */\n",
       "                background-size: auto;\n",
       "            }\n",
       "            .progress-bar-interrupted, .progress-bar-interrupted::-webkit-progress-bar {\n",
       "                background: #F44336;\n",
       "            }\n",
       "        </style>\n",
       "      <progress value='8800' class='' max='8800' style='width:300px; height:20px; vertical-align: middle;'></progress>\n",
       "      100.00% [8800/8800 14:17<00:00 Sampling 4 chains, 0 divergences]\n",
       "    </div>\n",
       "    "
      ],
      "text/plain": [
       "<IPython.core.display.HTML object>"
      ]
     },
     "metadata": {},
     "output_type": "display_data"
    },
    {
     "name": "stderr",
     "output_type": "stream",
     "text": [
      "Sampling 4 chains for 1_000 tune and 1_200 draw iterations (4_000 + 4_800 draws total) took 866 seconds.\n",
      "The acceptance probability does not match the target. It is 0.5807678762205183, but should be close to 0.8. Try to increase the number of tuning steps.\n",
      "The acceptance probability does not match the target. It is 0.6348182781273829, but should be close to 0.8. Try to increase the number of tuning steps.\n",
      "The rhat statistic is larger than 1.2 for some parameters.\n",
      "The estimated number of effective samples is smaller than 200 for some parameters.\n"
     ]
    }
   ],
   "source": [
    "l = 80\n",
    "trace = FitSIRModel(data,l=l,I0=None)"
   ]
  },
  {
   "cell_type": "code",
   "execution_count": 75,
   "metadata": {},
   "outputs": [
    {
     "name": "stdout",
     "output_type": "stream",
     "text": [
      "0.28068818158704434 [0.22430166 0.32703429]\n",
      "0.09561968186921968 [0.04141548 0.13695635]\n",
      "11.334874055176378 [ 6.24848178 18.86289783]\n",
      "119910.10401010078 [109895.37449019 130432.01252508]\n"
     ]
    },
    {
     "data": {
      "image/png": "[encoded data removed]",
      "text/plain": [
       "<Figure size 432x288 with 1 Axes>"
      ]
     },
     "metadata": {
      "needs_background": "light"
     },
     "output_type": "display_data"
    }
   ],
   "source": [
    "l = 80\n",
    "plt.plot(ts[:l],data[:l],\"+\")\n",
    "#plt.plot(ts[:l],np.mean(trace.dI,axis=0))\n",
    "plt.plot(ts[:l],np.mean(np.cumsum(-trace.dS,axis=1),axis=0),color=\"tab:red\")\n",
    "plt.fill_between(ts[:l],*np.percentile(np.cumsum(-trace.dS,axis=1),axis=0,q=(2.5,97.5)),alpha=.1,color=\"tab:red\")\n",
    "#plt.plot(ts[:l],np.mean(trace.est,axis=0))\n",
    "\n",
    "plt.plot(ts[:l],np.mean(trace.I_t,axis=0),color=\"purple\")\n",
    "plt.fill_between(ts[:l],*np.percentile(trace.I_t,axis=0,q=(2.5,97.5)),alpha=.1,color=\"purple\")\n",
    "\n",
    "plt.plot(ts[:l],np.mean(trace.S_t,axis=0),color=\"tab:blue\")\n",
    "plt.fill_between(ts[:l],*np.percentile(trace.S_t,axis=0,q=(2.5,97.5)),color=\"tab:blue\",alpha=.1)\n",
    "\n",
    "plt.plot(ts[:l],np.mean(trace.R_t,axis=0),color=\"green\")\n",
    "plt.fill_between(ts[:l],*np.percentile(trace.R_t,axis=0,q=(2.5,97.5)),alpha=.1,color=\"green\")\n",
    "\n",
    "print(np.mean(trace.beta),np.percentile(trace.beta,q=(2.5,97.5)))\n",
    "print(np.mean(trace.gamma),np.percentile(trace.gamma,q=(2.5,97.5)))\n",
    "print(np.mean(trace.I0),np.percentile(trace.I0,q=(2.5,97.5)))\n",
    "print(np.mean(trace.N),np.percentile(trace.N,q=(2.5,97.5)))\n",
    "\n",
    "with open(\"traces/sir_80\",\"wb+\") as f:\n",
    "    pickle.dump(ts,f)\n",
    "    pickle.dump(data,f)\n",
    "    pickle.dump(trace,f)"
   ]
  },
  {
   "cell_type": "code",
   "execution_count": 40,
   "metadata": {},
   "outputs": [
    {
     "name": "stdout",
     "output_type": "stream",
     "text": [
      "0.21053082050651312 [0.18812315 0.23075235]\n",
      "0.03632423417742948 [0.01118904 0.05771404]\n",
      "112810.19065732979 [107720.64822525 117377.78587204]\n"
     ]
    },
    {
     "data": {
      "image/png": "[encoded data removed]",
      "text/plain": [
       "<Figure size 432x288 with 1 Axes>"
      ]
     },
     "metadata": {
      "needs_background": "light"
     },
     "output_type": "display_data"
    }
   ],
   "source": [
    "plt.plot(ts[:l],data[:l],\"+\")\n",
    "#plt.plot(ts[:l],np.mean(trace.dI,axis=0))\n",
    "plt.plot(ts[:l],np.mean(np.cumsum(-trace.dS,axis=1),axis=0),color=\"tab:red\")\n",
    "plt.fill_between(ts[:l],*np.percentile(np.cumsum(-trace.dS,axis=1),axis=0,q=(2.5,97.5)),alpha=.1,color=\"tab:red\")\n",
    "#plt.plot(ts[:l],np.mean(trace.est,axis=0))\n",
    "\n",
    "plt.plot(ts[:l],np.mean(trace.I_t,axis=0),color=\"purple\")\n",
    "plt.fill_between(ts[:l],*np.percentile(trace.I_t,axis=0,q=(2.5,97.5)),alpha=.1,color=\"purple\")\n",
    "\n",
    "plt.plot(ts[:l],np.mean(trace.S_t,axis=0),color=\"tab:blue\")\n",
    "plt.fill_between(ts[:l],*np.percentile(trace.S_t,axis=0,q=(2.5,97.5)),color=\"tab:blue\",alpha=.1)\n",
    "\n",
    "plt.plot(ts[:l],np.mean(trace.R_t,axis=0),color=\"green\")\n",
    "plt.fill_between(ts[:l],*np.percentile(trace.R_t,axis=0,q=(2.5,97.5)),alpha=.1,color=\"green\")\n",
    "\n",
    "print(np.mean(trace.beta),np.percentile(trace.beta,q=(2.5,97.5)))\n",
    "print(np.mean(trace.gamma),np.percentile(trace.gamma,q=(2.5,97.5)))\n",
    "#print(np.mean(trace.I0),np.percentile(trace.I0,q=(2.5,97.5)))\n",
    "print(np.mean(trace.N),np.percentile(trace.N,q=(2.5,97.5)))\n"
   ]
  },
  {
   "cell_type": "code",
   "execution_count": 77,
   "metadata": {
    "scrolled": false
   },
   "outputs": [
    {
     "name": "stdout",
     "output_type": "stream",
     "text": [
      "60 {}\n"
     ]
    },
    {
     "name": "stderr",
     "output_type": "stream",
     "text": [
      "Auto-assigning NUTS sampler...\n",
      "Initializing NUTS using advi+adapt_diag...\n"
     ]
    },
    {
     "data": {
      "text/html": [
       "\n",
       "    <div>\n",
       "        <style>\n",
       "            /* Turns off some styling */\n",
       "            progress {\n",
       "                /* gets rid of default border in Firefox and Opera. */\n",
       "                border: none;\n",
       "                /* Needs to be in here for Safari polyfill so background images work as expected. */\n",
       "                background-size: auto;\n",
       "            }\n",
       "            .progress-bar-interrupted, .progress-bar-interrupted::-webkit-progress-bar {\n",
       "                background: #F44336;\n",
       "            }\n",
       "        </style>\n",
       "      <progress value='8290' class='' max='200000' style='width:300px; height:20px; vertical-align: middle;'></progress>\n",
       "      4.14% [8290/200000 00:21<08:18 Average Loss = 375.81]\n",
       "    </div>\n",
       "    "
      ],
      "text/plain": [
       "<IPython.core.display.HTML object>"
      ]
     },
     "metadata": {},
     "output_type": "display_data"
    },
    {
     "name": "stderr",
     "output_type": "stream",
     "text": [
      "Convergence achieved at 8300\n",
      "Interrupted at 8,299 [4%]: Average Loss = 425.51\n",
      "Multiprocess sampling (4 chains in 4 jobs)\n",
      "NUTS: [sigma, I0, N, gamma, beta]\n"
     ]
    },
    {
     "data": {
      "text/html": [
       "\n",
       "    <div>\n",
       "        <style>\n",
       "            /* Turns off some styling */\n",
       "            progress {\n",
       "                /* gets rid of default border in Firefox and Opera. */\n",
       "                border: none;\n",
       "                /* Needs to be in here for Safari polyfill so background images work as expected. */\n",
       "                background-size: auto;\n",
       "            }\n",
       "            .progress-bar-interrupted, .progress-bar-interrupted::-webkit-progress-bar {\n",
       "                background: #F44336;\n",
       "            }\n",
       "        </style>\n",
       "      <progress value='9600' class='' max='9600' style='width:300px; height:20px; vertical-align: middle;'></progress>\n",
       "      100.00% [9600/9600 08:32<00:00 Sampling 4 chains, 0 divergences]\n",
       "    </div>\n",
       "    "
      ],
      "text/plain": [
       "<IPython.core.display.HTML object>"
      ]
     },
     "metadata": {},
     "output_type": "display_data"
    },
    {
     "name": "stderr",
     "output_type": "stream",
     "text": [
      "Sampling 4 chains for 1_200 tune and 1_200 draw iterations (4_800 + 4_800 draws total) took 521 seconds.\n",
      "The acceptance probability does not match the target. It is 0.6961661778279459, but should be close to 0.8. Try to increase the number of tuning steps.\n",
      "The acceptance probability does not match the target. It is 0.717808797074249, but should be close to 0.8. Try to increase the number of tuning steps.\n",
      "The rhat statistic is larger than 1.05 for some parameters. This indicates slight problems during sampling.\n",
      "The estimated number of effective samples is smaller than 200 for some parameters.\n"
     ]
    },
    {
     "name": "stdout",
     "output_type": "stream",
     "text": [
      "61 {'beta': 0.27716299418485607, 'gamma': 0.03992774604692791, 'N': 84972.63351613181}\n"
     ]
    },
    {
     "name": "stderr",
     "output_type": "stream",
     "text": [
      "Multiprocess sampling (4 chains in 4 jobs)\n",
      "NUTS: [sigma, I0, N, gamma, beta]\n"
     ]
    },
    {
     "data": {
      "text/html": [
       "\n",
       "    <div>\n",
       "        <style>\n",
       "            /* Turns off some styling */\n",
       "            progress {\n",
       "                /* gets rid of default border in Firefox and Opera. */\n",
       "                border: none;\n",
       "                /* Needs to be in here for Safari polyfill so background images work as expected. */\n",
       "                background-size: auto;\n",
       "            }\n",
       "            .progress-bar-interrupted, .progress-bar-interrupted::-webkit-progress-bar {\n",
       "                background: #F44336;\n",
       "            }\n",
       "        </style>\n",
       "      <progress value='9600' class='' max='9600' style='width:300px; height:20px; vertical-align: middle;'></progress>\n",
       "      100.00% [9600/9600 09:18<00:00 Sampling 4 chains, 0 divergences]\n",
       "    </div>\n",
       "    "
      ],
      "text/plain": [
       "<IPython.core.display.HTML object>"
      ]
     },
     "metadata": {},
     "output_type": "display_data"
    },
    {
     "name": "stderr",
     "output_type": "stream",
     "text": [
      "Sampling 4 chains for 1_200 tune and 1_200 draw iterations (4_800 + 4_800 draws total) took 567 seconds.\n",
      "The acceptance probability does not match the target. It is 0.681352854812306, but should be close to 0.8. Try to increase the number of tuning steps.\n",
      "The rhat statistic is larger than 1.05 for some parameters. This indicates slight problems during sampling.\n",
      "The estimated number of effective samples is smaller than 200 for some parameters.\n"
     ]
    },
    {
     "name": "stdout",
     "output_type": "stream",
     "text": [
      "62 {'beta': 0.28249370357823783, 'gamma': 0.047807156404099285, 'N': 87240.47809219913}\n"
     ]
    },
    {
     "name": "stderr",
     "output_type": "stream",
     "text": [
      "Multiprocess sampling (4 chains in 4 jobs)\n",
      "NUTS: [sigma, I0, N, gamma, beta]\n"
     ]
    },
    {
     "data": {
      "text/html": [
       "\n",
       "    <div>\n",
       "        <style>\n",
       "            /* Turns off some styling */\n",
       "            progress {\n",
       "                /* gets rid of default border in Firefox and Opera. */\n",
       "                border: none;\n",
       "                /* Needs to be in here for Safari polyfill so background images work as expected. */\n",
       "                background-size: auto;\n",
       "            }\n",
       "            .progress-bar-interrupted, .progress-bar-interrupted::-webkit-progress-bar {\n",
       "                background: #F44336;\n",
       "            }\n",
       "        </style>\n",
       "      <progress value='9600' class='' max='9600' style='width:300px; height:20px; vertical-align: middle;'></progress>\n",
       "      100.00% [9600/9600 09:34<00:00 Sampling 4 chains, 0 divergences]\n",
       "    </div>\n",
       "    "
      ],
      "text/plain": [
       "<IPython.core.display.HTML object>"
      ]
     },
     "metadata": {},
     "output_type": "display_data"
    },
    {
     "name": "stderr",
     "output_type": "stream",
     "text": [
      "Sampling 4 chains for 1_200 tune and 1_200 draw iterations (4_800 + 4_800 draws total) took 582 seconds.\n",
      "The acceptance probability does not match the target. It is 0.6984088390475711, but should be close to 0.8. Try to increase the number of tuning steps.\n",
      "The acceptance probability does not match the target. It is 0.5730277056913161, but should be close to 0.8. Try to increase the number of tuning steps.\n",
      "The rhat statistic is larger than 1.05 for some parameters. This indicates slight problems during sampling.\n",
      "The estimated number of effective samples is smaller than 200 for some parameters.\n"
     ]
    },
    {
     "name": "stdout",
     "output_type": "stream",
     "text": [
      "63 {'beta': 0.2767112522272197, 'gamma': 0.04783643739724085, 'N': 89324.64452461188}\n"
     ]
    },
    {
     "name": "stderr",
     "output_type": "stream",
     "text": [
      "Multiprocess sampling (4 chains in 4 jobs)\n",
      "NUTS: [sigma, I0, N, gamma, beta]\n"
     ]
    },
    {
     "data": {
      "text/html": [
       "\n",
       "    <div>\n",
       "        <style>\n",
       "            /* Turns off some styling */\n",
       "            progress {\n",
       "                /* gets rid of default border in Firefox and Opera. */\n",
       "                border: none;\n",
       "                /* Needs to be in here for Safari polyfill so background images work as expected. */\n",
       "                background-size: auto;\n",
       "            }\n",
       "            .progress-bar-interrupted, .progress-bar-interrupted::-webkit-progress-bar {\n",
       "                background: #F44336;\n",
       "            }\n",
       "        </style>\n",
       "      <progress value='9600' class='' max='9600' style='width:300px; height:20px; vertical-align: middle;'></progress>\n",
       "      100.00% [9600/9600 09:26<00:00 Sampling 4 chains, 0 divergences]\n",
       "    </div>\n",
       "    "
      ],
      "text/plain": [
       "<IPython.core.display.HTML object>"
      ]
     },
     "metadata": {},
     "output_type": "display_data"
    },
    {
     "name": "stderr",
     "output_type": "stream",
     "text": [
      "Sampling 4 chains for 1_200 tune and 1_200 draw iterations (4_800 + 4_800 draws total) took 576 seconds.\n",
      "The acceptance probability does not match the target. It is 0.4129100825222463, but should be close to 0.8. Try to increase the number of tuning steps.\n",
      "The acceptance probability does not match the target. It is 0.653485812780623, but should be close to 0.8. Try to increase the number of tuning steps.\n",
      "The rhat statistic is larger than 1.4 for some parameters. The sampler did not converge.\n",
      "The estimated number of effective samples is smaller than 200 for some parameters.\n"
     ]
    },
    {
     "name": "stdout",
     "output_type": "stream",
     "text": [
      "64 {'beta': 0.2809214477090912, 'gamma': 0.056439086520644964, 'N': 92671.89450584035}\n"
     ]
    },
    {
     "name": "stderr",
     "output_type": "stream",
     "text": [
      "Multiprocess sampling (4 chains in 4 jobs)\n",
      "NUTS: [sigma, I0, N, gamma, beta]\n"
     ]
    },
    {
     "data": {
      "text/html": [
       "\n",
       "    <div>\n",
       "        <style>\n",
       "            /* Turns off some styling */\n",
       "            progress {\n",
       "                /* gets rid of default border in Firefox and Opera. */\n",
       "                border: none;\n",
       "                /* Needs to be in here for Safari polyfill so background images work as expected. */\n",
       "                background-size: auto;\n",
       "            }\n",
       "            .progress-bar-interrupted, .progress-bar-interrupted::-webkit-progress-bar {\n",
       "                background: #F44336;\n",
       "            }\n",
       "        </style>\n",
       "      <progress value='9600' class='' max='9600' style='width:300px; height:20px; vertical-align: middle;'></progress>\n",
       "      100.00% [9600/9600 10:44<00:00 Sampling 4 chains, 0 divergences]\n",
       "    </div>\n",
       "    "
      ],
      "text/plain": [
       "<IPython.core.display.HTML object>"
      ]
     },
     "metadata": {},
     "output_type": "display_data"
    },
    {
     "name": "stderr",
     "output_type": "stream",
     "text": [
      "Sampling 4 chains for 1_200 tune and 1_200 draw iterations (4_800 + 4_800 draws total) took 653 seconds.\n",
      "The acceptance probability does not match the target. It is 0.6425421904012522, but should be close to 0.8. Try to increase the number of tuning steps.\n",
      "The acceptance probability does not match the target. It is 0.4173427889850534, but should be close to 0.8. Try to increase the number of tuning steps.\n",
      "The rhat statistic is larger than 1.2 for some parameters.\n",
      "The estimated number of effective samples is smaller than 200 for some parameters.\n"
     ]
    },
    {
     "name": "stdout",
     "output_type": "stream",
     "text": [
      "65 {'beta': 0.27487990561542996, 'gamma': 0.05541894031352906, 'N': 94459.96130499661}\n"
     ]
    },
    {
     "name": "stderr",
     "output_type": "stream",
     "text": [
      "Multiprocess sampling (4 chains in 4 jobs)\n",
      "NUTS: [sigma, I0, N, gamma, beta]\n"
     ]
    },
    {
     "data": {
      "text/html": [
       "\n",
       "    <div>\n",
       "        <style>\n",
       "            /* Turns off some styling */\n",
       "            progress {\n",
       "                /* gets rid of default border in Firefox and Opera. */\n",
       "                border: none;\n",
       "                /* Needs to be in here for Safari polyfill so background images work as expected. */\n",
       "                background-size: auto;\n",
       "            }\n",
       "            .progress-bar-interrupted, .progress-bar-interrupted::-webkit-progress-bar {\n",
       "                background: #F44336;\n",
       "            }\n",
       "        </style>\n",
       "      <progress value='9600' class='' max='9600' style='width:300px; height:20px; vertical-align: middle;'></progress>\n",
       "      100.00% [9600/9600 10:51<00:00 Sampling 4 chains, 3 divergences]\n",
       "    </div>\n",
       "    "
      ],
      "text/plain": [
       "<IPython.core.display.HTML object>"
      ]
     },
     "metadata": {},
     "output_type": "display_data"
    },
    {
     "name": "stderr",
     "output_type": "stream",
     "text": [
      "Sampling 4 chains for 1_200 tune and 1_200 draw iterations (4_800 + 4_800 draws total) took 662 seconds.\n",
      "There were 3 divergences after tuning. Increase `target_accept` or reparameterize.\n",
      "The acceptance probability does not match the target. It is 0.26530596177533494, but should be close to 0.8. Try to increase the number of tuning steps.\n",
      "The acceptance probability does not match the target. It is 0.631704978756074, but should be close to 0.8. Try to increase the number of tuning steps.\n",
      "The rhat statistic is larger than 1.2 for some parameters.\n",
      "The estimated number of effective samples is smaller than 200 for some parameters.\n"
     ]
    },
    {
     "name": "stdout",
     "output_type": "stream",
     "text": [
      "66 {'beta': 0.2753691178503995, 'gamma': 0.05813228491702751, 'N': 96072.34737053275}\n"
     ]
    },
    {
     "name": "stderr",
     "output_type": "stream",
     "text": [
      "Multiprocess sampling (4 chains in 4 jobs)\n",
      "NUTS: [sigma, I0, N, gamma, beta]\n"
     ]
    },
    {
     "data": {
      "text/html": [
       "\n",
       "    <div>\n",
       "        <style>\n",
       "            /* Turns off some styling */\n",
       "            progress {\n",
       "                /* gets rid of default border in Firefox and Opera. */\n",
       "                border: none;\n",
       "                /* Needs to be in here for Safari polyfill so background images work as expected. */\n",
       "                background-size: auto;\n",
       "            }\n",
       "            .progress-bar-interrupted, .progress-bar-interrupted::-webkit-progress-bar {\n",
       "                background: #F44336;\n",
       "            }\n",
       "        </style>\n",
       "      <progress value='9600' class='' max='9600' style='width:300px; height:20px; vertical-align: middle;'></progress>\n",
       "      100.00% [9600/9600 13:37<00:00 Sampling 4 chains, 0 divergences]\n",
       "    </div>\n",
       "    "
      ],
      "text/plain": [
       "<IPython.core.display.HTML object>"
      ]
     },
     "metadata": {},
     "output_type": "display_data"
    },
    {
     "name": "stderr",
     "output_type": "stream",
     "text": [
      "Sampling 4 chains for 1_200 tune and 1_200 draw iterations (4_800 + 4_800 draws total) took 827 seconds.\n",
      "The acceptance probability does not match the target. It is 0.5976360653159055, but should be close to 0.8. Try to increase the number of tuning steps.\n",
      "The rhat statistic is larger than 1.05 for some parameters. This indicates slight problems during sampling.\n",
      "The estimated number of effective samples is smaller than 200 for some parameters.\n"
     ]
    },
    {
     "name": "stdout",
     "output_type": "stream",
     "text": [
      "67 {'beta': 0.27266103988119594, 'gamma': 0.057599774300355455, 'N': 97521.14201812535}\n"
     ]
    },
    {
     "name": "stderr",
     "output_type": "stream",
     "text": [
      "Multiprocess sampling (4 chains in 4 jobs)\n",
      "NUTS: [sigma, I0, N, gamma, beta]\n"
     ]
    },
    {
     "data": {
      "text/html": [
       "\n",
       "    <div>\n",
       "        <style>\n",
       "            /* Turns off some styling */\n",
       "            progress {\n",
       "                /* gets rid of default border in Firefox and Opera. */\n",
       "                border: none;\n",
       "                /* Needs to be in here for Safari polyfill so background images work as expected. */\n",
       "                background-size: auto;\n",
       "            }\n",
       "            .progress-bar-interrupted, .progress-bar-interrupted::-webkit-progress-bar {\n",
       "                background: #F44336;\n",
       "            }\n",
       "        </style>\n",
       "      <progress value='9600' class='' max='9600' style='width:300px; height:20px; vertical-align: middle;'></progress>\n",
       "      100.00% [9600/9600 12:51<00:00 Sampling 4 chains, 2 divergences]\n",
       "    </div>\n",
       "    "
      ],
      "text/plain": [
       "<IPython.core.display.HTML object>"
      ]
     },
     "metadata": {},
     "output_type": "display_data"
    },
    {
     "name": "stderr",
     "output_type": "stream",
     "text": [
      "Sampling 4 chains for 1_200 tune and 1_200 draw iterations (4_800 + 4_800 draws total) took 781 seconds.\n",
      "There was 1 divergence after tuning. Increase `target_accept` or reparameterize.\n",
      "The acceptance probability does not match the target. It is 0.5037755326921859, but should be close to 0.8. Try to increase the number of tuning steps.\n",
      "There was 1 divergence after tuning. Increase `target_accept` or reparameterize.\n",
      "The acceptance probability does not match the target. It is 0.533584395104393, but should be close to 0.8. Try to increase the number of tuning steps.\n",
      "The acceptance probability does not match the target. It is 0.644206128190497, but should be close to 0.8. Try to increase the number of tuning steps.\n",
      "The rhat statistic is larger than 1.2 for some parameters.\n",
      "The estimated number of effective samples is smaller than 200 for some parameters.\n"
     ]
    },
    {
     "name": "stdout",
     "output_type": "stream",
     "text": [
      "68 {'beta': 0.28317091814447165, 'gamma': 0.07186582619319594, 'N': 100666.34072818136}\n"
     ]
    },
    {
     "name": "stderr",
     "output_type": "stream",
     "text": [
      "Multiprocess sampling (4 chains in 4 jobs)\n",
      "NUTS: [sigma, I0, N, gamma, beta]\n"
     ]
    },
    {
     "data": {
      "text/html": [
       "\n",
       "    <div>\n",
       "        <style>\n",
       "            /* Turns off some styling */\n",
       "            progress {\n",
       "                /* gets rid of default border in Firefox and Opera. */\n",
       "                border: none;\n",
       "                /* Needs to be in here for Safari polyfill so background images work as expected. */\n",
       "                background-size: auto;\n",
       "            }\n",
       "            .progress-bar-interrupted, .progress-bar-interrupted::-webkit-progress-bar {\n",
       "                background: #F44336;\n",
       "            }\n",
       "        </style>\n",
       "      <progress value='9600' class='' max='9600' style='width:300px; height:20px; vertical-align: middle;'></progress>\n",
       "      100.00% [9600/9600 11:48<00:00 Sampling 4 chains, 0 divergences]\n",
       "    </div>\n",
       "    "
      ],
      "text/plain": [
       "<IPython.core.display.HTML object>"
      ]
     },
     "metadata": {},
     "output_type": "display_data"
    },
    {
     "name": "stderr",
     "output_type": "stream",
     "text": [
      "Sampling 4 chains for 1_200 tune and 1_200 draw iterations (4_800 + 4_800 draws total) took 718 seconds.\n",
      "The acceptance probability does not match the target. It is 0.6448794805285242, but should be close to 0.8. Try to increase the number of tuning steps.\n",
      "The rhat statistic is larger than 1.2 for some parameters.\n",
      "The estimated number of effective samples is smaller than 200 for some parameters.\n"
     ]
    },
    {
     "name": "stdout",
     "output_type": "stream",
     "text": [
      "69 {'beta': 0.27534906065030906, 'gamma': 0.06499360450572766, 'N': 100885.23654214032}\n"
     ]
    },
    {
     "name": "stderr",
     "output_type": "stream",
     "text": [
      "Multiprocess sampling (4 chains in 4 jobs)\n",
      "NUTS: [sigma, I0, N, gamma, beta]\n"
     ]
    },
    {
     "data": {
      "text/html": [
       "\n",
       "    <div>\n",
       "        <style>\n",
       "            /* Turns off some styling */\n",
       "            progress {\n",
       "                /* gets rid of default border in Firefox and Opera. */\n",
       "                border: none;\n",
       "                /* Needs to be in here for Safari polyfill so background images work as expected. */\n",
       "                background-size: auto;\n",
       "            }\n",
       "            .progress-bar-interrupted, .progress-bar-interrupted::-webkit-progress-bar {\n",
       "                background: #F44336;\n",
       "            }\n",
       "        </style>\n",
       "      <progress value='9600' class='' max='9600' style='width:300px; height:20px; vertical-align: middle;'></progress>\n",
       "      100.00% [9600/9600 10:11<00:00 Sampling 4 chains, 2 divergences]\n",
       "    </div>\n",
       "    "
      ],
      "text/plain": [
       "<IPython.core.display.HTML object>"
      ]
     },
     "metadata": {},
     "output_type": "display_data"
    },
    {
     "name": "stderr",
     "output_type": "stream",
     "text": [
      "Sampling 4 chains for 1_200 tune and 1_200 draw iterations (4_800 + 4_800 draws total) took 620 seconds.\n",
      "The acceptance probability does not match the target. It is 0.6288664355835256, but should be close to 0.8. Try to increase the number of tuning steps.\n",
      "There were 2 divergences after tuning. Increase `target_accept` or reparameterize.\n",
      "The acceptance probability does not match the target. It is 0.3215620793723423, but should be close to 0.8. Try to increase the number of tuning steps.\n",
      "The acceptance probability does not match the target. It is 0.7134816546530783, but should be close to 0.8. Try to increase the number of tuning steps.\n",
      "The rhat statistic is larger than 1.2 for some parameters.\n",
      "The estimated number of effective samples is smaller than 200 for some parameters.\n"
     ]
    },
    {
     "name": "stdout",
     "output_type": "stream",
     "text": [
      "70 {'beta': 0.27175312622118963, 'gamma': 0.06499015328554049, 'N': 102514.1353478349}\n"
     ]
    },
    {
     "name": "stderr",
     "output_type": "stream",
     "text": [
      "Multiprocess sampling (4 chains in 4 jobs)\n",
      "NUTS: [sigma, I0, N, gamma, beta]\n"
     ]
    },
    {
     "data": {
      "text/html": [
       "\n",
       "    <div>\n",
       "        <style>\n",
       "            /* Turns off some styling */\n",
       "            progress {\n",
       "                /* gets rid of default border in Firefox and Opera. */\n",
       "                border: none;\n",
       "                /* Needs to be in here for Safari polyfill so background images work as expected. */\n",
       "                background-size: auto;\n",
       "            }\n",
       "            .progress-bar-interrupted, .progress-bar-interrupted::-webkit-progress-bar {\n",
       "                background: #F44336;\n",
       "            }\n",
       "        </style>\n",
       "      <progress value='9600' class='' max='9600' style='width:300px; height:20px; vertical-align: middle;'></progress>\n",
       "      100.00% [9600/9600 08:18<00:00 Sampling 4 chains, 1 divergences]\n",
       "    </div>\n",
       "    "
      ],
      "text/plain": [
       "<IPython.core.display.HTML object>"
      ]
     },
     "metadata": {},
     "output_type": "display_data"
    },
    {
     "name": "stderr",
     "output_type": "stream",
     "text": [
      "Sampling 4 chains for 1_200 tune and 1_200 draw iterations (4_800 + 4_800 draws total) took 506 seconds.\n",
      "The acceptance probability does not match the target. It is 0.5369972377769492, but should be close to 0.8. Try to increase the number of tuning steps.\n",
      "There was 1 divergence after tuning. Increase `target_accept` or reparameterize.\n",
      "The acceptance probability does not match the target. It is 0.43821602712256585, but should be close to 0.8. Try to increase the number of tuning steps.\n",
      "The acceptance probability does not match the target. It is 0.434183878360782, but should be close to 0.8. Try to increase the number of tuning steps.\n",
      "The acceptance probability does not match the target. It is 0.5942508029400746, but should be close to 0.8. Try to increase the number of tuning steps.\n",
      "The rhat statistic is larger than 1.4 for some parameters. The sampler did not converge.\n",
      "The estimated number of effective samples is smaller than 200 for some parameters.\n"
     ]
    },
    {
     "name": "stdout",
     "output_type": "stream",
     "text": [
      "71 {'beta': 0.2817122549434919, 'gamma': 0.07629336464607363, 'N': 105314.10093569633}\n"
     ]
    },
    {
     "name": "stderr",
     "output_type": "stream",
     "text": [
      "Multiprocess sampling (4 chains in 4 jobs)\n",
      "NUTS: [sigma, I0, N, gamma, beta]\n"
     ]
    },
    {
     "data": {
      "text/html": [
       "\n",
       "    <div>\n",
       "        <style>\n",
       "            /* Turns off some styling */\n",
       "            progress {\n",
       "                /* gets rid of default border in Firefox and Opera. */\n",
       "                border: none;\n",
       "                /* Needs to be in here for Safari polyfill so background images work as expected. */\n",
       "                background-size: auto;\n",
       "            }\n",
       "            .progress-bar-interrupted, .progress-bar-interrupted::-webkit-progress-bar {\n",
       "                background: #F44336;\n",
       "            }\n",
       "        </style>\n",
       "      <progress value='9600' class='' max='9600' style='width:300px; height:20px; vertical-align: middle;'></progress>\n",
       "      100.00% [9600/9600 11:22<00:00 Sampling 4 chains, 10 divergences]\n",
       "    </div>\n",
       "    "
      ],
      "text/plain": [
       "<IPython.core.display.HTML object>"
      ]
     },
     "metadata": {},
     "output_type": "display_data"
    },
    {
     "name": "stderr",
     "output_type": "stream",
     "text": [
      "Sampling 4 chains for 1_200 tune and 1_200 draw iterations (4_800 + 4_800 draws total) took 691 seconds.\n",
      "The acceptance probability does not match the target. It is 0.7212846047604305, but should be close to 0.8. Try to increase the number of tuning steps.\n",
      "There were 10 divergences after tuning. Increase `target_accept` or reparameterize.\n",
      "The acceptance probability does not match the target. It is 0.041064204814048814, but should be close to 0.8. Try to increase the number of tuning steps.\n",
      "The acceptance probability does not match the target. It is 0.697001142773434, but should be close to 0.8. Try to increase the number of tuning steps.\n",
      "The rhat statistic is larger than 1.4 for some parameters. The sampler did not converge.\n",
      "The estimated number of effective samples is smaller than 200 for some parameters.\n"
     ]
    },
    {
     "name": "stdout",
     "output_type": "stream",
     "text": [
      "72 {'beta': 0.2905309548765383, 'gamma': 0.08847275187144253, 'N': 108785.70115404802}\n"
     ]
    },
    {
     "name": "stderr",
     "output_type": "stream",
     "text": [
      "Multiprocess sampling (4 chains in 4 jobs)\n",
      "NUTS: [sigma, I0, N, gamma, beta]\n"
     ]
    },
    {
     "data": {
      "text/html": [
       "\n",
       "    <div>\n",
       "        <style>\n",
       "            /* Turns off some styling */\n",
       "            progress {\n",
       "                /* gets rid of default border in Firefox and Opera. */\n",
       "                border: none;\n",
       "                /* Needs to be in here for Safari polyfill so background images work as expected. */\n",
       "                background-size: auto;\n",
       "            }\n",
       "            .progress-bar-interrupted, .progress-bar-interrupted::-webkit-progress-bar {\n",
       "                background: #F44336;\n",
       "            }\n",
       "        </style>\n",
       "      <progress value='9600' class='' max='9600' style='width:300px; height:20px; vertical-align: middle;'></progress>\n",
       "      100.00% [9600/9600 11:12<00:00 Sampling 4 chains, 4 divergences]\n",
       "    </div>\n",
       "    "
      ],
      "text/plain": [
       "<IPython.core.display.HTML object>"
      ]
     },
     "metadata": {},
     "output_type": "display_data"
    },
    {
     "name": "stderr",
     "output_type": "stream",
     "text": [
      "Sampling 4 chains for 1_200 tune and 1_200 draw iterations (4_800 + 4_800 draws total) took 681 seconds.\n",
      "There were 4 divergences after tuning. Increase `target_accept` or reparameterize.\n",
      "The acceptance probability does not match the target. It is 0.19165465671787899, but should be close to 0.8. Try to increase the number of tuning steps.\n",
      "The acceptance probability does not match the target. It is 0.7209880331136991, but should be close to 0.8. Try to increase the number of tuning steps.\n",
      "The acceptance probability does not match the target. It is 0.5193004354513868, but should be close to 0.8. Try to increase the number of tuning steps.\n",
      "The rhat statistic is larger than 1.2 for some parameters.\n",
      "The estimated number of effective samples is smaller than 200 for some parameters.\n"
     ]
    },
    {
     "name": "stdout",
     "output_type": "stream",
     "text": [
      "73 {'beta': 0.29805646809721226, 'gamma': 0.09556270974655899, 'N': 110581.1851880867}\n"
     ]
    },
    {
     "name": "stderr",
     "output_type": "stream",
     "text": [
      "Multiprocess sampling (4 chains in 4 jobs)\n",
      "NUTS: [sigma, I0, N, gamma, beta]\n"
     ]
    },
    {
     "data": {
      "text/html": [
       "\n",
       "    <div>\n",
       "        <style>\n",
       "            /* Turns off some styling */\n",
       "            progress {\n",
       "                /* gets rid of default border in Firefox and Opera. */\n",
       "                border: none;\n",
       "                /* Needs to be in here for Safari polyfill so background images work as expected. */\n",
       "                background-size: auto;\n",
       "            }\n",
       "            .progress-bar-interrupted, .progress-bar-interrupted::-webkit-progress-bar {\n",
       "                background: #F44336;\n",
       "            }\n",
       "        </style>\n",
       "      <progress value='9600' class='' max='9600' style='width:300px; height:20px; vertical-align: middle;'></progress>\n",
       "      100.00% [9600/9600 11:34<00:00 Sampling 4 chains, 1 divergences]\n",
       "    </div>\n",
       "    "
      ],
      "text/plain": [
       "<IPython.core.display.HTML object>"
      ]
     },
     "metadata": {},
     "output_type": "display_data"
    },
    {
     "name": "stderr",
     "output_type": "stream",
     "text": [
      "Sampling 4 chains for 1_200 tune and 1_200 draw iterations (4_800 + 4_800 draws total) took 702 seconds.\n",
      "The acceptance probability does not match the target. It is 0.5486214978973976, but should be close to 0.8. Try to increase the number of tuning steps.\n",
      "The acceptance probability does not match the target. It is 0.7090609982077175, but should be close to 0.8. Try to increase the number of tuning steps.\n",
      "There was 1 divergence after tuning. Increase `target_accept` or reparameterize.\n",
      "The rhat statistic is larger than 1.05 for some parameters. This indicates slight problems during sampling.\n",
      "The estimated number of effective samples is smaller than 200 for some parameters.\n"
     ]
    },
    {
     "name": "stdout",
     "output_type": "stream",
     "text": [
      "74 {'beta': 0.2755763245751378, 'gamma': 0.07564110683107816, 'N': 109030.49082863201}\n"
     ]
    },
    {
     "name": "stderr",
     "output_type": "stream",
     "text": [
      "Multiprocess sampling (4 chains in 4 jobs)\n",
      "NUTS: [sigma, I0, N, gamma, beta]\n"
     ]
    },
    {
     "data": {
      "text/html": [
       "\n",
       "    <div>\n",
       "        <style>\n",
       "            /* Turns off some styling */\n",
       "            progress {\n",
       "                /* gets rid of default border in Firefox and Opera. */\n",
       "                border: none;\n",
       "                /* Needs to be in here for Safari polyfill so background images work as expected. */\n",
       "                background-size: auto;\n",
       "            }\n",
       "            .progress-bar-interrupted, .progress-bar-interrupted::-webkit-progress-bar {\n",
       "                background: #F44336;\n",
       "            }\n",
       "        </style>\n",
       "      <progress value='9600' class='' max='9600' style='width:300px; height:20px; vertical-align: middle;'></progress>\n",
       "      100.00% [9600/9600 13:02<00:00 Sampling 4 chains, 2 divergences]\n",
       "    </div>\n",
       "    "
      ],
      "text/plain": [
       "<IPython.core.display.HTML object>"
      ]
     },
     "metadata": {},
     "output_type": "display_data"
    },
    {
     "name": "stderr",
     "output_type": "stream",
     "text": [
      "Sampling 4 chains for 1_200 tune and 1_200 draw iterations (4_800 + 4_800 draws total) took 790 seconds.\n",
      "The acceptance probability does not match the target. It is 0.883618427940584, but should be close to 0.8. Try to increase the number of tuning steps.\n",
      "There was 1 divergence after tuning. Increase `target_accept` or reparameterize.\n",
      "The acceptance probability does not match the target. It is 0.6084389187385753, but should be close to 0.8. Try to increase the number of tuning steps.\n",
      "There was 1 divergence after tuning. Increase `target_accept` or reparameterize.\n",
      "The acceptance probability does not match the target. It is 0.7073385082856141, but should be close to 0.8. Try to increase the number of tuning steps.\n",
      "The rhat statistic is larger than 1.05 for some parameters. This indicates slight problems during sampling.\n",
      "The estimated number of effective samples is smaller than 200 for some parameters.\n"
     ]
    },
    {
     "name": "stdout",
     "output_type": "stream",
     "text": [
      "75 {'beta': 0.28573915049956866, 'gamma': 0.08903587656777265, 'N': 112368.38605172605}\n"
     ]
    },
    {
     "name": "stderr",
     "output_type": "stream",
     "text": [
      "Multiprocess sampling (4 chains in 4 jobs)\n",
      "NUTS: [sigma, I0, N, gamma, beta]\n"
     ]
    },
    {
     "data": {
      "text/html": [
       "\n",
       "    <div>\n",
       "        <style>\n",
       "            /* Turns off some styling */\n",
       "            progress {\n",
       "                /* gets rid of default border in Firefox and Opera. */\n",
       "                border: none;\n",
       "                /* Needs to be in here for Safari polyfill so background images work as expected. */\n",
       "                background-size: auto;\n",
       "            }\n",
       "            .progress-bar-interrupted, .progress-bar-interrupted::-webkit-progress-bar {\n",
       "                background: #F44336;\n",
       "            }\n",
       "        </style>\n",
       "      <progress value='9600' class='' max='9600' style='width:300px; height:20px; vertical-align: middle;'></progress>\n",
       "      100.00% [9600/9600 12:31<00:00 Sampling 4 chains, 16 divergences]\n",
       "    </div>\n",
       "    "
      ],
      "text/plain": [
       "<IPython.core.display.HTML object>"
      ]
     },
     "metadata": {},
     "output_type": "display_data"
    },
    {
     "name": "stderr",
     "output_type": "stream",
     "text": [
      "Sampling 4 chains for 1_200 tune and 1_200 draw iterations (4_800 + 4_800 draws total) took 760 seconds.\n",
      "There were 16 divergences after tuning. Increase `target_accept` or reparameterize.\n",
      "The acceptance probability does not match the target. It is 0.0971273167289392, but should be close to 0.8. Try to increase the number of tuning steps.\n",
      "The rhat statistic is larger than 1.4 for some parameters. The sampler did not converge.\n",
      "The estimated number of effective samples is smaller than 200 for some parameters.\n"
     ]
    },
    {
     "name": "stdout",
     "output_type": "stream",
     "text": [
      "76 {'beta': 0.2860599727659079, 'gamma': 0.09078629887088499, 'N': 113702.43905959418}\n"
     ]
    },
    {
     "name": "stderr",
     "output_type": "stream",
     "text": [
      "Multiprocess sampling (4 chains in 4 jobs)\n",
      "NUTS: [sigma, I0, N, gamma, beta]\n"
     ]
    },
    {
     "data": {
      "text/html": [
       "\n",
       "    <div>\n",
       "        <style>\n",
       "            /* Turns off some styling */\n",
       "            progress {\n",
       "                /* gets rid of default border in Firefox and Opera. */\n",
       "                border: none;\n",
       "                /* Needs to be in here for Safari polyfill so background images work as expected. */\n",
       "                background-size: auto;\n",
       "            }\n",
       "            .progress-bar-interrupted, .progress-bar-interrupted::-webkit-progress-bar {\n",
       "                background: #F44336;\n",
       "            }\n",
       "        </style>\n",
       "      <progress value='9600' class='' max='9600' style='width:300px; height:20px; vertical-align: middle;'></progress>\n",
       "      100.00% [9600/9600 10:56<00:00 Sampling 4 chains, 1 divergences]\n",
       "    </div>\n",
       "    "
      ],
      "text/plain": [
       "<IPython.core.display.HTML object>"
      ]
     },
     "metadata": {},
     "output_type": "display_data"
    },
    {
     "name": "stderr",
     "output_type": "stream",
     "text": [
      "Sampling 4 chains for 1_200 tune and 1_200 draw iterations (4_800 + 4_800 draws total) took 665 seconds.\n",
      "The acceptance probability does not match the target. It is 0.5450984374971406, but should be close to 0.8. Try to increase the number of tuning steps.\n",
      "There was 1 divergence after tuning. Increase `target_accept` or reparameterize.\n",
      "The acceptance probability does not match the target. It is 0.7153628254992279, but should be close to 0.8. Try to increase the number of tuning steps.\n",
      "The acceptance probability does not match the target. It is 0.6793339205253767, but should be close to 0.8. Try to increase the number of tuning steps.\n",
      "The rhat statistic is larger than 1.05 for some parameters. This indicates slight problems during sampling.\n",
      "The estimated number of effective samples is smaller than 200 for some parameters.\n"
     ]
    },
    {
     "name": "stdout",
     "output_type": "stream",
     "text": [
      "77 {'beta': 0.2705407548605932, 'gamma': 0.07840192010385998, 'N': 113192.4766725262}\n"
     ]
    },
    {
     "name": "stderr",
     "output_type": "stream",
     "text": [
      "Multiprocess sampling (4 chains in 4 jobs)\n",
      "NUTS: [sigma, I0, N, gamma, beta]\n"
     ]
    },
    {
     "data": {
      "text/html": [
       "\n",
       "    <div>\n",
       "        <style>\n",
       "            /* Turns off some styling */\n",
       "            progress {\n",
       "                /* gets rid of default border in Firefox and Opera. */\n",
       "                border: none;\n",
       "                /* Needs to be in here for Safari polyfill so background images work as expected. */\n",
       "                background-size: auto;\n",
       "            }\n",
       "            .progress-bar-interrupted, .progress-bar-interrupted::-webkit-progress-bar {\n",
       "                background: #F44336;\n",
       "            }\n",
       "        </style>\n",
       "      <progress value='9600' class='' max='9600' style='width:300px; height:20px; vertical-align: middle;'></progress>\n",
       "      100.00% [9600/9600 13:11<00:00 Sampling 4 chains, 0 divergences]\n",
       "    </div>\n",
       "    "
      ],
      "text/plain": [
       "<IPython.core.display.HTML object>"
      ]
     },
     "metadata": {},
     "output_type": "display_data"
    },
    {
     "name": "stderr",
     "output_type": "stream",
     "text": [
      "Sampling 4 chains for 1_200 tune and 1_200 draw iterations (4_800 + 4_800 draws total) took 800 seconds.\n",
      "The rhat statistic is larger than 1.05 for some parameters. This indicates slight problems during sampling.\n",
      "The estimated number of effective samples is smaller than 200 for some parameters.\n"
     ]
    },
    {
     "name": "stdout",
     "output_type": "stream",
     "text": [
      "78 {'beta': 0.28466155328713294, 'gamma': 0.09327860165683911, 'N': 116315.57653391242}\n"
     ]
    },
    {
     "name": "stderr",
     "output_type": "stream",
     "text": [
      "Multiprocess sampling (4 chains in 4 jobs)\n",
      "NUTS: [sigma, I0, N, gamma, beta]\n"
     ]
    },
    {
     "data": {
      "text/html": [
       "\n",
       "    <div>\n",
       "        <style>\n",
       "            /* Turns off some styling */\n",
       "            progress {\n",
       "                /* gets rid of default border in Firefox and Opera. */\n",
       "                border: none;\n",
       "                /* Needs to be in here for Safari polyfill so background images work as expected. */\n",
       "                background-size: auto;\n",
       "            }\n",
       "            .progress-bar-interrupted, .progress-bar-interrupted::-webkit-progress-bar {\n",
       "                background: #F44336;\n",
       "            }\n",
       "        </style>\n",
       "      <progress value='9600' class='' max='9600' style='width:300px; height:20px; vertical-align: middle;'></progress>\n",
       "      100.00% [9600/9600 13:19<00:00 Sampling 4 chains, 0 divergences]\n",
       "    </div>\n",
       "    "
      ],
      "text/plain": [
       "<IPython.core.display.HTML object>"
      ]
     },
     "metadata": {},
     "output_type": "display_data"
    },
    {
     "name": "stderr",
     "output_type": "stream",
     "text": [
      "Sampling 4 chains for 1_200 tune and 1_200 draw iterations (4_800 + 4_800 draws total) took 808 seconds.\n",
      "The acceptance probability does not match the target. It is 0.6247271779652355, but should be close to 0.8. Try to increase the number of tuning steps.\n",
      "The rhat statistic is larger than 1.05 for some parameters. This indicates slight problems during sampling.\n",
      "The estimated number of effective samples is smaller than 200 for some parameters.\n"
     ]
    },
    {
     "name": "stdout",
     "output_type": "stream",
     "text": [
      "79 {'beta': 0.291139797746841, 'gamma': 0.10132287135335304, 'N': 118664.68128644372}\n"
     ]
    },
    {
     "name": "stderr",
     "output_type": "stream",
     "text": [
      "Multiprocess sampling (4 chains in 4 jobs)\n",
      "NUTS: [sigma, I0, N, gamma, beta]\n"
     ]
    },
    {
     "data": {
      "text/html": [
       "\n",
       "    <div>\n",
       "        <style>\n",
       "            /* Turns off some styling */\n",
       "            progress {\n",
       "                /* gets rid of default border in Firefox and Opera. */\n",
       "                border: none;\n",
       "                /* Needs to be in here for Safari polyfill so background images work as expected. */\n",
       "                background-size: auto;\n",
       "            }\n",
       "            .progress-bar-interrupted, .progress-bar-interrupted::-webkit-progress-bar {\n",
       "                background: #F44336;\n",
       "            }\n",
       "        </style>\n",
       "      <progress value='9600' class='' max='9600' style='width:300px; height:20px; vertical-align: middle;'></progress>\n",
       "      100.00% [9600/9600 12:45<00:00 Sampling 4 chains, 2 divergences]\n",
       "    </div>\n",
       "    "
      ],
      "text/plain": [
       "<IPython.core.display.HTML object>"
      ]
     },
     "metadata": {},
     "output_type": "display_data"
    },
    {
     "name": "stderr",
     "output_type": "stream",
     "text": [
      "Sampling 4 chains for 1_200 tune and 1_200 draw iterations (4_800 + 4_800 draws total) took 773 seconds.\n",
      "The acceptance probability does not match the target. It is 0.4921369616980575, but should be close to 0.8. Try to increase the number of tuning steps.\n",
      "There were 2 divergences after tuning. Increase `target_accept` or reparameterize.\n",
      "The acceptance probability does not match the target. It is 0.5130149971148901, but should be close to 0.8. Try to increase the number of tuning steps.\n",
      "The rhat statistic is larger than 1.4 for some parameters. The sampler did not converge.\n",
      "The estimated number of effective samples is smaller than 200 for some parameters.\n"
     ]
    },
    {
     "name": "stdout",
     "output_type": "stream",
     "text": [
      "80 {'beta': 0.27864970895742774, 'gamma': 0.09295299226235842, 'N': 118765.38526371174}\n"
     ]
    },
    {
     "name": "stderr",
     "output_type": "stream",
     "text": [
      "Multiprocess sampling (4 chains in 4 jobs)\n",
      "NUTS: [sigma, I0, N, gamma, beta]\n"
     ]
    },
    {
     "data": {
      "text/html": [
       "\n",
       "    <div>\n",
       "        <style>\n",
       "            /* Turns off some styling */\n",
       "            progress {\n",
       "                /* gets rid of default border in Firefox and Opera. */\n",
       "                border: none;\n",
       "                /* Needs to be in here for Safari polyfill so background images work as expected. */\n",
       "                background-size: auto;\n",
       "            }\n",
       "            .progress-bar-interrupted, .progress-bar-interrupted::-webkit-progress-bar {\n",
       "                background: #F44336;\n",
       "            }\n",
       "        </style>\n",
       "      <progress value='9600' class='' max='9600' style='width:300px; height:20px; vertical-align: middle;'></progress>\n",
       "      100.00% [9600/9600 12:55<00:00 Sampling 4 chains, 0 divergences]\n",
       "    </div>\n",
       "    "
      ],
      "text/plain": [
       "<IPython.core.display.HTML object>"
      ]
     },
     "metadata": {},
     "output_type": "display_data"
    },
    {
     "name": "stderr",
     "output_type": "stream",
     "text": [
      "Sampling 4 chains for 1_200 tune and 1_200 draw iterations (4_800 + 4_800 draws total) took 783 seconds.\n",
      "The acceptance probability does not match the target. It is 0.5042083576960124, but should be close to 0.8. Try to increase the number of tuning steps.\n",
      "The acceptance probability does not match the target. It is 0.6499757329509324, but should be close to 0.8. Try to increase the number of tuning steps.\n",
      "The acceptance probability does not match the target. It is 0.6694255573224162, but should be close to 0.8. Try to increase the number of tuning steps.\n",
      "The rhat statistic is larger than 1.05 for some parameters. This indicates slight problems during sampling.\n",
      "The estimated number of effective samples is smaller than 200 for some parameters.\n"
     ]
    },
    {
     "name": "stdout",
     "output_type": "stream",
     "text": [
      "81 {'beta': 0.2933308885983386, 'gamma': 0.10728855702515117, 'N': 121696.46533127516}\n"
     ]
    },
    {
     "name": "stderr",
     "output_type": "stream",
     "text": [
      "Multiprocess sampling (4 chains in 4 jobs)\n",
      "NUTS: [sigma, I0, N, gamma, beta]\n"
     ]
    },
    {
     "data": {
      "text/html": [
       "\n",
       "    <div>\n",
       "        <style>\n",
       "            /* Turns off some styling */\n",
       "            progress {\n",
       "                /* gets rid of default border in Firefox and Opera. */\n",
       "                border: none;\n",
       "                /* Needs to be in here for Safari polyfill so background images work as expected. */\n",
       "                background-size: auto;\n",
       "            }\n",
       "            .progress-bar-interrupted, .progress-bar-interrupted::-webkit-progress-bar {\n",
       "                background: #F44336;\n",
       "            }\n",
       "        </style>\n",
       "      <progress value='9600' class='' max='9600' style='width:300px; height:20px; vertical-align: middle;'></progress>\n",
       "      100.00% [9600/9600 12:49<00:00 Sampling 4 chains, 2 divergences]\n",
       "    </div>\n",
       "    "
      ],
      "text/plain": [
       "<IPython.core.display.HTML object>"
      ]
     },
     "metadata": {},
     "output_type": "display_data"
    },
    {
     "name": "stderr",
     "output_type": "stream",
     "text": [
      "Sampling 4 chains for 1_200 tune and 1_200 draw iterations (4_800 + 4_800 draws total) took 778 seconds.\n",
      "There was 1 divergence after tuning. Increase `target_accept` or reparameterize.\n",
      "The acceptance probability does not match the target. It is 0.49904534214115176, but should be close to 0.8. Try to increase the number of tuning steps.\n",
      "There was 1 divergence after tuning. Increase `target_accept` or reparameterize.\n",
      "The acceptance probability does not match the target. It is 0.26889026812985756, but should be close to 0.8. Try to increase the number of tuning steps.\n",
      "The rhat statistic is larger than 1.4 for some parameters. The sampler did not converge.\n",
      "The estimated number of effective samples is smaller than 200 for some parameters.\n"
     ]
    },
    {
     "name": "stdout",
     "output_type": "stream",
     "text": [
      "82 {'beta': 0.3037887498476106, 'gamma': 0.1185447333625866, 'N': 124629.25854641094}\n"
     ]
    },
    {
     "name": "stderr",
     "output_type": "stream",
     "text": [
      "Multiprocess sampling (4 chains in 4 jobs)\n",
      "NUTS: [sigma, I0, N, gamma, beta]\n"
     ]
    },
    {
     "data": {
      "text/html": [
       "\n",
       "    <div>\n",
       "        <style>\n",
       "            /* Turns off some styling */\n",
       "            progress {\n",
       "                /* gets rid of default border in Firefox and Opera. */\n",
       "                border: none;\n",
       "                /* Needs to be in here for Safari polyfill so background images work as expected. */\n",
       "                background-size: auto;\n",
       "            }\n",
       "            .progress-bar-interrupted, .progress-bar-interrupted::-webkit-progress-bar {\n",
       "                background: #F44336;\n",
       "            }\n",
       "        </style>\n",
       "      <progress value='9600' class='' max='9600' style='width:300px; height:20px; vertical-align: middle;'></progress>\n",
       "      100.00% [9600/9600 13:40<00:00 Sampling 4 chains, 0 divergences]\n",
       "    </div>\n",
       "    "
      ],
      "text/plain": [
       "<IPython.core.display.HTML object>"
      ]
     },
     "metadata": {},
     "output_type": "display_data"
    },
    {
     "name": "stderr",
     "output_type": "stream",
     "text": [
      "Sampling 4 chains for 1_200 tune and 1_200 draw iterations (4_800 + 4_800 draws total) took 829 seconds.\n",
      "The acceptance probability does not match the target. It is 0.5283948978765506, but should be close to 0.8. Try to increase the number of tuning steps.\n",
      "The rhat statistic is larger than 1.05 for some parameters. This indicates slight problems during sampling.\n",
      "The estimated number of effective samples is smaller than 200 for some parameters.\n"
     ]
    },
    {
     "name": "stdout",
     "output_type": "stream",
     "text": [
      "83 {'beta': 0.293388109521028, 'gamma': 0.10913714840444072, 'N': 123672.64860068589}\n"
     ]
    },
    {
     "name": "stderr",
     "output_type": "stream",
     "text": [
      "Multiprocess sampling (4 chains in 4 jobs)\n",
      "NUTS: [sigma, I0, N, gamma, beta]\n"
     ]
    },
    {
     "data": {
      "text/html": [
       "\n",
       "    <div>\n",
       "        <style>\n",
       "            /* Turns off some styling */\n",
       "            progress {\n",
       "                /* gets rid of default border in Firefox and Opera. */\n",
       "                border: none;\n",
       "                /* Needs to be in here for Safari polyfill so background images work as expected. */\n",
       "                background-size: auto;\n",
       "            }\n",
       "            .progress-bar-interrupted, .progress-bar-interrupted::-webkit-progress-bar {\n",
       "                background: #F44336;\n",
       "            }\n",
       "        </style>\n",
       "      <progress value='9600' class='' max='9600' style='width:300px; height:20px; vertical-align: middle;'></progress>\n",
       "      100.00% [9600/9600 13:48<00:00 Sampling 4 chains, 0 divergences]\n",
       "    </div>\n",
       "    "
      ],
      "text/plain": [
       "<IPython.core.display.HTML object>"
      ]
     },
     "metadata": {},
     "output_type": "display_data"
    },
    {
     "name": "stderr",
     "output_type": "stream",
     "text": [
      "Sampling 4 chains for 1_200 tune and 1_200 draw iterations (4_800 + 4_800 draws total) took 836 seconds.\n",
      "The acceptance probability does not match the target. It is 0.640463886129604, but should be close to 0.8. Try to increase the number of tuning steps.\n",
      "The acceptance probability does not match the target. It is 0.7050961769371199, but should be close to 0.8. Try to increase the number of tuning steps.\n",
      "The rhat statistic is larger than 1.05 for some parameters. This indicates slight problems during sampling.\n",
      "The estimated number of effective samples is smaller than 200 for some parameters.\n"
     ]
    },
    {
     "name": "stdout",
     "output_type": "stream",
     "text": [
      "84 {'beta': 0.28789113234441077, 'gamma': 0.10525618819018147, 'N': 123813.44890658311}\n"
     ]
    },
    {
     "name": "stderr",
     "output_type": "stream",
     "text": [
      "Multiprocess sampling (4 chains in 4 jobs)\n",
      "NUTS: [sigma, I0, N, gamma, beta]\n"
     ]
    },
    {
     "data": {
      "text/html": [
       "\n",
       "    <div>\n",
       "        <style>\n",
       "            /* Turns off some styling */\n",
       "            progress {\n",
       "                /* gets rid of default border in Firefox and Opera. */\n",
       "                border: none;\n",
       "                /* Needs to be in here for Safari polyfill so background images work as expected. */\n",
       "                background-size: auto;\n",
       "            }\n",
       "            .progress-bar-interrupted, .progress-bar-interrupted::-webkit-progress-bar {\n",
       "                background: #F44336;\n",
       "            }\n",
       "        </style>\n",
       "      <progress value='9600' class='' max='9600' style='width:300px; height:20px; vertical-align: middle;'></progress>\n",
       "      100.00% [9600/9600 13:37<00:00 Sampling 4 chains, 0 divergences]\n",
       "    </div>\n",
       "    "
      ],
      "text/plain": [
       "<IPython.core.display.HTML object>"
      ]
     },
     "metadata": {},
     "output_type": "display_data"
    },
    {
     "name": "stderr",
     "output_type": "stream",
     "text": [
      "Sampling 4 chains for 1_200 tune and 1_200 draw iterations (4_800 + 4_800 draws total) took 826 seconds.\n",
      "The acceptance probability does not match the target. It is 0.6803927625818335, but should be close to 0.8. Try to increase the number of tuning steps.\n",
      "The rhat statistic is larger than 1.05 for some parameters. This indicates slight problems during sampling.\n",
      "The estimated number of effective samples is smaller than 200 for some parameters.\n"
     ]
    },
    {
     "name": "stdout",
     "output_type": "stream",
     "text": [
      "85 {'beta': 0.2816312990638238, 'gamma': 0.09974438153348271, 'N': 123181.33377822921}\n"
     ]
    },
    {
     "name": "stderr",
     "output_type": "stream",
     "text": [
      "Multiprocess sampling (4 chains in 4 jobs)\n",
      "NUTS: [sigma, I0, N, gamma, beta]\n"
     ]
    },
    {
     "data": {
      "text/html": [
       "\n",
       "    <div>\n",
       "        <style>\n",
       "            /* Turns off some styling */\n",
       "            progress {\n",
       "                /* gets rid of default border in Firefox and Opera. */\n",
       "                border: none;\n",
       "                /* Needs to be in here for Safari polyfill so background images work as expected. */\n",
       "                background-size: auto;\n",
       "            }\n",
       "            .progress-bar-interrupted, .progress-bar-interrupted::-webkit-progress-bar {\n",
       "                background: #F44336;\n",
       "            }\n",
       "        </style>\n",
       "      <progress value='9600' class='' max='9600' style='width:300px; height:20px; vertical-align: middle;'></progress>\n",
       "      100.00% [9600/9600 13:40<00:00 Sampling 4 chains, 8 divergences]\n",
       "    </div>\n",
       "    "
      ],
      "text/plain": [
       "<IPython.core.display.HTML object>"
      ]
     },
     "metadata": {},
     "output_type": "display_data"
    },
    {
     "name": "stderr",
     "output_type": "stream",
     "text": [
      "Sampling 4 chains for 1_200 tune and 1_200 draw iterations (4_800 + 4_800 draws total) took 829 seconds.\n",
      "There were 5 divergences after tuning. Increase `target_accept` or reparameterize.\n",
      "The acceptance probability does not match the target. It is 0.23041318116709525, but should be close to 0.8. Try to increase the number of tuning steps.\n",
      "There were 3 divergences after tuning. Increase `target_accept` or reparameterize.\n",
      "The acceptance probability does not match the target. It is 0.34282655409450885, but should be close to 0.8. Try to increase the number of tuning steps.\n",
      "The rhat statistic is larger than 1.4 for some parameters. The sampler did not converge.\n",
      "The estimated number of effective samples is smaller than 200 for some parameters.\n"
     ]
    },
    {
     "name": "stdout",
     "output_type": "stream",
     "text": [
      "86 {'beta': 0.2961604088113461, 'gamma': 0.11958548059690997, 'N': 129705.78190640564}\n"
     ]
    },
    {
     "name": "stderr",
     "output_type": "stream",
     "text": [
      "Multiprocess sampling (4 chains in 4 jobs)\n",
      "NUTS: [sigma, I0, N, gamma, beta]\n"
     ]
    },
    {
     "data": {
      "text/html": [
       "\n",
       "    <div>\n",
       "        <style>\n",
       "            /* Turns off some styling */\n",
       "            progress {\n",
       "                /* gets rid of default border in Firefox and Opera. */\n",
       "                border: none;\n",
       "                /* Needs to be in here for Safari polyfill so background images work as expected. */\n",
       "                background-size: auto;\n",
       "            }\n",
       "            .progress-bar-interrupted, .progress-bar-interrupted::-webkit-progress-bar {\n",
       "                background: #F44336;\n",
       "            }\n",
       "        </style>\n",
       "      <progress value='9600' class='' max='9600' style='width:300px; height:20px; vertical-align: middle;'></progress>\n",
       "      100.00% [9600/9600 11:53<00:00 Sampling 4 chains, 0 divergences]\n",
       "    </div>\n",
       "    "
      ],
      "text/plain": [
       "<IPython.core.display.HTML object>"
      ]
     },
     "metadata": {},
     "output_type": "display_data"
    },
    {
     "name": "stderr",
     "output_type": "stream",
     "text": [
      "Sampling 4 chains for 1_200 tune and 1_200 draw iterations (4_800 + 4_800 draws total) took 721 seconds.\n",
      "The acceptance probability does not match the target. It is 0.4309515584256188, but should be close to 0.8. Try to increase the number of tuning steps.\n",
      "The rhat statistic is larger than 1.05 for some parameters. This indicates slight problems during sampling.\n",
      "The estimated number of effective samples is smaller than 200 for some parameters.\n"
     ]
    },
    {
     "name": "stdout",
     "output_type": "stream",
     "text": [
      "87 {'beta': 0.2800923336334625, 'gamma': 0.10055417994402271, 'N': 124719.9098156265}\n"
     ]
    },
    {
     "name": "stderr",
     "output_type": "stream",
     "text": [
      "Multiprocess sampling (4 chains in 4 jobs)\n",
      "NUTS: [sigma, I0, N, gamma, beta]\n"
     ]
    },
    {
     "data": {
      "text/html": [
       "\n",
       "    <div>\n",
       "        <style>\n",
       "            /* Turns off some styling */\n",
       "            progress {\n",
       "                /* gets rid of default border in Firefox and Opera. */\n",
       "                border: none;\n",
       "                /* Needs to be in here for Safari polyfill so background images work as expected. */\n",
       "                background-size: auto;\n",
       "            }\n",
       "            .progress-bar-interrupted, .progress-bar-interrupted::-webkit-progress-bar {\n",
       "                background: #F44336;\n",
       "            }\n",
       "        </style>\n",
       "      <progress value='9600' class='' max='9600' style='width:300px; height:20px; vertical-align: middle;'></progress>\n",
       "      100.00% [9600/9600 12:11<00:00 Sampling 4 chains, 0 divergences]\n",
       "    </div>\n",
       "    "
      ],
      "text/plain": [
       "<IPython.core.display.HTML object>"
      ]
     },
     "metadata": {},
     "output_type": "display_data"
    },
    {
     "name": "stderr",
     "output_type": "stream",
     "text": [
      "Sampling 4 chains for 1_200 tune and 1_200 draw iterations (4_800 + 4_800 draws total) took 739 seconds.\n",
      "The acceptance probability does not match the target. It is 0.5045739606978334, but should be close to 0.8. Try to increase the number of tuning steps.\n",
      "The acceptance probability does not match the target. It is 0.7110486263885615, but should be close to 0.8. Try to increase the number of tuning steps.\n",
      "The estimated number of effective samples is smaller than 200 for some parameters.\n"
     ]
    },
    {
     "name": "stdout",
     "output_type": "stream",
     "text": [
      "88 {'beta': 0.28067325856199915, 'gamma': 0.10254791663586678, 'N': 125804.3705189854}\n"
     ]
    },
    {
     "name": "stderr",
     "output_type": "stream",
     "text": [
      "Multiprocess sampling (4 chains in 4 jobs)\n",
      "NUTS: [sigma, I0, N, gamma, beta]\n"
     ]
    },
    {
     "data": {
      "text/html": [
       "\n",
       "    <div>\n",
       "        <style>\n",
       "            /* Turns off some styling */\n",
       "            progress {\n",
       "                /* gets rid of default border in Firefox and Opera. */\n",
       "                border: none;\n",
       "                /* Needs to be in here for Safari polyfill so background images work as expected. */\n",
       "                background-size: auto;\n",
       "            }\n",
       "            .progress-bar-interrupted, .progress-bar-interrupted::-webkit-progress-bar {\n",
       "                background: #F44336;\n",
       "            }\n",
       "        </style>\n",
       "      <progress value='9600' class='' max='9600' style='width:300px; height:20px; vertical-align: middle;'></progress>\n",
       "      100.00% [9600/9600 13:28<00:00 Sampling 4 chains, 0 divergences]\n",
       "    </div>\n",
       "    "
      ],
      "text/plain": [
       "<IPython.core.display.HTML object>"
      ]
     },
     "metadata": {},
     "output_type": "display_data"
    },
    {
     "name": "stderr",
     "output_type": "stream",
     "text": [
      "Sampling 4 chains for 1_200 tune and 1_200 draw iterations (4_800 + 4_800 draws total) took 817 seconds.\n",
      "The rhat statistic is larger than 1.05 for some parameters. This indicates slight problems during sampling.\n",
      "The estimated number of effective samples is smaller than 200 for some parameters.\n"
     ]
    },
    {
     "name": "stdout",
     "output_type": "stream",
     "text": [
      "89 {'beta': 0.2814819660573081, 'gamma': 0.10422704577746893, 'N': 126985.69615196894}\n"
     ]
    },
    {
     "name": "stderr",
     "output_type": "stream",
     "text": [
      "Multiprocess sampling (4 chains in 4 jobs)\n",
      "NUTS: [sigma, I0, N, gamma, beta]\n"
     ]
    },
    {
     "data": {
      "text/html": [
       "\n",
       "    <div>\n",
       "        <style>\n",
       "            /* Turns off some styling */\n",
       "            progress {\n",
       "                /* gets rid of default border in Firefox and Opera. */\n",
       "                border: none;\n",
       "                /* Needs to be in here for Safari polyfill so background images work as expected. */\n",
       "                background-size: auto;\n",
       "            }\n",
       "            .progress-bar-interrupted, .progress-bar-interrupted::-webkit-progress-bar {\n",
       "                background: #F44336;\n",
       "            }\n",
       "        </style>\n",
       "      <progress value='9600' class='' max='9600' style='width:300px; height:20px; vertical-align: middle;'></progress>\n",
       "      100.00% [9600/9600 13:25<00:00 Sampling 4 chains, 0 divergences]\n",
       "    </div>\n",
       "    "
      ],
      "text/plain": [
       "<IPython.core.display.HTML object>"
      ]
     },
     "metadata": {},
     "output_type": "display_data"
    },
    {
     "name": "stderr",
     "output_type": "stream",
     "text": [
      "Sampling 4 chains for 1_200 tune and 1_200 draw iterations (4_800 + 4_800 draws total) took 814 seconds.\n",
      "The acceptance probability does not match the target. It is 0.7109416268632234, but should be close to 0.8. Try to increase the number of tuning steps.\n",
      "The estimated number of effective samples is smaller than 200 for some parameters.\n"
     ]
    },
    {
     "name": "stdout",
     "output_type": "stream",
     "text": [
      "90 {'beta': 0.2780536377856956, 'gamma': 0.10186065418182716, 'N': 127055.22911039066}\n"
     ]
    },
    {
     "name": "stderr",
     "output_type": "stream",
     "text": [
      "Multiprocess sampling (4 chains in 4 jobs)\n",
      "NUTS: [sigma, I0, N, gamma, beta]\n"
     ]
    },
    {
     "data": {
      "text/html": [
       "\n",
       "    <div>\n",
       "        <style>\n",
       "            /* Turns off some styling */\n",
       "            progress {\n",
       "                /* gets rid of default border in Firefox and Opera. */\n",
       "                border: none;\n",
       "                /* Needs to be in here for Safari polyfill so background images work as expected. */\n",
       "                background-size: auto;\n",
       "            }\n",
       "            .progress-bar-interrupted, .progress-bar-interrupted::-webkit-progress-bar {\n",
       "                background: #F44336;\n",
       "            }\n",
       "        </style>\n",
       "      <progress value='9600' class='' max='9600' style='width:300px; height:20px; vertical-align: middle;'></progress>\n",
       "      100.00% [9600/9600 13:07<00:00 Sampling 4 chains, 0 divergences]\n",
       "    </div>\n",
       "    "
      ],
      "text/plain": [
       "<IPython.core.display.HTML object>"
      ]
     },
     "metadata": {},
     "output_type": "display_data"
    },
    {
     "name": "stderr",
     "output_type": "stream",
     "text": [
      "Sampling 4 chains for 1_200 tune and 1_200 draw iterations (4_800 + 4_800 draws total) took 795 seconds.\n",
      "The acceptance probability does not match the target. It is 0.6492648044991072, but should be close to 0.8. Try to increase the number of tuning steps.\n",
      "The acceptance probability does not match the target. It is 0.5938503949840662, but should be close to 0.8. Try to increase the number of tuning steps.\n",
      "The acceptance probability does not match the target. It is 0.6324959330278387, but should be close to 0.8. Try to increase the number of tuning steps.\n",
      "The rhat statistic is larger than 1.2 for some parameters.\n",
      "The estimated number of effective samples is smaller than 200 for some parameters.\n"
     ]
    }
   ],
   "source": [
    "def SIRSeries(data,start=30,end=120,fit_I0=True):\n",
    "    estimates = {}\n",
    "    \n",
    "    tr = None\n",
    "    for l in range(start,end+1):\n",
    "        initial = {} if tr == None else {'beta':np.mean(tr.beta),'gamma':np.mean(tr.gamma),'N':np.mean(tr.N)}\n",
    "        print(l,initial)\n",
    "        if fit_I0 and tr != None:\n",
    "            initial['I0'] = np.mean(tr.I0)\n",
    "            \n",
    "        tr = FitSIRModel(data=data,l=l,initial=initial,I0=None)\n",
    "        \n",
    "        estimates[l] = {'beta':tr.beta,'gamma':tr.gamma,'N':tr.N,\"est\":np.cumsum(-tr.dS,axis=1)}\n",
    "        if fit_I0:\n",
    "            estimates[l][\"I0\"] = tr.I0\n",
    "    return estimates\n",
    "\n",
    "sir_est = SIRSeries(data,60,90)"
   ]
  },
  {
   "cell_type": "code",
   "execution_count": 79,
   "metadata": {
    "scrolled": true
   },
   "outputs": [
    {
     "name": "stdout",
     "output_type": "stream",
     "text": [
      "\t beta 0.27716299418485607 [0.24106119 0.24595033 0.27741101 0.30503453 0.31530135]\n",
      "\t gamma 0.03992774604692791 [0.01121674 0.01388003 0.0397181  0.06757875 0.07041206]\n",
      "\t N 84972.63351613181 [79311.53210284 80168.0572401  84656.39258299 90654.19024146\n",
      " 93429.67959362]\n",
      "\t I0 2.4948927409434143 [1.32530296 1.42332743 2.28753355 4.39118317 4.92218121]\n",
      "\t beta 0.28249370357823783 [0.23939566 0.24469679 0.28002433 0.33182442 0.33832027]\n",
      "\t gamma 0.047807156404099285 [0.01193439 0.01485432 0.04559262 0.09419724 0.09883398]\n",
      "\t N 87240.47809219913 [81283.39394316 82196.72460701 86803.1045982  93295.67183267\n",
      " 96697.92837902]\n",
      "\t I0 2.654964138970085 [1.34501659 1.41851592 2.39256554 4.6471623  5.40629873]\n",
      "\t beta 0.2767112522272197 [0.23437423 0.2400286  0.27522972 0.31447257 0.32237394]\n",
      "\t gamma 0.04783643739724085 [0.01154751 0.01500793 0.04562251 0.08528517 0.09482094]\n",
      "\t N 89324.64452461188 [82987.88528584 83762.63199682 88694.37548383 95570.18758408\n",
      " 97350.66180582]\n",
      "\t I0 3.1865295039408172 [1.69224083 1.85558664 2.94197762 5.50711638 6.30838826]\n",
      "\t beta 0.2809214477090912 [0.23362016 0.23950084 0.27773009 0.33279464 0.33509975]\n",
      "\t gamma 0.056439086520644964 [0.01517681 0.01971127 0.05138735 0.10599432 0.10783055]\n",
      "\t N 92671.89450584035 [85118.44797498 85967.41719844 92383.97690099 99408.59721496\n",
      " 99690.53733404]\n",
      "\t I0 3.5316499789940434 [1.91047139 2.07092295 3.31390217 5.89286969 6.68246922]\n",
      "\t beta 0.27487990561542996 [0.22823062 0.23376144 0.27459704 0.31628835 0.31852658]\n",
      "\t gamma 0.05541894031352906 [0.0148341  0.01869042 0.05172191 0.10170547 0.10298372]\n",
      "\t N 94459.96130499661 [ 87148.19852257  87991.93032971  94121.18885913 102622.83379394\n",
      " 102946.54584531]\n",
      "\t I0 4.159201592699331 [2.26578427 2.46384172 3.97048763 6.70161783 7.71141524]\n",
      "\t beta 0.2753691178503995 [0.22743311 0.23447983 0.27805135 0.30784377 0.30933224]\n",
      "\t gamma 0.05813228491702751 [0.01696042 0.02122445 0.06016282 0.09374232 0.09606704]\n",
      "\t N 96072.34737053275 [ 89109.25934781  89890.75886899  95589.23878903 102407.37935025\n",
      " 102867.88618665]\n",
      "\t I0 4.462711442825282 [2.21007822 2.49345651 4.41456898 7.0143249  8.01253647]\n",
      "\t beta 0.27266103988119594 [0.22432818 0.22941569 0.27103278 0.33116962 0.33427572]\n",
      "\t gamma 0.057599774300355455 [0.01596933 0.01982571 0.05499674 0.11057267 0.11423903]\n",
      "\t N 97521.14201812535 [ 90322.42689358  91282.35330254  97142.37866225 105548.31456524\n",
      " 107564.44386329]\n",
      "\t I0 4.814549365982886 [2.53421658 2.76797116 4.44754206 8.22639693 9.29583094]\n",
      "\t beta 0.28317091814447165 [0.22634065 0.23393305 0.28242587 0.32503946 0.32813322]\n",
      "\t gamma 0.07186582619319594 [0.01908137 0.02502527 0.07209575 0.11547634 0.11892698]\n",
      "\t N 100666.34072818136 [ 92370.97897677  93483.0644449  100129.17584737 108130.71643884\n",
      " 108356.56429399]\n",
      "\t I0 5.134261774418895 [2.91075218 3.18419893 4.8089265  8.09849837 9.27922373]\n",
      "\t beta 0.27534906065030906 [0.22229885 0.23033518 0.27457243 0.32429355 0.32650249]\n",
      "\t gamma 0.06499360450572766 [0.01976596 0.02478636 0.0655879  0.10452763 0.10701901]\n",
      "\t N 100885.23654214032 [ 94032.33061728  94969.34403142 100762.44428637 107640.69131781\n",
      " 108842.7106741 ]\n",
      "\t I0 5.534417429560669 [ 2.69746248  2.84187396  5.14810542  9.53434589 10.61697029]\n",
      "\t beta 0.27175312622118963 [0.22124665 0.228762   0.27332667 0.31508522 0.31797852]\n",
      "\t gamma 0.06499015328554049 [0.0201231  0.02534292 0.06491536 0.10813797 0.11106265]\n",
      "\t N 102514.1353478349 [ 95530.66225021  96437.65354253 102149.9281785  110186.85480316\n",
      " 110951.92638347]\n",
      "\t I0 6.0628940876905455 [ 3.61034789  4.01303011  5.47299213  9.9575428  11.25934582]\n",
      "\t beta 0.2817122549434919 [0.2222777  0.23045437 0.28835726 0.31783044 0.31904975]\n",
      "\t gamma 0.07629336464607363 [0.02319872 0.03003785 0.0791106  0.1104604  0.11333342]\n",
      "\t N 105314.10093569633 [ 97314.75375365  98618.15848504 105336.33498246 110743.26983651\n",
      " 111764.91982171]\n",
      "\t I0 6.050735609370612 [ 3.65684129  3.91356024  5.71126014  9.67157515 10.66328433]\n",
      "\t beta 0.2905309548765383 [0.22024145 0.22727161 0.28299489 0.34786778 0.34786778]\n",
      "\t gamma 0.08847275187144253 [0.02396925 0.02983896 0.07916417 0.15048875 0.15048875]\n",
      "\t N 108785.70115404802 [ 98688.6953285   99735.31743317 107944.51047516 117938.85694024\n",
      " 117938.85694024]\n",
      "\t I0 6.681932282014727 [ 3.20511368  3.66994802  6.06487005 11.57785839 13.40691637]\n",
      "\t beta 0.29805646809721226 [0.22706455 0.23579992 0.30820275 0.34359586 0.35552828]\n",
      "\t gamma 0.09556270974655899 [0.02898662 0.03779006 0.09905434 0.14126276 0.15082573]\n",
      "\t N 110581.1851880867 [100722.2454114  101822.62900172 109775.97236562 119744.33880093\n",
      " 120283.43847861]\n",
      "\t I0 6.338285978449986 [ 3.94728811  4.12971172  5.72129469 11.30525576 12.38749987]\n",
      "\t beta 0.2755763245751378 [0.21705706 0.22372781 0.27519394 0.32606618 0.33661842]\n",
      "\t gamma 0.07564110683107816 [0.02433757 0.03068059 0.07755618 0.11874231 0.12669132]\n",
      "\t N 109030.49082863201 [101255.39062302 102310.05095925 109334.40350334 115258.08983941\n",
      " 116339.90024719]\n",
      "\t I0 7.40220323989736 [ 3.77767914  4.07764946  7.02124221 12.64487422 14.3046855 ]\n",
      "\t beta 0.28573915049956866 [0.22281273 0.23186306 0.29126663 0.33501905 0.33801375]\n",
      "\t gamma 0.08903587656777265 [0.03032278 0.03866989 0.09373364 0.13463289 0.14043372]\n",
      "\t N 112368.38605172605 [103136.19807033 104257.53329046 112636.43099842 120147.4923892\n",
      " 122633.75658374]\n",
      "\t I0 7.835122025975764 [ 4.12833461  4.61821129  7.22824878 12.83441106 14.47232956]\n",
      "\t beta 0.2860599727659079 [0.22179257 0.22943288 0.27942753 0.34620914 0.35071772]\n",
      "\t gamma 0.09078629887088499 [0.03173582 0.03855222 0.08374362 0.14861841 0.15108178]\n",
      "\t N 113702.43905959418 [104093.34001242 105357.3376317  112562.57461714 122694.9969254\n",
      " 123088.73317595]\n",
      "\t I0 8.223904779345435 [ 4.73796105  5.17552484  7.38472091 13.60185106 15.22362781]\n",
      "\t beta 0.2705407548605932 [0.21894101 0.22576511 0.27318876 0.31177331 0.31591515]\n",
      "\t gamma 0.07840192010385998 [0.03200257 0.03747088 0.07988752 0.11579717 0.12003092]\n",
      "\t N 113192.4766725262 [105057.55897579 106132.41068289 113135.18613819 119907.12081375\n",
      " 120625.38702169]\n",
      "\t I0 9.463845355947395 [ 4.82869634  5.34028138  8.83547511 14.89648909 16.90658747]\n",
      "\t beta 0.28466155328713294 [0.22609796 0.23458395 0.28445079 0.3383867  0.35542707]\n",
      "\t gamma 0.09327860165683911 [0.04004314 0.04673334 0.09321855 0.13958209 0.16067002]\n",
      "\t N 116315.57653391242 [107067.65331776 108313.13602103 115965.57161676 126125.99222651\n",
      " 128779.8574074 ]\n",
      "\t I0 9.227194085919272 [ 4.71359508  5.26508248  8.75047472 14.72416786 16.5595792 ]\n",
      "\t beta 0.291139797746841 [0.22469688 0.23621424 0.28933627 0.35075049 0.35306351]\n",
      "\t gamma 0.10132287135335304 [0.03958346 0.04865928 0.10000005 0.16228235 0.16403309]\n",
      "\t N 118664.68128644372 [108006.52435798 109235.71890747 118251.62003602 129314.56691213\n",
      " 129831.19274161]\n",
      "\t I0 9.465816714063994 [ 5.18115516  5.65998825  8.62697508 15.19605673 16.97188969]\n",
      "\t beta 0.27864970895742774 [0.22597551 0.23447459 0.2772496  0.35097994 0.35453402]\n",
      "\t gamma 0.09295299226235842 [0.04213325 0.04935284 0.0893423  0.15946784 0.16496555]\n",
      "\t N 118765.38526371174 [109362.05750466 110558.13066077 118476.65500754 130696.44822994\n",
      " 132158.11535038]\n",
      "\t I0 11.71020994039465 [ 5.38716458  6.18975926 10.22784619 21.17192372 21.87704381]\n",
      "\t beta 0.2933308885983386 [0.23164112 0.24082923 0.29382503 0.34647744 0.35193429]\n",
      "\t gamma 0.10728855702515117 [0.04934911 0.05700063 0.10641253 0.15935825 0.16801264]\n",
      "\t N 121696.46533127516 [110820.29125596 112135.69123141 121115.04985854 132306.60987541\n",
      " 133460.16469317]\n",
      "\t I0 10.53582977620092 [ 5.71001692  6.2333355  10.37726527 16.06532092 18.04408598]\n",
      "\t beta 0.3037887498476106 [0.23558199 0.24557072 0.30987168 0.34603368 0.35320494]\n",
      "\t gamma 0.1185447333625866 [0.05303199 0.06233683 0.12113816 0.16127643 0.16766271]\n",
      "\t N 124629.25854641094 [112463.48873631 114048.70925091 123670.83924178 134033.21081056\n",
      " 134227.10530978]\n",
      "\t I0 10.366283986134853 [ 6.24577912  6.92673361  9.88893277 15.94466148 17.76364897]\n",
      "\t beta 0.293388109521028 [0.23230863 0.24142534 0.29379614 0.34637161 0.35000729]\n",
      "\t gamma 0.10913714840444072 [0.05119037 0.05980721 0.11017303 0.15680559 0.16085369]\n",
      "\t N 123672.64860068589 [112779.39498701 114225.32631938 123494.86786181 132940.44196707\n",
      " 133461.00759691]\n",
      "\t I0 11.150695861131066 [ 6.1412533   6.61303879 10.54125846 17.35736279 19.09000734]\n",
      "\t beta 0.28789113234441077 [0.22508953 0.23500721 0.28865413 0.33818618 0.35838996]\n",
      "\t gamma 0.10525618819018147 [0.04674915 0.05561657 0.10508968 0.15092118 0.1778904 ]\n",
      "\t N 123813.44890658311 [112935.43400825 114440.64927591 122965.24849259 134831.06310757\n",
      " 140326.61784425]\n",
      "\t I0 11.941946019162003 [ 6.27500035  6.96979593 11.39039705 18.88930303 21.15796011]\n",
      "\t beta 0.2816312990638238 [0.22593155 0.23499294 0.28232283 0.32735524 0.33992124]\n",
      "\t gamma 0.09974438153348271 [0.04745699 0.0554019  0.10059126 0.14093953 0.15022919]\n",
      "\t N 123181.33377822921 [113778.77633816 115045.95726786 122997.67239859 131504.39557323\n",
      " 132669.12092524]\n",
      "\t I0 12.4647338389815 [ 6.70487498  7.16652533 12.03846288 19.7684625  21.69361559]\n",
      "\t beta 0.2961604088113461 [0.23259924 0.24255599 0.30303374 0.33236055 0.33980525]\n",
      "\t gamma 0.11958548059690997 [0.05590322 0.06616584 0.12943718 0.15184945 0.15949894]\n",
      "\t N 129705.78190640564 [115967.08383587 117406.08531138 131502.24229194 139008.94008282\n",
      " 139815.35261335]\n",
      "\t I0 14.169441184295211 [ 6.95477511  7.80064793 13.0964423  21.34987353 22.52890979]\n",
      "\t beta 0.2800923336334625 [0.22663999 0.23451541 0.28232298 0.32211018 0.32648808]\n",
      "\t gamma 0.10055417994402271 [0.05165021 0.05813844 0.10162316 0.14033984 0.14325183]\n",
      "\t N 124719.9098156265 [115451.44624828 116568.70309919 124502.09376082 132970.64437761\n",
      " 134640.75576574]\n",
      "\t I0 13.381461592296821 [ 7.55361383  8.2869218  12.95286268 20.51401086 22.9935929 ]\n",
      "\t beta 0.28067325856199915 [0.22618576 0.2351117  0.28263458 0.3289741  0.33379325]\n",
      "\t gamma 0.10254791663586678 [0.0532049  0.0606187  0.10375152 0.14874803 0.15190033]\n",
      "\t N 125804.3705189854 [116513.09182066 117818.02676666 125700.20974537 134906.62239617\n",
      " 137955.67908739]\n",
      "\t I0 14.05272547738196 [ 7.86513963  8.58102419 13.45453523 22.0482504  25.22184412]\n",
      "\t beta 0.2814819660573081 [0.22638723 0.23635778 0.28153926 0.32831241 0.33390763]\n",
      "\t gamma 0.10422704577746893 [0.05411315 0.06192663 0.10391886 0.14742868 0.15220568]\n",
      "\t N 126985.69615196894 [117127.01675815 118338.49271405 126728.88601727 136758.30886934\n",
      " 138619.78321211]\n",
      "\t I0 14.399483647680833 [ 7.36870455  8.27319599 13.73541304 22.5228151  24.79643554]\n",
      "\t beta 0.2780536377856956 [0.22434933 0.2342135  0.27822908 0.32152431 0.32756439]\n",
      "\t gamma 0.10186065418182716 [0.05496624 0.06177441 0.10183156 0.14145162 0.14782765]\n",
      "\t N 127055.22911039066 [117730.53291901 119000.50147155 126793.13522946 135963.61798399\n",
      " 137300.21656832]\n",
      "\t I0 15.049901675418102 [ 8.02834551  8.78226293 14.24160787 24.19153476 26.75028387]\n",
      "\t beta 0.3077318936414131 [0.23707542 0.24523473 0.31187989 0.36296582 0.36701145]\n",
      "\t gamma 0.13135491011637895 [0.06491755 0.07241527 0.13699675 0.18162028 0.18460597]\n",
      "\t N 133783.43665261488 [120048.14594048 121663.11486835 134669.9976707  144359.92952116\n",
      " 144927.79255932]\n",
      "\t I0 13.520009241309253 [ 8.09712284  8.54852632 12.452095   21.71929982 25.21088139]\n"
     ]
    }
   ],
   "source": [
    "with open(\"estimates/sir_symptomatic_%d\"%time.time(),\"wb+\") as f:\n",
    "    pickle.dump(sir_est,f)\n",
    "\n",
    "for k,v in sir_est.items():\n",
    "#    print(k,v[\"ssd\"])\n",
    "    for p in ['beta','gamma','N','I0']:\n",
    "        print(\"\\t\",p,np.mean(v[p]),np.percentile(v[p],q=(2.5,5,50,95,97.5)))"
   ]
  },
  {
   "cell_type": "code",
   "execution_count": 80,
   "metadata": {},
   "outputs": [],
   "source": [
    "def FitGompertz(data,l=90,initial={}):\n",
    "    with pm.Model() as model:\n",
    "        a = pm.Lognormal(name=\"a\",\n",
    "                    mu=tt.log(tt.cast(1e5,dtype='float64')),\n",
    "                    sigma=tt.cast(.6,dtype='float64'))\n",
    "        b = pm.Lognormal(name=\"b\",\n",
    "                    mu=tt.log(tt.cast(11,dtype='float64')),\n",
    "                    sigma=tt.cast(.8,dtype='float64'))\n",
    "        c = pm.Lognormal(name=\"c\",\n",
    "                    mu=tt.log(tt.cast(.07,dtype='float64')),\n",
    "                    sigma=tt.cast(.8,dtype='float64'))\n",
    "    \n",
    "        est = Gompertz(a,b,c,l)\n",
    "        est_deaths = pm.Deterministic(\"deaths\",est)\n",
    "    \n",
    "        sigma_obs = pm.HalfCauchy( name=\"sigma\", beta=40 )\n",
    "        pm.StudentT(\n",
    "                    name=\"like_studentT\",\n",
    "                    nu=4,\n",
    "                    mu=est_deaths,\n",
    "                    sigma=tt.abs_(est_deaths + 1) ** 0.5 * sigma_obs,\n",
    "                    observed=data[:l]\n",
    "        )\n",
    "        init = \"advi+adapt_diag\" if len(initial) == 0 else None\n",
    "        trace = pm.sample( model=model,init=init,start=initial,draws=1200,tune=2000,cores=4,chains=4)\n",
    "        return trace"
   ]
  },
  {
   "cell_type": "code",
   "execution_count": 67,
   "metadata": {},
   "outputs": [
    {
     "name": "stderr",
     "output_type": "stream",
     "text": [
      "Multiprocess sampling (4 chains in 4 jobs)\n",
      "NUTS: [sigma, c, b, a]\n"
     ]
    },
    {
     "data": {
      "text/html": [
       "\n",
       "    <div>\n",
       "        <style>\n",
       "            /* Turns off some styling */\n",
       "            progress {\n",
       "                /* gets rid of default border in Firefox and Opera. */\n",
       "                border: none;\n",
       "                /* Needs to be in here for Safari polyfill so background images work as expected. */\n",
       "                background-size: auto;\n",
       "            }\n",
       "            .progress-bar-interrupted, .progress-bar-interrupted::-webkit-progress-bar {\n",
       "                background: #F44336;\n",
       "            }\n",
       "        </style>\n",
       "      <progress value='12800' class='' max='12800' style='width:300px; height:20px; vertical-align: middle;'></progress>\n",
       "      100.00% [12800/12800 00:14<00:00 Sampling 4 chains, 0 divergences]\n",
       "    </div>\n",
       "    "
      ],
      "text/plain": [
       "<IPython.core.display.HTML object>"
      ]
     },
     "metadata": {},
     "output_type": "display_data"
    },
    {
     "name": "stderr",
     "output_type": "stream",
     "text": [
      "Sampling 4 chains for 2_000 tune and 1_200 draw iterations (8_000 + 4_800 draws total) took 23 seconds.\n",
      "The acceptance probability does not match the target. It is 0.7176451704288611, but should be close to 0.8. Try to increase the number of tuning steps.\n",
      "The number of effective samples is smaller than 25% for some parameters.\n"
     ]
    }
   ],
   "source": [
    "trace = FitGompertz(data,l=80)"
   ]
  },
  {
   "cell_type": "code",
   "execution_count": 71,
   "metadata": {},
   "outputs": [
    {
     "name": "stdout",
     "output_type": "stream",
     "text": [
      "132632.8814172108 [125886.95287638 140812.72750622]\n",
      "39.648429060032996 [32.90205648 47.58661907]\n",
      "0.07433682324892915 [0.06922913 0.07912472]\n",
      "273379417.6567731\n"
     ]
    },
    {
     "data": {
      "image/png": "[encoded data removed]",
      "text/plain": [
       "<Figure size 432x288 with 1 Axes>"
      ]
     },
     "metadata": {
      "needs_background": "light"
     },
     "output_type": "display_data"
    }
   ],
   "source": [
    "l=80\n",
    "plt.plot(ts[:l],data[:l],\"+\")\n",
    "#plt.plot(ts[:l],np.mean(trace.dI,axis=0))\n",
    "plt.plot(ts[:l],np.mean(trace.deaths,axis=0))\n",
    "\n",
    "print(np.median(trace.a),np.percentile(trace.a,q=(2.5,97.5)))\n",
    "print(np.median(trace.b),np.percentile(trace.b,q=(2.5,97.5)))\n",
    "print(np.median(trace.c),np.percentile(trace.c,q=(2.5,97.5)))\n",
    "\n",
    "print( np.sum(np.power(data[:l]-np.mean(trace.deaths[:l],axis=0),2 ) ) )\n"
   ]
  },
  {
   "cell_type": "code",
   "execution_count": 81,
   "metadata": {
    "scrolled": false
   },
   "outputs": [
    {
     "name": "stderr",
     "output_type": "stream",
     "text": [
      "Auto-assigning NUTS sampler...\n",
      "Initializing NUTS using advi+adapt_diag...\n"
     ]
    },
    {
     "data": {
      "text/html": [
       "\n",
       "    <div>\n",
       "        <style>\n",
       "            /* Turns off some styling */\n",
       "            progress {\n",
       "                /* gets rid of default border in Firefox and Opera. */\n",
       "                border: none;\n",
       "                /* Needs to be in here for Safari polyfill so background images work as expected. */\n",
       "                background-size: auto;\n",
       "            }\n",
       "            .progress-bar-interrupted, .progress-bar-interrupted::-webkit-progress-bar {\n",
       "                background: #F44336;\n",
       "            }\n",
       "        </style>\n",
       "      <progress value='8919' class='' max='200000' style='width:300px; height:20px; vertical-align: middle;'></progress>\n",
       "      4.46% [8919/200000 00:00<00:20 Average Loss = 573.71]\n",
       "    </div>\n",
       "    "
      ],
      "text/plain": [
       "<IPython.core.display.HTML object>"
      ]
     },
     "metadata": {},
     "output_type": "display_data"
    },
    {
     "name": "stderr",
     "output_type": "stream",
     "text": [
      "Convergence achieved at 10300\n",
      "Interrupted at 10,299 [5%]: Average Loss = 625.05\n",
      "Multiprocess sampling (4 chains in 4 jobs)\n",
      "NUTS: [sigma, c, b, a]\n"
     ]
    },
    {
     "data": {
      "text/html": [
       "\n",
       "    <div>\n",
       "        <style>\n",
       "            /* Turns off some styling */\n",
       "            progress {\n",
       "                /* gets rid of default border in Firefox and Opera. */\n",
       "                border: none;\n",
       "                /* Needs to be in here for Safari polyfill so background images work as expected. */\n",
       "                background-size: auto;\n",
       "            }\n",
       "            .progress-bar-interrupted, .progress-bar-interrupted::-webkit-progress-bar {\n",
       "                background: #F44336;\n",
       "            }\n",
       "        </style>\n",
       "      <progress value='12800' class='' max='12800' style='width:300px; height:20px; vertical-align: middle;'></progress>\n",
       "      100.00% [12800/12800 00:19<00:00 Sampling 4 chains, 0 divergences]\n",
       "    </div>\n",
       "    "
      ],
      "text/plain": [
       "<IPython.core.display.HTML object>"
      ]
     },
     "metadata": {},
     "output_type": "display_data"
    },
    {
     "name": "stderr",
     "output_type": "stream",
     "text": [
      "Sampling 4 chains for 2_000 tune and 1_200 draw iterations (8_000 + 4_800 draws total) took 27 seconds.\n",
      "The number of effective samples is smaller than 25% for some parameters.\n",
      "Multiprocess sampling (4 chains in 4 jobs)\n",
      "NUTS: [sigma, c, b, a]\n"
     ]
    },
    {
     "data": {
      "text/html": [
       "\n",
       "    <div>\n",
       "        <style>\n",
       "            /* Turns off some styling */\n",
       "            progress {\n",
       "                /* gets rid of default border in Firefox and Opera. */\n",
       "                border: none;\n",
       "                /* Needs to be in here for Safari polyfill so background images work as expected. */\n",
       "                background-size: auto;\n",
       "            }\n",
       "            .progress-bar-interrupted, .progress-bar-interrupted::-webkit-progress-bar {\n",
       "                background: #F44336;\n",
       "            }\n",
       "        </style>\n",
       "      <progress value='12800' class='' max='12800' style='width:300px; height:20px; vertical-align: middle;'></progress>\n",
       "      100.00% [12800/12800 00:16<00:00 Sampling 4 chains, 0 divergences]\n",
       "    </div>\n",
       "    "
      ],
      "text/plain": [
       "<IPython.core.display.HTML object>"
      ]
     },
     "metadata": {},
     "output_type": "display_data"
    },
    {
     "name": "stderr",
     "output_type": "stream",
     "text": [
      "Sampling 4 chains for 2_000 tune and 1_200 draw iterations (8_000 + 4_800 draws total) took 26 seconds.\n",
      "The acceptance probability does not match the target. It is 0.8798754729743911, but should be close to 0.8. Try to increase the number of tuning steps.\n",
      "The number of effective samples is smaller than 25% for some parameters.\n",
      "Multiprocess sampling (4 chains in 4 jobs)\n",
      "NUTS: [sigma, c, b, a]\n"
     ]
    },
    {
     "data": {
      "text/html": [
       "\n",
       "    <div>\n",
       "        <style>\n",
       "            /* Turns off some styling */\n",
       "            progress {\n",
       "                /* gets rid of default border in Firefox and Opera. */\n",
       "                border: none;\n",
       "                /* Needs to be in here for Safari polyfill so background images work as expected. */\n",
       "                background-size: auto;\n",
       "            }\n",
       "            .progress-bar-interrupted, .progress-bar-interrupted::-webkit-progress-bar {\n",
       "                background: #F44336;\n",
       "            }\n",
       "        </style>\n",
       "      <progress value='12800' class='' max='12800' style='width:300px; height:20px; vertical-align: middle;'></progress>\n",
       "      100.00% [12800/12800 00:15<00:00 Sampling 4 chains, 0 divergences]\n",
       "    </div>\n",
       "    "
      ],
      "text/plain": [
       "<IPython.core.display.HTML object>"
      ]
     },
     "metadata": {},
     "output_type": "display_data"
    },
    {
     "name": "stderr",
     "output_type": "stream",
     "text": [
      "Sampling 4 chains for 2_000 tune and 1_200 draw iterations (8_000 + 4_800 draws total) took 23 seconds.\n",
      "The number of effective samples is smaller than 25% for some parameters.\n",
      "Multiprocess sampling (4 chains in 4 jobs)\n",
      "NUTS: [sigma, c, b, a]\n"
     ]
    },
    {
     "data": {
      "text/html": [
       "\n",
       "    <div>\n",
       "        <style>\n",
       "            /* Turns off some styling */\n",
       "            progress {\n",
       "                /* gets rid of default border in Firefox and Opera. */\n",
       "                border: none;\n",
       "                /* Needs to be in here for Safari polyfill so background images work as expected. */\n",
       "                background-size: auto;\n",
       "            }\n",
       "            .progress-bar-interrupted, .progress-bar-interrupted::-webkit-progress-bar {\n",
       "                background: #F44336;\n",
       "            }\n",
       "        </style>\n",
       "      <progress value='12800' class='' max='12800' style='width:300px; height:20px; vertical-align: middle;'></progress>\n",
       "      100.00% [12800/12800 00:14<00:00 Sampling 4 chains, 0 divergences]\n",
       "    </div>\n",
       "    "
      ],
      "text/plain": [
       "<IPython.core.display.HTML object>"
      ]
     },
     "metadata": {},
     "output_type": "display_data"
    },
    {
     "name": "stderr",
     "output_type": "stream",
     "text": [
      "Sampling 4 chains for 2_000 tune and 1_200 draw iterations (8_000 + 4_800 draws total) took 22 seconds.\n",
      "The acceptance probability does not match the target. It is 0.8847267411021471, but should be close to 0.8. Try to increase the number of tuning steps.\n",
      "The acceptance probability does not match the target. It is 0.9013783806433434, but should be close to 0.8. Try to increase the number of tuning steps.\n",
      "The number of effective samples is smaller than 25% for some parameters.\n",
      "Multiprocess sampling (4 chains in 4 jobs)\n",
      "NUTS: [sigma, c, b, a]\n"
     ]
    },
    {
     "data": {
      "text/html": [
       "\n",
       "    <div>\n",
       "        <style>\n",
       "            /* Turns off some styling */\n",
       "            progress {\n",
       "                /* gets rid of default border in Firefox and Opera. */\n",
       "                border: none;\n",
       "                /* Needs to be in here for Safari polyfill so background images work as expected. */\n",
       "                background-size: auto;\n",
       "            }\n",
       "            .progress-bar-interrupted, .progress-bar-interrupted::-webkit-progress-bar {\n",
       "                background: #F44336;\n",
       "            }\n",
       "        </style>\n",
       "      <progress value='12800' class='' max='12800' style='width:300px; height:20px; vertical-align: middle;'></progress>\n",
       "      100.00% [12800/12800 00:13<00:00 Sampling 4 chains, 0 divergences]\n",
       "    </div>\n",
       "    "
      ],
      "text/plain": [
       "<IPython.core.display.HTML object>"
      ]
     },
     "metadata": {},
     "output_type": "display_data"
    },
    {
     "name": "stderr",
     "output_type": "stream",
     "text": [
      "Sampling 4 chains for 2_000 tune and 1_200 draw iterations (8_000 + 4_800 draws total) took 21 seconds.\n",
      "The acceptance probability does not match the target. It is 0.5994183578007879, but should be close to 0.8. Try to increase the number of tuning steps.\n",
      "The number of effective samples is smaller than 10% for some parameters.\n",
      "Multiprocess sampling (4 chains in 4 jobs)\n",
      "NUTS: [sigma, c, b, a]\n"
     ]
    },
    {
     "data": {
      "text/html": [
       "\n",
       "    <div>\n",
       "        <style>\n",
       "            /* Turns off some styling */\n",
       "            progress {\n",
       "                /* gets rid of default border in Firefox and Opera. */\n",
       "                border: none;\n",
       "                /* Needs to be in here for Safari polyfill so background images work as expected. */\n",
       "                background-size: auto;\n",
       "            }\n",
       "            .progress-bar-interrupted, .progress-bar-interrupted::-webkit-progress-bar {\n",
       "                background: #F44336;\n",
       "            }\n",
       "        </style>\n",
       "      <progress value='12800' class='' max='12800' style='width:300px; height:20px; vertical-align: middle;'></progress>\n",
       "      100.00% [12800/12800 00:18<00:00 Sampling 4 chains, 0 divergences]\n",
       "    </div>\n",
       "    "
      ],
      "text/plain": [
       "<IPython.core.display.HTML object>"
      ]
     },
     "metadata": {},
     "output_type": "display_data"
    },
    {
     "name": "stderr",
     "output_type": "stream",
     "text": [
      "Sampling 4 chains for 2_000 tune and 1_200 draw iterations (8_000 + 4_800 draws total) took 27 seconds.\n",
      "The number of effective samples is smaller than 25% for some parameters.\n",
      "Multiprocess sampling (4 chains in 4 jobs)\n",
      "NUTS: [sigma, c, b, a]\n"
     ]
    },
    {
     "data": {
      "text/html": [
       "\n",
       "    <div>\n",
       "        <style>\n",
       "            /* Turns off some styling */\n",
       "            progress {\n",
       "                /* gets rid of default border in Firefox and Opera. */\n",
       "                border: none;\n",
       "                /* Needs to be in here for Safari polyfill so background images work as expected. */\n",
       "                background-size: auto;\n",
       "            }\n",
       "            .progress-bar-interrupted, .progress-bar-interrupted::-webkit-progress-bar {\n",
       "                background: #F44336;\n",
       "            }\n",
       "        </style>\n",
       "      <progress value='12800' class='' max='12800' style='width:300px; height:20px; vertical-align: middle;'></progress>\n",
       "      100.00% [12800/12800 00:14<00:00 Sampling 4 chains, 0 divergences]\n",
       "    </div>\n",
       "    "
      ],
      "text/plain": [
       "<IPython.core.display.HTML object>"
      ]
     },
     "metadata": {},
     "output_type": "display_data"
    },
    {
     "name": "stderr",
     "output_type": "stream",
     "text": [
      "Sampling 4 chains for 2_000 tune and 1_200 draw iterations (8_000 + 4_800 draws total) took 22 seconds.\n",
      "Multiprocess sampling (4 chains in 4 jobs)\n",
      "NUTS: [sigma, c, b, a]\n"
     ]
    },
    {
     "data": {
      "text/html": [
       "\n",
       "    <div>\n",
       "        <style>\n",
       "            /* Turns off some styling */\n",
       "            progress {\n",
       "                /* gets rid of default border in Firefox and Opera. */\n",
       "                border: none;\n",
       "                /* Needs to be in here for Safari polyfill so background images work as expected. */\n",
       "                background-size: auto;\n",
       "            }\n",
       "            .progress-bar-interrupted, .progress-bar-interrupted::-webkit-progress-bar {\n",
       "                background: #F44336;\n",
       "            }\n",
       "        </style>\n",
       "      <progress value='12800' class='' max='12800' style='width:300px; height:20px; vertical-align: middle;'></progress>\n",
       "      100.00% [12800/12800 00:13<00:00 Sampling 4 chains, 0 divergences]\n",
       "    </div>\n",
       "    "
      ],
      "text/plain": [
       "<IPython.core.display.HTML object>"
      ]
     },
     "metadata": {},
     "output_type": "display_data"
    },
    {
     "name": "stderr",
     "output_type": "stream",
     "text": [
      "Sampling 4 chains for 2_000 tune and 1_200 draw iterations (8_000 + 4_800 draws total) took 21 seconds.\n",
      "The acceptance probability does not match the target. It is 0.8947447011371893, but should be close to 0.8. Try to increase the number of tuning steps.\n",
      "Multiprocess sampling (4 chains in 4 jobs)\n",
      "NUTS: [sigma, c, b, a]\n"
     ]
    },
    {
     "data": {
      "text/html": [
       "\n",
       "    <div>\n",
       "        <style>\n",
       "            /* Turns off some styling */\n",
       "            progress {\n",
       "                /* gets rid of default border in Firefox and Opera. */\n",
       "                border: none;\n",
       "                /* Needs to be in here for Safari polyfill so background images work as expected. */\n",
       "                background-size: auto;\n",
       "            }\n",
       "            .progress-bar-interrupted, .progress-bar-interrupted::-webkit-progress-bar {\n",
       "                background: #F44336;\n",
       "            }\n",
       "        </style>\n",
       "      <progress value='12800' class='' max='12800' style='width:300px; height:20px; vertical-align: middle;'></progress>\n",
       "      100.00% [12800/12800 00:13<00:00 Sampling 4 chains, 0 divergences]\n",
       "    </div>\n",
       "    "
      ],
      "text/plain": [
       "<IPython.core.display.HTML object>"
      ]
     },
     "metadata": {},
     "output_type": "display_data"
    },
    {
     "name": "stderr",
     "output_type": "stream",
     "text": [
      "Sampling 4 chains for 2_000 tune and 1_200 draw iterations (8_000 + 4_800 draws total) took 21 seconds.\n",
      "The acceptance probability does not match the target. It is 0.8817860036712155, but should be close to 0.8. Try to increase the number of tuning steps.\n",
      "The number of effective samples is smaller than 25% for some parameters.\n",
      "Multiprocess sampling (4 chains in 4 jobs)\n",
      "NUTS: [sigma, c, b, a]\n"
     ]
    },
    {
     "data": {
      "text/html": [
       "\n",
       "    <div>\n",
       "        <style>\n",
       "            /* Turns off some styling */\n",
       "            progress {\n",
       "                /* gets rid of default border in Firefox and Opera. */\n",
       "                border: none;\n",
       "                /* Needs to be in here for Safari polyfill so background images work as expected. */\n",
       "                background-size: auto;\n",
       "            }\n",
       "            .progress-bar-interrupted, .progress-bar-interrupted::-webkit-progress-bar {\n",
       "                background: #F44336;\n",
       "            }\n",
       "        </style>\n",
       "      <progress value='12800' class='' max='12800' style='width:300px; height:20px; vertical-align: middle;'></progress>\n",
       "      100.00% [12800/12800 00:13<00:00 Sampling 4 chains, 0 divergences]\n",
       "    </div>\n",
       "    "
      ],
      "text/plain": [
       "<IPython.core.display.HTML object>"
      ]
     },
     "metadata": {},
     "output_type": "display_data"
    },
    {
     "name": "stderr",
     "output_type": "stream",
     "text": [
      "Sampling 4 chains for 2_000 tune and 1_200 draw iterations (8_000 + 4_800 draws total) took 20 seconds.\n",
      "The acceptance probability does not match the target. It is 0.7036201606905094, but should be close to 0.8. Try to increase the number of tuning steps.\n",
      "The number of effective samples is smaller than 25% for some parameters.\n",
      "Multiprocess sampling (4 chains in 4 jobs)\n",
      "NUTS: [sigma, c, b, a]\n"
     ]
    },
    {
     "data": {
      "text/html": [
       "\n",
       "    <div>\n",
       "        <style>\n",
       "            /* Turns off some styling */\n",
       "            progress {\n",
       "                /* gets rid of default border in Firefox and Opera. */\n",
       "                border: none;\n",
       "                /* Needs to be in here for Safari polyfill so background images work as expected. */\n",
       "                background-size: auto;\n",
       "            }\n",
       "            .progress-bar-interrupted, .progress-bar-interrupted::-webkit-progress-bar {\n",
       "                background: #F44336;\n",
       "            }\n",
       "        </style>\n",
       "      <progress value='12800' class='' max='12800' style='width:300px; height:20px; vertical-align: middle;'></progress>\n",
       "      100.00% [12800/12800 00:12<00:00 Sampling 4 chains, 0 divergences]\n",
       "    </div>\n",
       "    "
      ],
      "text/plain": [
       "<IPython.core.display.HTML object>"
      ]
     },
     "metadata": {},
     "output_type": "display_data"
    },
    {
     "name": "stderr",
     "output_type": "stream",
     "text": [
      "Sampling 4 chains for 2_000 tune and 1_200 draw iterations (8_000 + 4_800 draws total) took 20 seconds.\n",
      "The number of effective samples is smaller than 25% for some parameters.\n",
      "Multiprocess sampling (4 chains in 4 jobs)\n",
      "NUTS: [sigma, c, b, a]\n"
     ]
    },
    {
     "data": {
      "text/html": [
       "\n",
       "    <div>\n",
       "        <style>\n",
       "            /* Turns off some styling */\n",
       "            progress {\n",
       "                /* gets rid of default border in Firefox and Opera. */\n",
       "                border: none;\n",
       "                /* Needs to be in here for Safari polyfill so background images work as expected. */\n",
       "                background-size: auto;\n",
       "            }\n",
       "            .progress-bar-interrupted, .progress-bar-interrupted::-webkit-progress-bar {\n",
       "                background: #F44336;\n",
       "            }\n",
       "        </style>\n",
       "      <progress value='12800' class='' max='12800' style='width:300px; height:20px; vertical-align: middle;'></progress>\n",
       "      100.00% [12800/12800 00:13<00:00 Sampling 4 chains, 0 divergences]\n",
       "    </div>\n",
       "    "
      ],
      "text/plain": [
       "<IPython.core.display.HTML object>"
      ]
     },
     "metadata": {},
     "output_type": "display_data"
    },
    {
     "name": "stderr",
     "output_type": "stream",
     "text": [
      "Sampling 4 chains for 2_000 tune and 1_200 draw iterations (8_000 + 4_800 draws total) took 21 seconds.\n",
      "The number of effective samples is smaller than 25% for some parameters.\n",
      "Multiprocess sampling (4 chains in 4 jobs)\n",
      "NUTS: [sigma, c, b, a]\n"
     ]
    },
    {
     "data": {
      "text/html": [
       "\n",
       "    <div>\n",
       "        <style>\n",
       "            /* Turns off some styling */\n",
       "            progress {\n",
       "                /* gets rid of default border in Firefox and Opera. */\n",
       "                border: none;\n",
       "                /* Needs to be in here for Safari polyfill so background images work as expected. */\n",
       "                background-size: auto;\n",
       "            }\n",
       "            .progress-bar-interrupted, .progress-bar-interrupted::-webkit-progress-bar {\n",
       "                background: #F44336;\n",
       "            }\n",
       "        </style>\n",
       "      <progress value='12800' class='' max='12800' style='width:300px; height:20px; vertical-align: middle;'></progress>\n",
       "      100.00% [12800/12800 00:13<00:00 Sampling 4 chains, 0 divergences]\n",
       "    </div>\n",
       "    "
      ],
      "text/plain": [
       "<IPython.core.display.HTML object>"
      ]
     },
     "metadata": {},
     "output_type": "display_data"
    },
    {
     "name": "stderr",
     "output_type": "stream",
     "text": [
      "Sampling 4 chains for 2_000 tune and 1_200 draw iterations (8_000 + 4_800 draws total) took 21 seconds.\n",
      "The acceptance probability does not match the target. It is 0.8794031656888289, but should be close to 0.8. Try to increase the number of tuning steps.\n",
      "Multiprocess sampling (4 chains in 4 jobs)\n",
      "NUTS: [sigma, c, b, a]\n"
     ]
    },
    {
     "data": {
      "text/html": [
       "\n",
       "    <div>\n",
       "        <style>\n",
       "            /* Turns off some styling */\n",
       "            progress {\n",
       "                /* gets rid of default border in Firefox and Opera. */\n",
       "                border: none;\n",
       "                /* Needs to be in here for Safari polyfill so background images work as expected. */\n",
       "                background-size: auto;\n",
       "            }\n",
       "            .progress-bar-interrupted, .progress-bar-interrupted::-webkit-progress-bar {\n",
       "                background: #F44336;\n",
       "            }\n",
       "        </style>\n",
       "      <progress value='12800' class='' max='12800' style='width:300px; height:20px; vertical-align: middle;'></progress>\n",
       "      100.00% [12800/12800 00:13<00:00 Sampling 4 chains, 0 divergences]\n",
       "    </div>\n",
       "    "
      ],
      "text/plain": [
       "<IPython.core.display.HTML object>"
      ]
     },
     "metadata": {},
     "output_type": "display_data"
    },
    {
     "name": "stderr",
     "output_type": "stream",
     "text": [
      "Sampling 4 chains for 2_000 tune and 1_200 draw iterations (8_000 + 4_800 draws total) took 20 seconds.\n",
      "The acceptance probability does not match the target. It is 0.8902184428434956, but should be close to 0.8. Try to increase the number of tuning steps.\n",
      "The acceptance probability does not match the target. It is 0.6658228978701186, but should be close to 0.8. Try to increase the number of tuning steps.\n",
      "The number of effective samples is smaller than 25% for some parameters.\n",
      "Multiprocess sampling (4 chains in 4 jobs)\n",
      "NUTS: [sigma, c, b, a]\n"
     ]
    },
    {
     "data": {
      "text/html": [
       "\n",
       "    <div>\n",
       "        <style>\n",
       "            /* Turns off some styling */\n",
       "            progress {\n",
       "                /* gets rid of default border in Firefox and Opera. */\n",
       "                border: none;\n",
       "                /* Needs to be in here for Safari polyfill so background images work as expected. */\n",
       "                background-size: auto;\n",
       "            }\n",
       "            .progress-bar-interrupted, .progress-bar-interrupted::-webkit-progress-bar {\n",
       "                background: #F44336;\n",
       "            }\n",
       "        </style>\n",
       "      <progress value='12800' class='' max='12800' style='width:300px; height:20px; vertical-align: middle;'></progress>\n",
       "      100.00% [12800/12800 00:12<00:00 Sampling 4 chains, 0 divergences]\n",
       "    </div>\n",
       "    "
      ],
      "text/plain": [
       "<IPython.core.display.HTML object>"
      ]
     },
     "metadata": {},
     "output_type": "display_data"
    },
    {
     "name": "stderr",
     "output_type": "stream",
     "text": [
      "Sampling 4 chains for 2_000 tune and 1_200 draw iterations (8_000 + 4_800 draws total) took 20 seconds.\n",
      "The number of effective samples is smaller than 25% for some parameters.\n",
      "Multiprocess sampling (4 chains in 4 jobs)\n",
      "NUTS: [sigma, c, b, a]\n"
     ]
    },
    {
     "data": {
      "text/html": [
       "\n",
       "    <div>\n",
       "        <style>\n",
       "            /* Turns off some styling */\n",
       "            progress {\n",
       "                /* gets rid of default border in Firefox and Opera. */\n",
       "                border: none;\n",
       "                /* Needs to be in here for Safari polyfill so background images work as expected. */\n",
       "                background-size: auto;\n",
       "            }\n",
       "            .progress-bar-interrupted, .progress-bar-interrupted::-webkit-progress-bar {\n",
       "                background: #F44336;\n",
       "            }\n",
       "        </style>\n",
       "      <progress value='12800' class='' max='12800' style='width:300px; height:20px; vertical-align: middle;'></progress>\n",
       "      100.00% [12800/12800 00:12<00:00 Sampling 4 chains, 0 divergences]\n",
       "    </div>\n",
       "    "
      ],
      "text/plain": [
       "<IPython.core.display.HTML object>"
      ]
     },
     "metadata": {},
     "output_type": "display_data"
    },
    {
     "name": "stderr",
     "output_type": "stream",
     "text": [
      "Sampling 4 chains for 2_000 tune and 1_200 draw iterations (8_000 + 4_800 draws total) took 19 seconds.\n",
      "The acceptance probability does not match the target. It is 0.8794508668080527, but should be close to 0.8. Try to increase the number of tuning steps.\n",
      "The number of effective samples is smaller than 25% for some parameters.\n",
      "Multiprocess sampling (4 chains in 4 jobs)\n",
      "NUTS: [sigma, c, b, a]\n"
     ]
    },
    {
     "data": {
      "text/html": [
       "\n",
       "    <div>\n",
       "        <style>\n",
       "            /* Turns off some styling */\n",
       "            progress {\n",
       "                /* gets rid of default border in Firefox and Opera. */\n",
       "                border: none;\n",
       "                /* Needs to be in here for Safari polyfill so background images work as expected. */\n",
       "                background-size: auto;\n",
       "            }\n",
       "            .progress-bar-interrupted, .progress-bar-interrupted::-webkit-progress-bar {\n",
       "                background: #F44336;\n",
       "            }\n",
       "        </style>\n",
       "      <progress value='12800' class='' max='12800' style='width:300px; height:20px; vertical-align: middle;'></progress>\n",
       "      100.00% [12800/12800 00:12<00:00 Sampling 4 chains, 0 divergences]\n",
       "    </div>\n",
       "    "
      ],
      "text/plain": [
       "<IPython.core.display.HTML object>"
      ]
     },
     "metadata": {},
     "output_type": "display_data"
    },
    {
     "name": "stderr",
     "output_type": "stream",
     "text": [
      "Sampling 4 chains for 2_000 tune and 1_200 draw iterations (8_000 + 4_800 draws total) took 20 seconds.\n",
      "The acceptance probability does not match the target. It is 0.6003343998912369, but should be close to 0.8. Try to increase the number of tuning steps.\n",
      "The number of effective samples is smaller than 25% for some parameters.\n",
      "Multiprocess sampling (4 chains in 4 jobs)\n",
      "NUTS: [sigma, c, b, a]\n"
     ]
    },
    {
     "data": {
      "text/html": [
       "\n",
       "    <div>\n",
       "        <style>\n",
       "            /* Turns off some styling */\n",
       "            progress {\n",
       "                /* gets rid of default border in Firefox and Opera. */\n",
       "                border: none;\n",
       "                /* Needs to be in here for Safari polyfill so background images work as expected. */\n",
       "                background-size: auto;\n",
       "            }\n",
       "            .progress-bar-interrupted, .progress-bar-interrupted::-webkit-progress-bar {\n",
       "                background: #F44336;\n",
       "            }\n",
       "        </style>\n",
       "      <progress value='12800' class='' max='12800' style='width:300px; height:20px; vertical-align: middle;'></progress>\n",
       "      100.00% [12800/12800 00:12<00:00 Sampling 4 chains, 0 divergences]\n",
       "    </div>\n",
       "    "
      ],
      "text/plain": [
       "<IPython.core.display.HTML object>"
      ]
     },
     "metadata": {},
     "output_type": "display_data"
    },
    {
     "name": "stderr",
     "output_type": "stream",
     "text": [
      "Sampling 4 chains for 2_000 tune and 1_200 draw iterations (8_000 + 4_800 draws total) took 20 seconds.\n",
      "Multiprocess sampling (4 chains in 4 jobs)\n",
      "NUTS: [sigma, c, b, a]\n"
     ]
    },
    {
     "data": {
      "text/html": [
       "\n",
       "    <div>\n",
       "        <style>\n",
       "            /* Turns off some styling */\n",
       "            progress {\n",
       "                /* gets rid of default border in Firefox and Opera. */\n",
       "                border: none;\n",
       "                /* Needs to be in here for Safari polyfill so background images work as expected. */\n",
       "                background-size: auto;\n",
       "            }\n",
       "            .progress-bar-interrupted, .progress-bar-interrupted::-webkit-progress-bar {\n",
       "                background: #F44336;\n",
       "            }\n",
       "        </style>\n",
       "      <progress value='12800' class='' max='12800' style='width:300px; height:20px; vertical-align: middle;'></progress>\n",
       "      100.00% [12800/12800 00:13<00:00 Sampling 4 chains, 0 divergences]\n",
       "    </div>\n",
       "    "
      ],
      "text/plain": [
       "<IPython.core.display.HTML object>"
      ]
     },
     "metadata": {},
     "output_type": "display_data"
    },
    {
     "name": "stderr",
     "output_type": "stream",
     "text": [
      "Sampling 4 chains for 2_000 tune and 1_200 draw iterations (8_000 + 4_800 draws total) took 20 seconds.\n",
      "The acceptance probability does not match the target. It is 0.8819404722849666, but should be close to 0.8. Try to increase the number of tuning steps.\n",
      "The acceptance probability does not match the target. It is 0.892216385347103, but should be close to 0.8. Try to increase the number of tuning steps.\n",
      "The number of effective samples is smaller than 25% for some parameters.\n",
      "Multiprocess sampling (4 chains in 4 jobs)\n",
      "NUTS: [sigma, c, b, a]\n"
     ]
    },
    {
     "data": {
      "text/html": [
       "\n",
       "    <div>\n",
       "        <style>\n",
       "            /* Turns off some styling */\n",
       "            progress {\n",
       "                /* gets rid of default border in Firefox and Opera. */\n",
       "                border: none;\n",
       "                /* Needs to be in here for Safari polyfill so background images work as expected. */\n",
       "                background-size: auto;\n",
       "            }\n",
       "            .progress-bar-interrupted, .progress-bar-interrupted::-webkit-progress-bar {\n",
       "                background: #F44336;\n",
       "            }\n",
       "        </style>\n",
       "      <progress value='12800' class='' max='12800' style='width:300px; height:20px; vertical-align: middle;'></progress>\n",
       "      100.00% [12800/12800 00:12<00:00 Sampling 4 chains, 0 divergences]\n",
       "    </div>\n",
       "    "
      ],
      "text/plain": [
       "<IPython.core.display.HTML object>"
      ]
     },
     "metadata": {},
     "output_type": "display_data"
    },
    {
     "name": "stderr",
     "output_type": "stream",
     "text": [
      "Sampling 4 chains for 2_000 tune and 1_200 draw iterations (8_000 + 4_800 draws total) took 19 seconds.\n",
      "The number of effective samples is smaller than 25% for some parameters.\n",
      "Multiprocess sampling (4 chains in 4 jobs)\n",
      "NUTS: [sigma, c, b, a]\n"
     ]
    },
    {
     "data": {
      "text/html": [
       "\n",
       "    <div>\n",
       "        <style>\n",
       "            /* Turns off some styling */\n",
       "            progress {\n",
       "                /* gets rid of default border in Firefox and Opera. */\n",
       "                border: none;\n",
       "                /* Needs to be in here for Safari polyfill so background images work as expected. */\n",
       "                background-size: auto;\n",
       "            }\n",
       "            .progress-bar-interrupted, .progress-bar-interrupted::-webkit-progress-bar {\n",
       "                background: #F44336;\n",
       "            }\n",
       "        </style>\n",
       "      <progress value='12800' class='' max='12800' style='width:300px; height:20px; vertical-align: middle;'></progress>\n",
       "      100.00% [12800/12800 00:12<00:00 Sampling 4 chains, 0 divergences]\n",
       "    </div>\n",
       "    "
      ],
      "text/plain": [
       "<IPython.core.display.HTML object>"
      ]
     },
     "metadata": {},
     "output_type": "display_data"
    },
    {
     "name": "stderr",
     "output_type": "stream",
     "text": [
      "Sampling 4 chains for 2_000 tune and 1_200 draw iterations (8_000 + 4_800 draws total) took 19 seconds.\n",
      "The number of effective samples is smaller than 25% for some parameters.\n",
      "Multiprocess sampling (4 chains in 4 jobs)\n",
      "NUTS: [sigma, c, b, a]\n"
     ]
    },
    {
     "data": {
      "text/html": [
       "\n",
       "    <div>\n",
       "        <style>\n",
       "            /* Turns off some styling */\n",
       "            progress {\n",
       "                /* gets rid of default border in Firefox and Opera. */\n",
       "                border: none;\n",
       "                /* Needs to be in here for Safari polyfill so background images work as expected. */\n",
       "                background-size: auto;\n",
       "            }\n",
       "            .progress-bar-interrupted, .progress-bar-interrupted::-webkit-progress-bar {\n",
       "                background: #F44336;\n",
       "            }\n",
       "        </style>\n",
       "      <progress value='12800' class='' max='12800' style='width:300px; height:20px; vertical-align: middle;'></progress>\n",
       "      100.00% [12800/12800 00:12<00:00 Sampling 4 chains, 0 divergences]\n",
       "    </div>\n",
       "    "
      ],
      "text/plain": [
       "<IPython.core.display.HTML object>"
      ]
     },
     "metadata": {},
     "output_type": "display_data"
    },
    {
     "name": "stderr",
     "output_type": "stream",
     "text": [
      "Sampling 4 chains for 2_000 tune and 1_200 draw iterations (8_000 + 4_800 draws total) took 20 seconds.\n",
      "Multiprocess sampling (4 chains in 4 jobs)\n",
      "NUTS: [sigma, c, b, a]\n"
     ]
    },
    {
     "data": {
      "text/html": [
       "\n",
       "    <div>\n",
       "        <style>\n",
       "            /* Turns off some styling */\n",
       "            progress {\n",
       "                /* gets rid of default border in Firefox and Opera. */\n",
       "                border: none;\n",
       "                /* Needs to be in here for Safari polyfill so background images work as expected. */\n",
       "                background-size: auto;\n",
       "            }\n",
       "            .progress-bar-interrupted, .progress-bar-interrupted::-webkit-progress-bar {\n",
       "                background: #F44336;\n",
       "            }\n",
       "        </style>\n",
       "      <progress value='12800' class='' max='12800' style='width:300px; height:20px; vertical-align: middle;'></progress>\n",
       "      100.00% [12800/12800 00:11<00:00 Sampling 4 chains, 0 divergences]\n",
       "    </div>\n",
       "    "
      ],
      "text/plain": [
       "<IPython.core.display.HTML object>"
      ]
     },
     "metadata": {},
     "output_type": "display_data"
    },
    {
     "name": "stderr",
     "output_type": "stream",
     "text": [
      "Sampling 4 chains for 2_000 tune and 1_200 draw iterations (8_000 + 4_800 draws total) took 19 seconds.\n",
      "The number of effective samples is smaller than 25% for some parameters.\n",
      "Multiprocess sampling (4 chains in 4 jobs)\n",
      "NUTS: [sigma, c, b, a]\n"
     ]
    },
    {
     "data": {
      "text/html": [
       "\n",
       "    <div>\n",
       "        <style>\n",
       "            /* Turns off some styling */\n",
       "            progress {\n",
       "                /* gets rid of default border in Firefox and Opera. */\n",
       "                border: none;\n",
       "                /* Needs to be in here for Safari polyfill so background images work as expected. */\n",
       "                background-size: auto;\n",
       "            }\n",
       "            .progress-bar-interrupted, .progress-bar-interrupted::-webkit-progress-bar {\n",
       "                background: #F44336;\n",
       "            }\n",
       "        </style>\n",
       "      <progress value='12800' class='' max='12800' style='width:300px; height:20px; vertical-align: middle;'></progress>\n",
       "      100.00% [12800/12800 00:12<00:00 Sampling 4 chains, 0 divergences]\n",
       "    </div>\n",
       "    "
      ],
      "text/plain": [
       "<IPython.core.display.HTML object>"
      ]
     },
     "metadata": {},
     "output_type": "display_data"
    },
    {
     "name": "stderr",
     "output_type": "stream",
     "text": [
      "Sampling 4 chains for 2_000 tune and 1_200 draw iterations (8_000 + 4_800 draws total) took 19 seconds.\n",
      "The number of effective samples is smaller than 25% for some parameters.\n",
      "Multiprocess sampling (4 chains in 4 jobs)\n",
      "NUTS: [sigma, c, b, a]\n"
     ]
    },
    {
     "data": {
      "text/html": [
       "\n",
       "    <div>\n",
       "        <style>\n",
       "            /* Turns off some styling */\n",
       "            progress {\n",
       "                /* gets rid of default border in Firefox and Opera. */\n",
       "                border: none;\n",
       "                /* Needs to be in here for Safari polyfill so background images work as expected. */\n",
       "                background-size: auto;\n",
       "            }\n",
       "            .progress-bar-interrupted, .progress-bar-interrupted::-webkit-progress-bar {\n",
       "                background: #F44336;\n",
       "            }\n",
       "        </style>\n",
       "      <progress value='12800' class='' max='12800' style='width:300px; height:20px; vertical-align: middle;'></progress>\n",
       "      100.00% [12800/12800 00:12<00:00 Sampling 4 chains, 0 divergences]\n",
       "    </div>\n",
       "    "
      ],
      "text/plain": [
       "<IPython.core.display.HTML object>"
      ]
     },
     "metadata": {},
     "output_type": "display_data"
    },
    {
     "name": "stderr",
     "output_type": "stream",
     "text": [
      "Sampling 4 chains for 2_000 tune and 1_200 draw iterations (8_000 + 4_800 draws total) took 20 seconds.\n",
      "The acceptance probability does not match the target. It is 0.6064290676374551, but should be close to 0.8. Try to increase the number of tuning steps.\n",
      "The number of effective samples is smaller than 10% for some parameters.\n",
      "Multiprocess sampling (4 chains in 4 jobs)\n",
      "NUTS: [sigma, c, b, a]\n"
     ]
    },
    {
     "data": {
      "text/html": [
       "\n",
       "    <div>\n",
       "        <style>\n",
       "            /* Turns off some styling */\n",
       "            progress {\n",
       "                /* gets rid of default border in Firefox and Opera. */\n",
       "                border: none;\n",
       "                /* Needs to be in here for Safari polyfill so background images work as expected. */\n",
       "                background-size: auto;\n",
       "            }\n",
       "            .progress-bar-interrupted, .progress-bar-interrupted::-webkit-progress-bar {\n",
       "                background: #F44336;\n",
       "            }\n",
       "        </style>\n",
       "      <progress value='12800' class='' max='12800' style='width:300px; height:20px; vertical-align: middle;'></progress>\n",
       "      100.00% [12800/12800 00:12<00:00 Sampling 4 chains, 0 divergences]\n",
       "    </div>\n",
       "    "
      ],
      "text/plain": [
       "<IPython.core.display.HTML object>"
      ]
     },
     "metadata": {},
     "output_type": "display_data"
    },
    {
     "name": "stderr",
     "output_type": "stream",
     "text": [
      "Sampling 4 chains for 2_000 tune and 1_200 draw iterations (8_000 + 4_800 draws total) took 20 seconds.\n",
      "The acceptance probability does not match the target. It is 0.8808826578060306, but should be close to 0.8. Try to increase the number of tuning steps.\n",
      "The number of effective samples is smaller than 25% for some parameters.\n",
      "Multiprocess sampling (4 chains in 4 jobs)\n",
      "NUTS: [sigma, c, b, a]\n"
     ]
    },
    {
     "data": {
      "text/html": [
       "\n",
       "    <div>\n",
       "        <style>\n",
       "            /* Turns off some styling */\n",
       "            progress {\n",
       "                /* gets rid of default border in Firefox and Opera. */\n",
       "                border: none;\n",
       "                /* Needs to be in here for Safari polyfill so background images work as expected. */\n",
       "                background-size: auto;\n",
       "            }\n",
       "            .progress-bar-interrupted, .progress-bar-interrupted::-webkit-progress-bar {\n",
       "                background: #F44336;\n",
       "            }\n",
       "        </style>\n",
       "      <progress value='12800' class='' max='12800' style='width:300px; height:20px; vertical-align: middle;'></progress>\n",
       "      100.00% [12800/12800 00:11<00:00 Sampling 4 chains, 0 divergences]\n",
       "    </div>\n",
       "    "
      ],
      "text/plain": [
       "<IPython.core.display.HTML object>"
      ]
     },
     "metadata": {},
     "output_type": "display_data"
    },
    {
     "name": "stderr",
     "output_type": "stream",
     "text": [
      "Sampling 4 chains for 2_000 tune and 1_200 draw iterations (8_000 + 4_800 draws total) took 19 seconds.\n",
      "The acceptance probability does not match the target. It is 0.8840039144555374, but should be close to 0.8. Try to increase the number of tuning steps.\n",
      "The number of effective samples is smaller than 25% for some parameters.\n",
      "Multiprocess sampling (4 chains in 4 jobs)\n",
      "NUTS: [sigma, c, b, a]\n"
     ]
    },
    {
     "data": {
      "text/html": [
       "\n",
       "    <div>\n",
       "        <style>\n",
       "            /* Turns off some styling */\n",
       "            progress {\n",
       "                /* gets rid of default border in Firefox and Opera. */\n",
       "                border: none;\n",
       "                /* Needs to be in here for Safari polyfill so background images work as expected. */\n",
       "                background-size: auto;\n",
       "            }\n",
       "            .progress-bar-interrupted, .progress-bar-interrupted::-webkit-progress-bar {\n",
       "                background: #F44336;\n",
       "            }\n",
       "        </style>\n",
       "      <progress value='12800' class='' max='12800' style='width:300px; height:20px; vertical-align: middle;'></progress>\n",
       "      100.00% [12800/12800 00:11<00:00 Sampling 4 chains, 0 divergences]\n",
       "    </div>\n",
       "    "
      ],
      "text/plain": [
       "<IPython.core.display.HTML object>"
      ]
     },
     "metadata": {},
     "output_type": "display_data"
    },
    {
     "name": "stderr",
     "output_type": "stream",
     "text": [
      "Sampling 4 chains for 2_000 tune and 1_200 draw iterations (8_000 + 4_800 draws total) took 19 seconds.\n",
      "The acceptance probability does not match the target. It is 0.7106621496411943, but should be close to 0.8. Try to increase the number of tuning steps.\n",
      "The number of effective samples is smaller than 25% for some parameters.\n",
      "Multiprocess sampling (4 chains in 4 jobs)\n",
      "NUTS: [sigma, c, b, a]\n"
     ]
    },
    {
     "data": {
      "text/html": [
       "\n",
       "    <div>\n",
       "        <style>\n",
       "            /* Turns off some styling */\n",
       "            progress {\n",
       "                /* gets rid of default border in Firefox and Opera. */\n",
       "                border: none;\n",
       "                /* Needs to be in here for Safari polyfill so background images work as expected. */\n",
       "                background-size: auto;\n",
       "            }\n",
       "            .progress-bar-interrupted, .progress-bar-interrupted::-webkit-progress-bar {\n",
       "                background: #F44336;\n",
       "            }\n",
       "        </style>\n",
       "      <progress value='12800' class='' max='12800' style='width:300px; height:20px; vertical-align: middle;'></progress>\n",
       "      100.00% [12800/12800 00:11<00:00 Sampling 4 chains, 0 divergences]\n",
       "    </div>\n",
       "    "
      ],
      "text/plain": [
       "<IPython.core.display.HTML object>"
      ]
     },
     "metadata": {},
     "output_type": "display_data"
    },
    {
     "name": "stderr",
     "output_type": "stream",
     "text": [
      "Sampling 4 chains for 2_000 tune and 1_200 draw iterations (8_000 + 4_800 draws total) took 18 seconds.\n",
      "The acceptance probability does not match the target. It is 0.8886323297782782, but should be close to 0.8. Try to increase the number of tuning steps.\n",
      "The acceptance probability does not match the target. It is 0.576372351792908, but should be close to 0.8. Try to increase the number of tuning steps.\n",
      "The number of effective samples is smaller than 10% for some parameters.\n",
      "Multiprocess sampling (4 chains in 4 jobs)\n",
      "NUTS: [sigma, c, b, a]\n"
     ]
    },
    {
     "data": {
      "text/html": [
       "\n",
       "    <div>\n",
       "        <style>\n",
       "            /* Turns off some styling */\n",
       "            progress {\n",
       "                /* gets rid of default border in Firefox and Opera. */\n",
       "                border: none;\n",
       "                /* Needs to be in here for Safari polyfill so background images work as expected. */\n",
       "                background-size: auto;\n",
       "            }\n",
       "            .progress-bar-interrupted, .progress-bar-interrupted::-webkit-progress-bar {\n",
       "                background: #F44336;\n",
       "            }\n",
       "        </style>\n",
       "      <progress value='12800' class='' max='12800' style='width:300px; height:20px; vertical-align: middle;'></progress>\n",
       "      100.00% [12800/12800 00:12<00:00 Sampling 4 chains, 0 divergences]\n",
       "    </div>\n",
       "    "
      ],
      "text/plain": [
       "<IPython.core.display.HTML object>"
      ]
     },
     "metadata": {},
     "output_type": "display_data"
    },
    {
     "name": "stderr",
     "output_type": "stream",
     "text": [
      "Sampling 4 chains for 2_000 tune and 1_200 draw iterations (8_000 + 4_800 draws total) took 20 seconds.\n",
      "The acceptance probability does not match the target. It is 0.7058617561981682, but should be close to 0.8. Try to increase the number of tuning steps.\n",
      "The number of effective samples is smaller than 25% for some parameters.\n",
      "Multiprocess sampling (4 chains in 4 jobs)\n",
      "NUTS: [sigma, c, b, a]\n"
     ]
    },
    {
     "data": {
      "text/html": [
       "\n",
       "    <div>\n",
       "        <style>\n",
       "            /* Turns off some styling */\n",
       "            progress {\n",
       "                /* gets rid of default border in Firefox and Opera. */\n",
       "                border: none;\n",
       "                /* Needs to be in here for Safari polyfill so background images work as expected. */\n",
       "                background-size: auto;\n",
       "            }\n",
       "            .progress-bar-interrupted, .progress-bar-interrupted::-webkit-progress-bar {\n",
       "                background: #F44336;\n",
       "            }\n",
       "        </style>\n",
       "      <progress value='12800' class='' max='12800' style='width:300px; height:20px; vertical-align: middle;'></progress>\n",
       "      100.00% [12800/12800 00:11<00:00 Sampling 4 chains, 0 divergences]\n",
       "    </div>\n",
       "    "
      ],
      "text/plain": [
       "<IPython.core.display.HTML object>"
      ]
     },
     "metadata": {},
     "output_type": "display_data"
    },
    {
     "name": "stderr",
     "output_type": "stream",
     "text": [
      "Sampling 4 chains for 2_000 tune and 1_200 draw iterations (8_000 + 4_800 draws total) took 19 seconds.\n",
      "The acceptance probability does not match the target. It is 0.6794816476455217, but should be close to 0.8. Try to increase the number of tuning steps.\n",
      "The acceptance probability does not match the target. It is 0.8930855116483627, but should be close to 0.8. Try to increase the number of tuning steps.\n",
      "The number of effective samples is smaller than 25% for some parameters.\n"
     ]
    }
   ],
   "source": [
    "def GompertzSeries(data,start=30,end=120):\n",
    "    estimates = {}\n",
    "    tr = None\n",
    "    for l in range(start,end+1):\n",
    "        initial = {} if tr == None else {'a':np.mean(tr.a),'b':np.mean(tr.b),'c':np.mean(tr.c)}\n",
    "        tr = FitGompertz(data,l=l,initial=initial)\n",
    "#        ssd = np.sum(np.power(data[:l]-np.mean(tr.deaths,axis=0),2))\n",
    "        estimates[l] = {'a':tr.a,'b':tr.b,'c':tr.c,\"est\":tr.deaths}\n",
    "    return estimates\n",
    "\n",
    "gomp_est = GompertzSeries(data,60,90)\n"
   ]
  },
  {
   "cell_type": "code",
   "execution_count": 82,
   "metadata": {
    "scrolled": false
   },
   "outputs": [
    {
     "ename": "KeyError",
     "evalue": "'ssd'",
     "output_type": "error",
     "traceback": [
      "\u001b[0;31m---------------------------------------------------------------------------\u001b[0m",
      "\u001b[0;31mKeyError\u001b[0m                                  Traceback (most recent call last)",
      "\u001b[0;32m<ipython-input-82-9610123284eb>\u001b[0m in \u001b[0;36m<module>\u001b[0;34m\u001b[0m\n\u001b[1;32m      3\u001b[0m \u001b[0;34m\u001b[0m\u001b[0m\n\u001b[1;32m      4\u001b[0m \u001b[0;32mfor\u001b[0m \u001b[0mk\u001b[0m\u001b[0;34m,\u001b[0m\u001b[0mv\u001b[0m \u001b[0;32min\u001b[0m \u001b[0mgomp_est\u001b[0m\u001b[0;34m.\u001b[0m\u001b[0mitems\u001b[0m\u001b[0;34m(\u001b[0m\u001b[0;34m)\u001b[0m\u001b[0;34m:\u001b[0m\u001b[0;34m\u001b[0m\u001b[0;34m\u001b[0m\u001b[0m\n\u001b[0;32m----> 5\u001b[0;31m     \u001b[0mprint\u001b[0m\u001b[0;34m(\u001b[0m\u001b[0mk\u001b[0m\u001b[0;34m,\u001b[0m\u001b[0mv\u001b[0m\u001b[0;34m[\u001b[0m\u001b[0;34m\"ssd\"\u001b[0m\u001b[0;34m]\u001b[0m\u001b[0;34m)\u001b[0m\u001b[0;34m\u001b[0m\u001b[0;34m\u001b[0m\u001b[0m\n\u001b[0m\u001b[1;32m      6\u001b[0m     \u001b[0;32mfor\u001b[0m \u001b[0mp\u001b[0m \u001b[0;32min\u001b[0m \u001b[0;34m[\u001b[0m\u001b[0;34m'a'\u001b[0m\u001b[0;34m,\u001b[0m\u001b[0;34m'b'\u001b[0m\u001b[0;34m,\u001b[0m\u001b[0;34m'c'\u001b[0m\u001b[0;34m]\u001b[0m\u001b[0;34m:\u001b[0m\u001b[0;34m\u001b[0m\u001b[0;34m\u001b[0m\u001b[0m\n\u001b[1;32m      7\u001b[0m         \u001b[0mprint\u001b[0m\u001b[0;34m(\u001b[0m\u001b[0;34m\"\\t\"\u001b[0m\u001b[0;34m,\u001b[0m\u001b[0mp\u001b[0m\u001b[0;34m,\u001b[0m\u001b[0mnp\u001b[0m\u001b[0;34m.\u001b[0m\u001b[0mmean\u001b[0m\u001b[0;34m(\u001b[0m\u001b[0mv\u001b[0m\u001b[0;34m[\u001b[0m\u001b[0mp\u001b[0m\u001b[0;34m]\u001b[0m\u001b[0;34m)\u001b[0m\u001b[0;34m,\u001b[0m\u001b[0mnp\u001b[0m\u001b[0;34m.\u001b[0m\u001b[0mpercentile\u001b[0m\u001b[0;34m(\u001b[0m\u001b[0mv\u001b[0m\u001b[0;34m[\u001b[0m\u001b[0mp\u001b[0m\u001b[0;34m]\u001b[0m\u001b[0;34m,\u001b[0m\u001b[0mq\u001b[0m\u001b[0;34m=\u001b[0m\u001b[0;34m(\u001b[0m\u001b[0;36m2.5\u001b[0m\u001b[0;34m,\u001b[0m\u001b[0;36m5\u001b[0m\u001b[0;34m,\u001b[0m\u001b[0;36m50\u001b[0m\u001b[0;34m,\u001b[0m\u001b[0;36m95\u001b[0m\u001b[0;34m,\u001b[0m\u001b[0;36m97.5\u001b[0m\u001b[0;34m)\u001b[0m\u001b[0;34m)\u001b[0m\u001b[0;34m)\u001b[0m\u001b[0;34m\u001b[0m\u001b[0;34m\u001b[0m\u001b[0m\n",
      "\u001b[0;31mKeyError\u001b[0m: 'ssd'"
     ]
    }
   ],
   "source": [
    "with open(\"estimates/gomp_symptomatic_%d\"%time.time(),\"wb+\") as f:\n",
    "    pickle.dump(gomp_est,f)\n",
    "\n",
    "for k,v in gomp_est.items():\n",
    "    print(k,v[\"ssd\"])\n",
    "    for p in ['a','b','c']:\n",
    "        print(\"\\t\",p,np.mean(v[p]),np.percentile(v[p],q=(2.5,5,50,95,97.5)))\n"
   ]
  },
  {
   "cell_type": "code",
   "execution_count": null,
   "metadata": {},
   "outputs": [],
   "source": [
    "trace = FitGompertz(l=30)\n",
    "plt.plot(ts1[:l],deaths1[:l],\"+\")\n",
    "plt.plot(ts1[:l],trace.deaths[0])\n",
    "plt.fill_between(ts1[:l],*np.percentile(trace.deaths,axis=0,q=(2.5,97.5)),color=\"orange\",alpha=.2)\n",
    "\n",
    "gomp_est = np.mean(trace.deaths,axis=0)\n",
    "print(SSD(deaths1[:1],gomp_est))\n"
   ]
  },
  {
   "cell_type": "code",
   "execution_count": null,
   "metadata": {},
   "outputs": [],
   "source": []
  }
 ],
 "metadata": {
  "kernelspec": {
   "display_name": "Python 3",
   "language": "python",
   "name": "python3"
  },
  "language_info": {
   "codemirror_mode": {
    "name": "ipython",
    "version": 3
   },
   "file_extension": ".py",
   "mimetype": "text/x-python",
   "name": "python",
   "nbconvert_exporter": "python",
   "pygments_lexer": "ipython3",
   "version": "3.7.9"
  }
 },
 "nbformat": 4,
 "nbformat_minor": 4
}
