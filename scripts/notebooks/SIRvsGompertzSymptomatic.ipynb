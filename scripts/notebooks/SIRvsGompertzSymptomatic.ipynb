{
 "cells": [
  {
   "cell_type": "code",
   "execution_count": null,
   "metadata": {},
   "outputs": [],
   "source": [
    "import numpy as np\n",
    "import theano\n",
    "import theano.tensor as tt\n",
    "import pymc3 as pm\n",
    "import datetime\n",
    "import pandas as pd\n",
    "\n",
    "import time\n",
    "import pickle\n",
    "\n",
    "import matplotlib.pyplot as plt\n",
    "import matplotlib\n",
    "#theano.config.cxx = \"clang++-mp-9.0\"\n",
    "theano.config.optimizer='fast_run'\n",
    "theano.config.floatX = \"float64\"\n",
    " \n",
    "#theano.config.cache_optimizations = True\n",
    "# Legend-formating for matplotlib\n",
    "def _format_k(prec):\n",
    "    \"\"\"\n",
    "        format yaxis 10_000 as 10 k.\n",
    "        _format_k(0)(1200, 1000.0) gives \"1 k\"\n",
    "        _format_k(1)(1200, 1000.0) gives \"1.2 k\"\n",
    "    \"\"\"\n",
    "\n",
    "    def inner(xval, tickpos):\n",
    "        return f\"${xval/1_000:.{prec}f}\\,$k\"\n",
    "\n",
    "    return inner\n"
   ]
  },
  {
   "cell_type": "code",
   "execution_count": null,
   "metadata": {},
   "outputs": [],
   "source": [
    "def plain_SIR_model(beta,gamma,N,S0,I0,R0,l=150):\n",
    "    \"\"\"Simple classical SIR-Model with time-constant beta,gamma\"\"\"\n",
    "    def next_day(t,St,It,Rt,oS,oI,oR,eff,beta,gamma,N):\n",
    "        eff = beta*St/N\n",
    "        bSIoN = eff * It # -beta * (S*I)/N\n",
    "        gI = gamma*It\n",
    "        # Calculate differences\n",
    "        dS = -bSIoN\n",
    "        dI = bSIoN - gI\n",
    "        dR = gI\n",
    "        # Update values\n",
    "        nxt_St = St + dS\n",
    "        nxt_It = It + dI\n",
    "        nxt_Rt = Rt + dR\n",
    "        \n",
    "        nxt_St = tt.clip(nxt_St,0,1e16) # Improves sampling stability\n",
    "        \n",
    "        # Pass on to next step\n",
    "        return nxt_St,nxt_It,nxt_Rt, dS,dI,dR, eff\n",
    "        \n",
    "    # Initial internal state\n",
    "    zero = tt.cast(0.,dtype='float64')\n",
    "    initial_state = [S0,I0,R0,zero,zero,zero,zero]\n",
    "    sequences = [tt.arange(l)]\n",
    "    # Exceute the 'Loop'\n",
    "    state,_ = theano.scan(fn=next_day,\n",
    "                            sequences=sequences,# time dependent sequences can be passed as first params\n",
    "                            outputs_info=initial_state,\n",
    "                            non_sequences=[beta,gamma,N])\n",
    "    return state\n",
    "\n",
    "\n",
    "def Gompertz(a,b,c,l=150):\n",
    "    t = tt.arange(l)\n",
    "    return a*tt.exp(-b*tt.exp(-c*t))"
   ]
  },
  {
   "cell_type": "code",
   "execution_count": null,
   "metadata": {},
   "outputs": [],
   "source": [
    "# Data from\n",
    "#https://raw.githubusercontent.com/CSSEGISandData/COVID-19/master/csse_covid_19_data/csse_covid_19_time_series/time_series_covid19_deaths_global.csv\n",
    "#Germany,51.165690999999995,10.451526,\n",
    "jhu_deaths = [0,0,0,0,0,0,0,0,0,0,0,0,0,0,0,0,0,0,0,0,0,0,0,0,0,0,0,0,0,0,0,0,0,0,0,0,0,0,0,0,0,0,0,0,0,0,0,2,2,3,3,7,9,11,17,24,28,44,67,84,94,123,157,206,267,342,433,533,645,775,920,1107,1275,1444,1584,1810,2016,2349,2607,2767,2736,3022,3194,3294,3804,4052,4352,4459,4586,4862,5033,5279,5575,5760,5877,5976,6126,6314,6467,6623,6736,6812,6866,6993,6993,7275,7392,7510,7549,7569,7661,7738,7861,7884,7897,7938,7962,8003,8081,8144,8203,8228,8261,8283,8309,8372,8428,8470,8504,8530,8540,8555,8563,8602,8635,8658,8673,8685,8695,8736,8752,8772,8783,8793,8801,8807,8820,8851,8875,8887,8895,8895,8899,8914,8928,8940,8965,8968,8968,8976,8990,8995,9006,9010,9020,9023,9022,9032,9046,9057,9063,9070,9071,9074,9078,9080,9087,9088,9091,9092,9094,9099,9102,9110,9120,9124,9124,9125,9131,9135,9144,9147,9154,9154,9154,9163,9179,9181,9195,9201,9202,9203,9208,9213,9217,9230,9235,9235,9236,9241,9249,9263,9266,9272,9275,9276,9281,9285,9290,9290,9299]\n",
    "jhu_ts = pd.date_range(datetime.date(2020,1,21),periods=len(jhu_deaths),freq='D')\n",
    "\n",
    "# Limit to non-zero values, dropping the front of the list\n",
    "first_non_zero_index = 47\n",
    "jhu_deaths1 = jhu_deaths[first_non_zero_index:]\n",
    "jhu_ts1 = jhu_ts[first_non_zero_index:]\n",
    "print(\"first non zero deaths timestamp\",jhu_ts1[0])\n",
    "\n",
    "# Alternative Deaths from Situation-report graph of actual dates of deaths\n",
    "rki_deaths_per_day = [1, 1, 1, 1, 5, 2, 3, 4, 11, 13, 12, 21, 40, 24, 42, 42, 67, 76, 92, 104, 107, 114, 172, 165, 162, 204, 199, 223, 240, 240, 254, 260, 257, 240, 246, 239, 243, 245, 227, 239, 241, 191, 203, 209, 172, 194, 157, 163, 129, 141, 132, 125, 128, 121, 106, 76, 92, 78, 93, 82, 69, 54, 63, 64, 63, 42, 54, 66, 47, 29, 40, 44, 45, 47, 31, 33, 27, 30, 31, 23, 21, 18, 19, 17, 18, 24, 15, 18, 18, 14, 8, 9, 8, 6, 11, 11, 14, 9, 6, 9, 7, 7, 9, 6, 3, 4, 4, 6, 7, 7, 7, 4, 7, 8, 1]\n",
    "rki_deaths = np.cumsum(rki_deaths_per_day)\n",
    "rki_ts = pd.date_range(datetime.date(2020,3,8),periods=len(rki_deaths),freq='D')\n",
    "\n",
    "sources = {\"jhu_deaths\":(jhu_deaths,jhu_ts),\"jhu1_deaths\":(jhu_deaths1,jhu_ts1),\"rki_deaths\":(rki_deaths,rki_ts)}"
   ]
  },
  {
   "cell_type": "code",
   "execution_count": 4,
   "metadata": {
    "scrolled": false
   },
   "outputs": [
    {
     "name": "stdout",
     "output_type": "stream",
     "text": [
      "150 169\n",
      "2020-02-01 00:00:00 20.0\n",
      "2020-02-02 00:00:00 25.0\n",
      "2020-02-03 00:00:00 27.0\n",
      "2020-02-04 00:00:00 29.0\n",
      "2020-02-05 00:00:00 31.0\n",
      "2020-02-06 00:00:00 32.0\n",
      "2020-02-07 00:00:00 34.0\n",
      "2020-02-08 00:00:00 34.0\n",
      "2020-02-09 00:00:00 36.0\n",
      "2020-02-10 00:00:00 42.0\n",
      "2020-02-11 00:00:00 43.0\n",
      "2020-02-12 00:00:00 47.0\n",
      "2020-02-13 00:00:00 52.0\n",
      "2020-02-14 00:00:00 58.0\n",
      "2020-02-15 00:00:00 67.0\n",
      "2020-02-16 00:00:00 72.0\n",
      "2020-02-17 00:00:00 81.0\n",
      "2020-02-18 00:00:00 91.0\n",
      "2020-02-19 00:00:00 101.0\n",
      "2020-02-20 00:00:00 128.0\n",
      "2020-02-21 00:00:00 144.0\n",
      "2020-02-22 00:00:00 167.0\n",
      "2020-02-23 00:00:00 211.0\n",
      "2020-02-24 00:00:00 276.0\n",
      "2020-02-25 00:00:00 380.0\n",
      "2020-02-26 00:00:00 533.0\n",
      "2020-02-27 00:00:00 693.0\n",
      "2020-02-28 00:00:00 901.0\n",
      "2020-02-29 00:00:00 1089.0\n",
      "2020-03-01 00:00:00 1304.0\n",
      "2020-03-02 00:00:00 1587.0\n",
      "2020-03-03 00:00:00 1862.0\n",
      "2020-03-04 00:00:00 2238.0\n",
      "2020-03-05 00:00:00 2647.0\n",
      "2020-03-06 00:00:00 3281.0\n",
      "2020-03-07 00:00:00 4081.0\n",
      "2020-03-08 00:00:00 5166.0\n",
      "2020-03-09 00:00:00 6853.0\n",
      "2020-03-10 00:00:00 8988.0\n",
      "2020-03-11 00:00:00 11652.0\n",
      "2020-03-12 00:00:00 14603.0\n",
      "2020-03-13 00:00:00 18190.0\n",
      "2020-03-14 00:00:00 21832.0\n",
      "2020-03-15 00:00:00 25590.0\n",
      "2020-03-16 00:00:00 30574.0\n",
      "2020-03-17 00:00:00 34803.0\n",
      "2020-03-18 00:00:00 39122.0\n",
      "2020-03-19 00:00:00 42877.0\n",
      "2020-03-20 00:00:00 47260.0\n",
      "2020-03-21 00:00:00 50792.0\n",
      "2020-03-22 00:00:00 53719.0\n",
      "2020-03-23 00:00:00 57907.0\n",
      "2020-03-24 00:00:00 61020.0\n",
      "2020-03-25 00:00:00 64465.0\n",
      "2020-03-26 00:00:00 67524.0\n",
      "2020-03-27 00:00:00 70704.0\n",
      "2020-03-28 00:00:00 73673.0\n",
      "2020-03-29 00:00:00 76015.0\n",
      "2020-03-30 00:00:00 79406.0\n",
      "2020-03-31 00:00:00 81946.0\n",
      "2020-04-01 00:00:00 84948.0\n",
      "2020-04-02 00:00:00 87625.0\n",
      "2020-04-03 00:00:00 90354.0\n",
      "2020-04-04 00:00:00 92499.0\n",
      "2020-04-05 00:00:00 94398.0\n",
      "2020-04-06 00:00:00 96843.0\n",
      "2020-04-07 00:00:00 98953.0\n",
      "2020-04-08 00:00:00 100943.0\n",
      "2020-04-09 00:00:00 102826.0\n",
      "2020-04-10 00:00:00 104426.0\n",
      "2020-04-11 00:00:00 105772.0\n",
      "2020-04-12 00:00:00 107084.0\n",
      "2020-04-13 00:00:00 108350.0\n",
      "2020-04-14 00:00:00 109646.0\n",
      "2020-04-15 00:00:00 110931.0\n",
      "2020-04-16 00:00:00 112072.0\n",
      "2020-04-17 00:00:00 113149.0\n",
      "2020-04-18 00:00:00 114081.0\n",
      "2020-04-19 00:00:00 114878.0\n",
      "2020-04-20 00:00:00 115912.0\n",
      "2020-04-21 00:00:00 116725.0\n",
      "2020-04-22 00:00:00 117526.0\n",
      "2020-04-23 00:00:00 118305.0\n",
      "2020-04-24 00:00:00 119012.0\n",
      "2020-04-25 00:00:00 119626.0\n",
      "2020-04-26 00:00:00 120141.0\n",
      "2020-04-27 00:00:00 120840.0\n",
      "2020-04-28 00:00:00 121399.0\n",
      "2020-04-29 00:00:00 121900.0\n",
      "2020-04-30 00:00:00 122489.0\n",
      "2020-05-01 00:00:00 122959.0\n",
      "2020-05-02 00:00:00 123373.0\n",
      "2020-05-03 00:00:00 123798.0\n",
      "2020-05-04 00:00:00 124331.0\n",
      "2020-05-05 00:00:00 124793.0\n",
      "2020-05-06 00:00:00 125200.0\n",
      "2020-05-07 00:00:00 125600.0\n",
      "2020-05-08 00:00:00 125978.0\n",
      "2020-05-09 00:00:00 126302.0\n",
      "2020-05-10 00:00:00 126598.0\n",
      "2020-05-11 00:00:00 126964.0\n",
      "2020-05-12 00:00:00 127288.0\n",
      "2020-05-13 00:00:00 127588.0\n",
      "2020-05-14 00:00:00 127832.0\n",
      "2020-05-15 00:00:00 128190.0\n",
      "2020-05-16 00:00:00 128486.0\n",
      "2020-05-17 00:00:00 128683.0\n",
      "2020-05-18 00:00:00 129036.0\n",
      "2020-05-19 00:00:00 129250.0\n",
      "2020-05-20 00:00:00 129574.0\n",
      "2020-05-21 00:00:00 129766.0\n",
      "2020-05-22 00:00:00 129978.0\n",
      "2020-05-23 00:00:00 130167.0\n",
      "2020-05-24 00:00:00 130343.0\n",
      "2020-05-25 00:00:00 130607.0\n",
      "2020-05-26 00:00:00 130836.0\n",
      "2020-05-27 00:00:00 131091.0\n",
      "2020-05-28 00:00:00 131293.0\n",
      "2020-05-29 00:00:00 131482.0\n",
      "2020-05-30 00:00:00 131638.0\n",
      "2020-05-31 00:00:00 131770.0\n",
      "2020-06-01 00:00:00 131938.0\n",
      "2020-06-02 00:00:00 132156.0\n",
      "2020-06-03 00:00:00 132364.0\n",
      "2020-06-04 00:00:00 132547.0\n",
      "2020-06-05 00:00:00 132716.0\n",
      "2020-06-06 00:00:00 132872.0\n",
      "2020-06-07 00:00:00 132977.0\n",
      "2020-06-08 00:00:00 133192.0\n",
      "2020-06-09 00:00:00 133393.0\n",
      "2020-06-10 00:00:00 133608.0\n",
      "2020-06-11 00:00:00 133778.0\n",
      "2020-06-12 00:00:00 133960.0\n",
      "2020-06-13 00:00:00 134147.0\n",
      "2020-06-14 00:00:00 134302.0\n",
      "2020-06-15 00:00:00 134582.0\n",
      "2020-06-16 00:00:00 135287.0\n",
      "2020-06-17 00:00:00 135615.0\n",
      "2020-06-18 00:00:00 135835.0\n",
      "2020-06-19 00:00:00 136124.0\n",
      "2020-06-20 00:00:00 136328.0\n",
      "2020-06-21 00:00:00 136489.0\n",
      "2020-06-22 00:00:00 136721.0\n",
      "2020-06-23 00:00:00 136908.0\n",
      "2020-06-24 00:00:00 137147.0\n",
      "2020-06-25 00:00:00 137338.0\n",
      "2020-06-26 00:00:00 137550.0\n",
      "2020-06-27 00:00:00 137721.0\n",
      "2020-06-28 00:00:00 137863.0\n",
      "2020-06-29 00:00:00 138087.0\n"
     ]
    }
   ],
   "source": [
    "# Include Symptomatic from arcgis-Dump\n",
    "rki_df = pd.read_csv(\"data/RKI_COVID19_200723.csv\", sep=\",\") \n",
    "\n",
    "def rdate(s):\n",
    "    r = None\n",
    "    if \"T\" in s:\n",
    "        r = datetime.datetime.strptime(s.split(\"T\")[0],\"%Y-%m-%d\")\n",
    "    if \"-\" in s:\n",
    "        r = datetime.datetime.strptime(s.split(\" \")[0],\"%Y-%m-%d\")\n",
    "    else:\n",
    "        if s[:4] == \"2020\":\n",
    "            r = datetime.datetime.strptime(s.split(\" \")[0],\"%Y/%m/%d\")\n",
    "        else:\n",
    "            r = datetime.datetime.strptime(s.split(\" \")[0],\"%m/%d/%Y\")\n",
    "    return r.date()\n",
    "\n",
    "cols = [x for x in [\"Meldedatum\",\"Refdatum\"] if x in rki_df.columns]\n",
    "for col in cols:\n",
    "    if col in rki_df:\n",
    "        rki_df[col] = rki_df[col].apply(rdate)\n",
    "        \n",
    "rki_df = rki_df.filter(items=[\"Meldedatum\",\"Refdatum\",\"NeuerFall\",\"AnzahlFall\",\"IstErkrankungsbeginn\",\"AnzahlTodesfall\"])\n",
    "\n",
    "ts = pd.date_range(datetime.date(2020,1,1),periods=200,freq='D')\n",
    "symptomatic_timeseries = pd.date_range(datetime.date(2020,2,1),periods=150,freq='D')\n",
    "\n",
    "symptomatic = np.zeros(len(ts))\n",
    "for i,t in enumerate(ts):\n",
    "    m = rki_df[rki_df[\"Refdatum\"] == t]\n",
    "    symptomatic[i] = np.sum(m[m[\"IstErkrankungsbeginn\"] == 1][\"AnzahlFall\"])\n",
    "\n",
    "cs = np.cumsum(symptomatic)\n",
    "s = cs[(symptomatic_timeseries[0]-ts[0]).days:]\n",
    "s = s[:len(ts)]\n",
    "\n",
    "print(len(symptomatic_timeseries),len(s))\n",
    "for t,d in zip(symptomatic_timeseries,s):\n",
    "    print(t,d)\n",
    "\n",
    "sources[\"rki_symptomatic\"] = (s[:len(symptomatic_timeseries)],symptomatic_timeseries)\n"
   ]
  },
  {
   "cell_type": "code",
   "execution_count": null,
   "metadata": {},
   "outputs": [],
   "source": [
    "\n",
    "startdate = datetime.date(2020,2,16)\n",
    "ts = pd.date_range(startdate,periods=(datetime.date(2020,3,22)-startdate).days,freq='D')\n",
    "daten200323_begin = {200216:2,200217:4,200218:2,200219:3,200220:10,200221:8,200222:10,200223:13,200224:41,200225:69,200226:113,200227:98,200228:126,200229:113,200301:119,200302:175,200303:169,200304:253,200305:243,200306:366,200307:493,200308:651,200309:831,200310:1044,200311:1264,200312:1199,200313:1218,200314:1089,200315:909,200316:825,200317:488,200318:307,200319:131,200320:40}\n",
    "ddata = []\n",
    "for t in ts:\n",
    "    tstr = t.strftime(\"%y%0m%d\")\n",
    "    s = daten200323_begin.get(int(tstr),0)\n",
    "    ddata.append(s)\n",
    "data = np.cumsum(ddata)\n",
    "sources[\"Datenstand-2020-03-22\"] = (data,ts[:len(data)])\n",
    "\n",
    "plt.plot(ts,data)\n",
    "\n",
    "# Select Datasource\n",
    "data,ts = sources[\"Datenstand-2020-03-22\"]"
   ]
  },
  {
   "cell_type": "code",
   "execution_count": 5,
   "metadata": {},
   "outputs": [],
   "source": [
    "# Select Datasource\n",
    "data,ts = sources[\"rki_symptomatic\"]"
   ]
  },
  {
   "cell_type": "code",
   "execution_count": null,
   "metadata": {},
   "outputs": [],
   "source": [
    "fig = plt.figure(figsize=(8,6))\n",
    "fig.subplots_adjust(wspace=0.33,hspace=0.27,left=0.05,right=0.98,top=0.94,bottom=0.05)\n",
    "fig.suptitle(\"graphical overview of different sources\")\n",
    "gs = fig.add_gridspec(2, 1)\n",
    "\n",
    "ax = fig.add_subplot(gs[0,0])\n",
    "bx = fig.add_subplot(gs[1,0])\n",
    "\n",
    "i = 0\n",
    "color=[\"red\",\"blue\"]\n",
    "keys = [\"rki_symptomatic\",\"Datenstand-2020-03-22\"]\n",
    "for k in keys:\n",
    "    d,t = sources[k]\n",
    "    ax.plot(t,d,'+',label=k,color=color[i])\n",
    "    bx.plot(t[1:],np.diff(d),label=k,color=color[i])\n",
    "    i+=1\n",
    "    \n",
    "ax.set_xlim([datetime.date(2020,2,21),datetime.date(2020,7,1)])\n",
    "bx.set_xlim([datetime.date(2020,2,21),datetime.date(2020,7,1)])\n",
    "ax.legend()\n",
    "    \n",
    "for tx in [ax,bx]:\n",
    "    prec = 1.0 / (np.log10(tx.get_ylim()[1]) - 2.5)\n",
    "    if prec < 2.0 and prec >= 0:\n",
    "        tx.yaxis.set_major_formatter(\n",
    "            matplotlib.ticker.FuncFormatter(_format_k(int(prec)))\n",
    "        )\n",
    "    tx.spines['top'].set_visible(False)\n",
    "    tx.spines['right'].set_visible(False)\n",
    "        "
   ]
  },
  {
   "cell_type": "code",
   "execution_count": 6,
   "metadata": {},
   "outputs": [],
   "source": [
    "# Test simple SIR-Fit beta,gamma,N,I0\n",
    "\n",
    "def FitSIRModel(data,l=90,initial={},I0=None,fit_differences=False):\n",
    "    \"\"\"\n",
    "    Fit SIR model using HamiltonianMonteCarlo No-UTurn-Sampler \n",
    "        fit_0 : Allow fitting I0 else I0 = 1\n",
    "        fit_differences : False # keep it that way until daily differences are of interest and not total numbers\n",
    "    \"\"\"\n",
    "    with pm.Model() as model:\n",
    "        # Setup Priors for beta,gamma\n",
    "        beta = pm.Lognormal(name=\"beta\",\n",
    "                        mu=tt.log(tt.cast(.25,dtype='float64')),\n",
    "                        sigma=tt.cast(.9,dtype='float64')) # Choose both beta and gamma wide enough\n",
    "        gamma = pm.Lognormal(name=\"gamma\",\n",
    "                         mu=tt.log(tt.cast(.13,dtype='float64')),\n",
    "                         sigma=tt.cast(.9,dtype='float64'))\n",
    "        beta = tt.clip(beta,gamma,1e3) # Ensure positive initial growth, improves sampling\n",
    "    \n",
    "#        N = tt.cast(83e6,dtype='float64')\n",
    "        N = pm.Lognormal(name=\"N\",\n",
    "                         mu=tt.log(tt.cast(200000,dtype='float64')),\n",
    "                         sigma=tt.cast(.8,dtype='float64'))\n",
    "        S0 = N\n",
    "        if I0 == None: # Eiher fit or don't fit I0\n",
    "            I0 = pm.Lognormal(name=\"I0\",\n",
    "                      mu=tt.log(tt.cast(20,dtype='float64')),\n",
    "                      sigma=tt.cast(.7,dtype=\"float64\")\n",
    "                     )\n",
    "        else:\n",
    "            I0 = tt.cast(I0,dtype='float64')\n",
    "    \n",
    "        R0 = tt.cast(0.,dtype='float64')\n",
    "    \n",
    "        # Run the Model\n",
    "        S_t,I_t,R_t,dS,dI,dR,eff = plain_SIR_model(beta,gamma,N,S0,I0,R0,l=l)\n",
    "        # Store Model output in Trace\n",
    "        pm.Deterministic(\"S_t\",S_t)\n",
    "        pm.Deterministic(\"I_t\",I_t)\n",
    "        pm.Deterministic(\"R_t\",R_t)\n",
    "        pm.Deterministic(\"dS\",dS)\n",
    "        pm.Deterministic(\"dR\",dR)\n",
    "        \n",
    "        # Loglike-estimate\n",
    "        ignore_front = 0 # 30\n",
    "        if fit_differences: # Fit differences, which might me more suitable for the Sampler\n",
    "            est = -dS\n",
    "            sigma_obs = pm.HalfCauchy( name=\"sigma\", beta=10 )\n",
    "            pm.StudentT(\n",
    "                    name=\"like_studentT\",\n",
    "                    nu=4,\n",
    "                    mu=est,\n",
    "                    sigma=tt.abs_(est + 1) ** 0.5 * sigma_obs,\n",
    "                    observed=np.diff(data[:l+1])\n",
    "            )\n",
    "        else: # Leads to tighter fit to the non-differentiated data\n",
    "#            est_deaths = R_t\n",
    "            est = tt.cumsum(-dS)[ignore_front:]\n",
    "            pm.Deterministic(\"est\",est)\n",
    "            sigma_obs = pm.HalfCauchy( name=\"sigma\", beta=40 )\n",
    "            pm.StudentT(\n",
    "                    name=\"like_studentT\",\n",
    "                    nu=4,\n",
    "                    mu=est,\n",
    "                    sigma=tt.abs_(est + 1) ** 0.5 * sigma_obs,\n",
    "                    observed=data[ignore_front:l]\n",
    "            )\n",
    "        \n",
    "        # Handle Chained sampling reusing previous fit as starting-point\n",
    "        init = \"advi+adapt_diag\" if len(initial) == 0 else None\n",
    "        trace = pm.sample( model=model,init=init,start=initial,draws=1600,tune=2500,cores=4,chains=4)#,max_treedepth=16)\n",
    "        return trace"
   ]
  },
  {
   "cell_type": "code",
   "execution_count": null,
   "metadata": {
    "scrolled": true
   },
   "outputs": [],
   "source": [
    "l = 80\n",
    "l = len(ts)\n",
    "print(l)\n",
    "trace = FitSIRModel(data,l=l,I0=None)\n"
   ]
  },
  {
   "cell_type": "code",
   "execution_count": null,
   "metadata": {},
   "outputs": [],
   "source": [
    "#l = 80\n",
    "\n",
    "#with open(\"traces/sir_80\",\"rb+\") as f:\n",
    "#    pickle.load(f)\n",
    " #   pickle.load(f)\n",
    " #   trace = pickle.load(f)\n",
    "\n",
    "plt.plot(ts[:l],data[:l],\"+\")\n",
    "#plt.plot(ts[:l],np.mean(trace.dI,axis=0))\n",
    "plt.plot(ts[:l],np.mean(np.cumsum(-trace.dS,axis=1),axis=0),color=\"tab:red\")\n",
    "plt.fill_between(ts[:l],*np.percentile(np.cumsum(-trace.dS,axis=1),axis=0,q=(2.5,97.5)),alpha=.1,color=\"tab:red\")\n",
    "#plt.plot(ts[:l],np.mean(trace.est,axis=0))\n",
    "\n",
    "plt.plot(ts[:l],np.mean(trace.I_t,axis=0),color=\"purple\")\n",
    "plt.fill_between(ts[:l],*np.percentile(trace.I_t,axis=0,q=(2.5,97.5)),alpha=.1,color=\"purple\")\n",
    "\n",
    "#plt.plot(ts[:l],np.mean(trace.S_t,axis=0),color=\"tab:blue\")\n",
    "#plt.fill_between(ts[:l],*np.percentile(trace.S_t,axis=0,q=(2.5,97.5)),color=\"tab:blue\",alpha=.1)\n",
    "\n",
    "plt.plot(ts[:l],np.mean(trace.R_t,axis=0),color=\"green\")\n",
    "plt.fill_between(ts[:l],*np.percentile(trace.R_t,axis=0,q=(2.5,97.5)),alpha=.1,color=\"green\")\n",
    "\n",
    "print(np.mean(trace.beta),np.percentile(trace.beta,q=(2.5,97.5)))\n",
    "print(np.mean(trace.gamma),np.percentile(trace.gamma,q=(2.5,97.5)))\n",
    "print(np.mean(trace.I0),np.percentile(trace.I0,q=(2.5,97.5)))\n",
    "print(np.mean(trace.N),np.percentile(trace.N,q=(2.5,97.5)))\n",
    "\n",
    "with open(\"traces/sir_%d_N200k\"%len(ts),\"wb+\") as f:\n",
    "    pickle.dump(ts,f)\n",
    "    pickle.dump(data,f)\n",
    "    pickle.dump(trace,f)"
   ]
  },
  {
   "cell_type": "code",
   "execution_count": null,
   "metadata": {},
   "outputs": [],
   "source": [
    "plt.plot(ts[:l],data[:l],\"+\")\n",
    "#plt.plot(ts[:l],np.mean(trace.dI,axis=0))\n",
    "plt.plot(ts[:l],np.mean(np.cumsum(-trace.dS,axis=1),axis=0),color=\"tab:red\")\n",
    "plt.fill_between(ts[:l],*np.percentile(np.cumsum(-trace.dS,axis=1),axis=0,q=(2.5,97.5)),alpha=.1,color=\"tab:red\")\n",
    "#plt.plot(ts[:l],np.mean(trace.est,axis=0))\n",
    "\n",
    "plt.plot(ts[:l],np.mean(trace.I_t,axis=0),color=\"purple\")\n",
    "plt.fill_between(ts[:l],*np.percentile(trace.I_t,axis=0,q=(2.5,97.5)),alpha=.1,color=\"purple\")\n",
    "\n",
    "plt.plot(ts[:l],np.mean(trace.S_t,axis=0),color=\"tab:blue\")\n",
    "plt.fill_between(ts[:l],*np.percentile(trace.S_t,axis=0,q=(2.5,97.5)),color=\"tab:blue\",alpha=.1)\n",
    "\n",
    "plt.plot(ts[:l],np.mean(trace.R_t,axis=0),color=\"green\")\n",
    "plt.fill_between(ts[:l],*np.percentile(trace.R_t,axis=0,q=(2.5,97.5)),alpha=.1,color=\"green\")\n",
    "\n",
    "print(np.mean(trace.beta),np.percentile(trace.beta,q=(2.5,97.5)))\n",
    "print(np.mean(trace.gamma),np.percentile(trace.gamma,q=(2.5,97.5)))\n",
    "#print(np.mean(trace.I0),np.percentile(trace.I0,q=(2.5,97.5)))\n",
    "print(np.mean(trace.N),np.percentile(trace.N,q=(2.5,97.5)))\n"
   ]
  },
  {
   "cell_type": "code",
   "execution_count": 7,
   "metadata": {
    "scrolled": false
   },
   "outputs": [
    {
     "name": "stdout",
     "output_type": "stream",
     "text": [
      "30 {}\n"
     ]
    },
    {
     "name": "stderr",
     "output_type": "stream",
     "text": [
      "WARNING (theano.gof.compilelock): Overriding existing lock by dead process '3522' (I am process '4694')\n",
      "Auto-assigning NUTS sampler...\n",
      "Initializing NUTS using advi+adapt_diag...\n"
     ]
    },
    {
     "data": {
      "text/html": [
       "\n",
       "    <div>\n",
       "        <style>\n",
       "            /* Turns off some styling */\n",
       "            progress {\n",
       "                /* gets rid of default border in Firefox and Opera. */\n",
       "                border: none;\n",
       "                /* Needs to be in here for Safari polyfill so background images work as expected. */\n",
       "                background-size: auto;\n",
       "            }\n",
       "            .progress-bar-interrupted, .progress-bar-interrupted::-webkit-progress-bar {\n",
       "                background: #F44336;\n",
       "            }\n",
       "        </style>\n",
       "      <progress value='4429' class='' max='200000' style='width:300px; height:20px; vertical-align: middle;'></progress>\n",
       "      2.21% [4429/200000 00:06<04:53 Average Loss = 208.25]\n",
       "    </div>\n",
       "    "
      ],
      "text/plain": [
       "<IPython.core.display.HTML object>"
      ]
     },
     "metadata": {},
     "output_type": "display_data"
    },
    {
     "name": "stderr",
     "output_type": "stream",
     "text": [
      "Convergence achieved at 4500\n",
      "Interrupted at 4,499 [2%]: Average Loss = 221.28\n",
      "Multiprocess sampling (4 chains in 4 jobs)\n",
      "NUTS: [sigma, I0, N, gamma, beta]\n"
     ]
    },
    {
     "data": {
      "text/html": [
       "\n",
       "    <div>\n",
       "        <style>\n",
       "            /* Turns off some styling */\n",
       "            progress {\n",
       "                /* gets rid of default border in Firefox and Opera. */\n",
       "                border: none;\n",
       "                /* Needs to be in here for Safari polyfill so background images work as expected. */\n",
       "                background-size: auto;\n",
       "            }\n",
       "            .progress-bar-interrupted, .progress-bar-interrupted::-webkit-progress-bar {\n",
       "                background: #F44336;\n",
       "            }\n",
       "        </style>\n",
       "      <progress value='16400' class='' max='16400' style='width:300px; height:20px; vertical-align: middle;'></progress>\n",
       "      100.00% [16400/16400 02:54<00:00 Sampling 4 chains, 19 divergences]\n",
       "    </div>\n",
       "    "
      ],
      "text/plain": [
       "<IPython.core.display.HTML object>"
      ]
     },
     "metadata": {},
     "output_type": "display_data"
    },
    {
     "name": "stderr",
     "output_type": "stream",
     "text": [
      "Sampling 4 chains for 2_500 tune and 1_600 draw iterations (10_000 + 6_400 draws total) took 183 seconds.\n",
      "There were 16 divergences after tuning. Increase `target_accept` or reparameterize.\n",
      "The acceptance probability does not match the target. It is 0.6710268494300792, but should be close to 0.8. Try to increase the number of tuning steps.\n",
      "There were 2 divergences after tuning. Increase `target_accept` or reparameterize.\n",
      "The acceptance probability does not match the target. It is 0.6697314227075737, but should be close to 0.8. Try to increase the number of tuning steps.\n",
      "There was 1 divergence after tuning. Increase `target_accept` or reparameterize.\n",
      "The acceptance probability does not match the target. It is 0.5957880296581041, but should be close to 0.8. Try to increase the number of tuning steps.\n",
      "The estimated number of effective samples is smaller than 200 for some parameters.\n"
     ]
    },
    {
     "name": "stdout",
     "output_type": "stream",
     "text": [
      "31 {'beta': 0.24727795960639085, 'gamma': 0.06172536175557521, 'N': 289460.001596363, 'I0': 5.162817611728303}\n"
     ]
    },
    {
     "name": "stderr",
     "output_type": "stream",
     "text": [
      "Multiprocess sampling (4 chains in 4 jobs)\n",
      "NUTS: [sigma, I0, N, gamma, beta]\n"
     ]
    },
    {
     "data": {
      "text/html": [
       "\n",
       "    <div>\n",
       "        <style>\n",
       "            /* Turns off some styling */\n",
       "            progress {\n",
       "                /* gets rid of default border in Firefox and Opera. */\n",
       "                border: none;\n",
       "                /* Needs to be in here for Safari polyfill so background images work as expected. */\n",
       "                background-size: auto;\n",
       "            }\n",
       "            .progress-bar-interrupted, .progress-bar-interrupted::-webkit-progress-bar {\n",
       "                background: #F44336;\n",
       "            }\n",
       "        </style>\n",
       "      <progress value='16400' class='' max='16400' style='width:300px; height:20px; vertical-align: middle;'></progress>\n",
       "      100.00% [16400/16400 03:08<00:00 Sampling 4 chains, 2 divergences]\n",
       "    </div>\n",
       "    "
      ],
      "text/plain": [
       "<IPython.core.display.HTML object>"
      ]
     },
     "metadata": {},
     "output_type": "display_data"
    },
    {
     "name": "stderr",
     "output_type": "stream",
     "text": [
      "Sampling 4 chains for 2_500 tune and 1_600 draw iterations (10_000 + 6_400 draws total) took 197 seconds.\n",
      "There was 1 divergence after tuning. Increase `target_accept` or reparameterize.\n",
      "There was 1 divergence after tuning. Increase `target_accept` or reparameterize.\n",
      "The number of effective samples is smaller than 10% for some parameters.\n"
     ]
    },
    {
     "name": "stdout",
     "output_type": "stream",
     "text": [
      "32 {'beta': 0.24931714750998743, 'gamma': 0.05423386270238229, 'N': 270839.6023171962, 'I0': 4.553093393613878}\n"
     ]
    },
    {
     "name": "stderr",
     "output_type": "stream",
     "text": [
      "Multiprocess sampling (4 chains in 4 jobs)\n",
      "NUTS: [sigma, I0, N, gamma, beta]\n"
     ]
    },
    {
     "data": {
      "text/html": [
       "\n",
       "    <div>\n",
       "        <style>\n",
       "            /* Turns off some styling */\n",
       "            progress {\n",
       "                /* gets rid of default border in Firefox and Opera. */\n",
       "                border: none;\n",
       "                /* Needs to be in here for Safari polyfill so background images work as expected. */\n",
       "                background-size: auto;\n",
       "            }\n",
       "            .progress-bar-interrupted, .progress-bar-interrupted::-webkit-progress-bar {\n",
       "                background: #F44336;\n",
       "            }\n",
       "        </style>\n",
       "      <progress value='16400' class='' max='16400' style='width:300px; height:20px; vertical-align: middle;'></progress>\n",
       "      100.00% [16400/16400 03:49<00:00 Sampling 4 chains, 0 divergences]\n",
       "    </div>\n",
       "    "
      ],
      "text/plain": [
       "<IPython.core.display.HTML object>"
      ]
     },
     "metadata": {},
     "output_type": "display_data"
    },
    {
     "name": "stderr",
     "output_type": "stream",
     "text": [
      "Sampling 4 chains for 2_500 tune and 1_600 draw iterations (10_000 + 6_400 draws total) took 239 seconds.\n",
      "The acceptance probability does not match the target. It is 0.7125707960721692, but should be close to 0.8. Try to increase the number of tuning steps.\n",
      "The acceptance probability does not match the target. It is 0.6722538491098133, but should be close to 0.8. Try to increase the number of tuning steps.\n",
      "The estimated number of effective samples is smaller than 200 for some parameters.\n"
     ]
    },
    {
     "name": "stdout",
     "output_type": "stream",
     "text": [
      "33 {'beta': 0.2573789036173357, 'gamma': 0.056759172622979005, 'N': 268868.7933120525, 'I0': 4.107686408350234}\n"
     ]
    },
    {
     "name": "stderr",
     "output_type": "stream",
     "text": [
      "Multiprocess sampling (4 chains in 4 jobs)\n",
      "NUTS: [sigma, I0, N, gamma, beta]\n"
     ]
    },
    {
     "data": {
      "text/html": [
       "\n",
       "    <div>\n",
       "        <style>\n",
       "            /* Turns off some styling */\n",
       "            progress {\n",
       "                /* gets rid of default border in Firefox and Opera. */\n",
       "                border: none;\n",
       "                /* Needs to be in here for Safari polyfill so background images work as expected. */\n",
       "                background-size: auto;\n",
       "            }\n",
       "            .progress-bar-interrupted, .progress-bar-interrupted::-webkit-progress-bar {\n",
       "                background: #F44336;\n",
       "            }\n",
       "        </style>\n",
       "      <progress value='16400' class='' max='16400' style='width:300px; height:20px; vertical-align: middle;'></progress>\n",
       "      100.00% [16400/16400 04:11<00:00 Sampling 4 chains, 5 divergences]\n",
       "    </div>\n",
       "    "
      ],
      "text/plain": [
       "<IPython.core.display.HTML object>"
      ]
     },
     "metadata": {},
     "output_type": "display_data"
    },
    {
     "name": "stderr",
     "output_type": "stream",
     "text": [
      "Sampling 4 chains for 2_500 tune and 1_600 draw iterations (10_000 + 6_400 draws total) took 259 seconds.\n",
      "There were 5 divergences after tuning. Increase `target_accept` or reparameterize.\n",
      "The acceptance probability does not match the target. It is 0.5131822289027652, but should be close to 0.8. Try to increase the number of tuning steps.\n",
      "The acceptance probability does not match the target. It is 0.6731964936581616, but should be close to 0.8. Try to increase the number of tuning steps.\n",
      "The acceptance probability does not match the target. It is 0.6609609858866373, but should be close to 0.8. Try to increase the number of tuning steps.\n",
      "The rhat statistic is larger than 1.2 for some parameters.\n",
      "The estimated number of effective samples is smaller than 200 for some parameters.\n"
     ]
    },
    {
     "name": "stdout",
     "output_type": "stream",
     "text": [
      "34 {'beta': 0.26802337278531235, 'gamma': 0.06510838232012543, 'N': 275988.25207556644, 'I0': 3.8177697322489337}\n"
     ]
    },
    {
     "name": "stderr",
     "output_type": "stream",
     "text": [
      "Multiprocess sampling (4 chains in 4 jobs)\n",
      "NUTS: [sigma, I0, N, gamma, beta]\n"
     ]
    },
    {
     "data": {
      "text/html": [
       "\n",
       "    <div>\n",
       "        <style>\n",
       "            /* Turns off some styling */\n",
       "            progress {\n",
       "                /* gets rid of default border in Firefox and Opera. */\n",
       "                border: none;\n",
       "                /* Needs to be in here for Safari polyfill so background images work as expected. */\n",
       "                background-size: auto;\n",
       "            }\n",
       "            .progress-bar-interrupted, .progress-bar-interrupted::-webkit-progress-bar {\n",
       "                background: #F44336;\n",
       "            }\n",
       "        </style>\n",
       "      <progress value='16400' class='' max='16400' style='width:300px; height:20px; vertical-align: middle;'></progress>\n",
       "      100.00% [16400/16400 04:51<00:00 Sampling 4 chains, 0 divergences]\n",
       "    </div>\n",
       "    "
      ],
      "text/plain": [
       "<IPython.core.display.HTML object>"
      ]
     },
     "metadata": {},
     "output_type": "display_data"
    },
    {
     "name": "stderr",
     "output_type": "stream",
     "text": [
      "Sampling 4 chains for 2_500 tune and 1_600 draw iterations (10_000 + 6_400 draws total) took 300 seconds.\n",
      "The acceptance probability does not match the target. It is 0.6657810132322152, but should be close to 0.8. Try to increase the number of tuning steps.\n",
      "The acceptance probability does not match the target. It is 0.644349536676491, but should be close to 0.8. Try to increase the number of tuning steps.\n",
      "The acceptance probability does not match the target. It is 0.4638079800423223, but should be close to 0.8. Try to increase the number of tuning steps.\n",
      "The acceptance probability does not match the target. It is 0.6148940849087864, but should be close to 0.8. Try to increase the number of tuning steps.\n",
      "The rhat statistic is larger than 1.05 for some parameters. This indicates slight problems during sampling.\n",
      "The estimated number of effective samples is smaller than 200 for some parameters.\n"
     ]
    },
    {
     "name": "stdout",
     "output_type": "stream",
     "text": [
      "35 {'beta': 0.2729126065671036, 'gamma': 0.06717369183326868, 'N': 293667.5509766404, 'I0': 3.5870654832278}\n"
     ]
    },
    {
     "name": "stderr",
     "output_type": "stream",
     "text": [
      "Multiprocess sampling (4 chains in 4 jobs)\n",
      "NUTS: [sigma, I0, N, gamma, beta]\n"
     ]
    },
    {
     "data": {
      "text/html": [
       "\n",
       "    <div>\n",
       "        <style>\n",
       "            /* Turns off some styling */\n",
       "            progress {\n",
       "                /* gets rid of default border in Firefox and Opera. */\n",
       "                border: none;\n",
       "                /* Needs to be in here for Safari polyfill so background images work as expected. */\n",
       "                background-size: auto;\n",
       "            }\n",
       "            .progress-bar-interrupted, .progress-bar-interrupted::-webkit-progress-bar {\n",
       "                background: #F44336;\n",
       "            }\n",
       "        </style>\n",
       "      <progress value='16400' class='' max='16400' style='width:300px; height:20px; vertical-align: middle;'></progress>\n",
       "      100.00% [16400/16400 05:22<00:00 Sampling 4 chains, 0 divergences]\n",
       "    </div>\n",
       "    "
      ],
      "text/plain": [
       "<IPython.core.display.HTML object>"
      ]
     },
     "metadata": {},
     "output_type": "display_data"
    },
    {
     "name": "stderr",
     "output_type": "stream",
     "text": [
      "Sampling 4 chains for 2_500 tune and 1_600 draw iterations (10_000 + 6_400 draws total) took 331 seconds.\n",
      "The acceptance probability does not match the target. It is 0.3642948072843602, but should be close to 0.8. Try to increase the number of tuning steps.\n",
      "The acceptance probability does not match the target. It is 0.6124367474578254, but should be close to 0.8. Try to increase the number of tuning steps.\n",
      "The acceptance probability does not match the target. It is 0.7135425784078124, but should be close to 0.8. Try to increase the number of tuning steps.\n",
      "The rhat statistic is larger than 1.2 for some parameters.\n",
      "The estimated number of effective samples is smaller than 200 for some parameters.\n"
     ]
    },
    {
     "name": "stdout",
     "output_type": "stream",
     "text": [
      "36 {'beta': 0.2674516474901468, 'gamma': 0.0612644167426518, 'N': 264274.07017553644, 'I0': 3.6192717255560094}\n"
     ]
    },
    {
     "name": "stderr",
     "output_type": "stream",
     "text": [
      "Multiprocess sampling (4 chains in 4 jobs)\n",
      "NUTS: [sigma, I0, N, gamma, beta]\n"
     ]
    },
    {
     "data": {
      "text/html": [
       "\n",
       "    <div>\n",
       "        <style>\n",
       "            /* Turns off some styling */\n",
       "            progress {\n",
       "                /* gets rid of default border in Firefox and Opera. */\n",
       "                border: none;\n",
       "                /* Needs to be in here for Safari polyfill so background images work as expected. */\n",
       "                background-size: auto;\n",
       "            }\n",
       "            .progress-bar-interrupted, .progress-bar-interrupted::-webkit-progress-bar {\n",
       "                background: #F44336;\n",
       "            }\n",
       "        </style>\n",
       "      <progress value='16400' class='' max='16400' style='width:300px; height:20px; vertical-align: middle;'></progress>\n",
       "      100.00% [16400/16400 06:04<00:00 Sampling 4 chains, 0 divergences]\n",
       "    </div>\n",
       "    "
      ],
      "text/plain": [
       "<IPython.core.display.HTML object>"
      ]
     },
     "metadata": {},
     "output_type": "display_data"
    },
    {
     "name": "stderr",
     "output_type": "stream",
     "text": [
      "Sampling 4 chains for 2_500 tune and 1_600 draw iterations (10_000 + 6_400 draws total) took 374 seconds.\n",
      "The acceptance probability does not match the target. It is 0.6920175082653357, but should be close to 0.8. Try to increase the number of tuning steps.\n",
      "The acceptance probability does not match the target. It is 0.5147337898052889, but should be close to 0.8. Try to increase the number of tuning steps.\n",
      "The acceptance probability does not match the target. It is 0.45596570039525575, but should be close to 0.8. Try to increase the number of tuning steps.\n",
      "The acceptance probability does not match the target. It is 0.6374446218947524, but should be close to 0.8. Try to increase the number of tuning steps.\n",
      "The rhat statistic is larger than 1.2 for some parameters.\n",
      "The estimated number of effective samples is smaller than 200 for some parameters.\n"
     ]
    },
    {
     "name": "stdout",
     "output_type": "stream",
     "text": [
      "37 {'beta': 0.278054608279059, 'gamma': 0.0673397820707339, 'N': 262248.70966962184, 'I0': 3.1985666951749554}\n"
     ]
    },
    {
     "name": "stderr",
     "output_type": "stream",
     "text": [
      "Multiprocess sampling (4 chains in 4 jobs)\n",
      "NUTS: [sigma, I0, N, gamma, beta]\n"
     ]
    },
    {
     "data": {
      "text/html": [
       "\n",
       "    <div>\n",
       "        <style>\n",
       "            /* Turns off some styling */\n",
       "            progress {\n",
       "                /* gets rid of default border in Firefox and Opera. */\n",
       "                border: none;\n",
       "                /* Needs to be in here for Safari polyfill so background images work as expected. */\n",
       "                background-size: auto;\n",
       "            }\n",
       "            .progress-bar-interrupted, .progress-bar-interrupted::-webkit-progress-bar {\n",
       "                background: #F44336;\n",
       "            }\n",
       "        </style>\n",
       "      <progress value='16400' class='' max='16400' style='width:300px; height:20px; vertical-align: middle;'></progress>\n",
       "      100.00% [16400/16400 07:33<00:00 Sampling 4 chains, 0 divergences]\n",
       "    </div>\n",
       "    "
      ],
      "text/plain": [
       "<IPython.core.display.HTML object>"
      ]
     },
     "metadata": {},
     "output_type": "display_data"
    },
    {
     "name": "stderr",
     "output_type": "stream",
     "text": [
      "Sampling 4 chains for 2_500 tune and 1_600 draw iterations (10_000 + 6_400 draws total) took 462 seconds.\n",
      "The acceptance probability does not match the target. It is 0.7135711529672372, but should be close to 0.8. Try to increase the number of tuning steps.\n",
      "The acceptance probability does not match the target. It is 0.7142743884710893, but should be close to 0.8. Try to increase the number of tuning steps.\n",
      "The estimated number of effective samples is smaller than 200 for some parameters.\n"
     ]
    },
    {
     "name": "stdout",
     "output_type": "stream",
     "text": [
      "38 {'beta': 0.2600465637598636, 'gamma': 0.04611233176724342, 'N': 318585.84563767136, 'I0': 3.208538905320589}\n"
     ]
    },
    {
     "name": "stderr",
     "output_type": "stream",
     "text": [
      "Multiprocess sampling (4 chains in 4 jobs)\n",
      "NUTS: [sigma, I0, N, gamma, beta]\n"
     ]
    },
    {
     "data": {
      "text/html": [
       "\n",
       "    <div>\n",
       "        <style>\n",
       "            /* Turns off some styling */\n",
       "            progress {\n",
       "                /* gets rid of default border in Firefox and Opera. */\n",
       "                border: none;\n",
       "                /* Needs to be in here for Safari polyfill so background images work as expected. */\n",
       "                background-size: auto;\n",
       "            }\n",
       "            .progress-bar-interrupted, .progress-bar-interrupted::-webkit-progress-bar {\n",
       "                background: #F44336;\n",
       "            }\n",
       "        </style>\n",
       "      <progress value='16400' class='' max='16400' style='width:300px; height:20px; vertical-align: middle;'></progress>\n",
       "      100.00% [16400/16400 06:52<00:00 Sampling 4 chains, 0 divergences]\n",
       "    </div>\n",
       "    "
      ],
      "text/plain": [
       "<IPython.core.display.HTML object>"
      ]
     },
     "metadata": {},
     "output_type": "display_data"
    },
    {
     "name": "stderr",
     "output_type": "stream",
     "text": [
      "Sampling 4 chains for 2_500 tune and 1_600 draw iterations (10_000 + 6_400 draws total) took 421 seconds.\n",
      "The acceptance probability does not match the target. It is 0.4198445343005156, but should be close to 0.8. Try to increase the number of tuning steps.\n",
      "The acceptance probability does not match the target. It is 0.7057220196137564, but should be close to 0.8. Try to increase the number of tuning steps.\n",
      "The acceptance probability does not match the target. It is 0.6908892328206028, but should be close to 0.8. Try to increase the number of tuning steps.\n",
      "The acceptance probability does not match the target. It is 0.591212828014178, but should be close to 0.8. Try to increase the number of tuning steps.\n",
      "The rhat statistic is larger than 1.2 for some parameters.\n",
      "The estimated number of effective samples is smaller than 200 for some parameters.\n"
     ]
    },
    {
     "name": "stdout",
     "output_type": "stream",
     "text": [
      "39 {'beta': 0.2696870940386631, 'gamma': 0.05267982823186667, 'N': 326164.8030563655, 'I0': 2.908713828233724}\n"
     ]
    },
    {
     "name": "stderr",
     "output_type": "stream",
     "text": [
      "Multiprocess sampling (4 chains in 4 jobs)\n",
      "NUTS: [sigma, I0, N, gamma, beta]\n"
     ]
    },
    {
     "data": {
      "text/html": [
       "\n",
       "    <div>\n",
       "        <style>\n",
       "            /* Turns off some styling */\n",
       "            progress {\n",
       "                /* gets rid of default border in Firefox and Opera. */\n",
       "                border: none;\n",
       "                /* Needs to be in here for Safari polyfill so background images work as expected. */\n",
       "                background-size: auto;\n",
       "            }\n",
       "            .progress-bar-interrupted, .progress-bar-interrupted::-webkit-progress-bar {\n",
       "                background: #F44336;\n",
       "            }\n",
       "        </style>\n",
       "      <progress value='16400' class='' max='16400' style='width:300px; height:20px; vertical-align: middle;'></progress>\n",
       "      100.00% [16400/16400 06:53<00:00 Sampling 4 chains, 3 divergences]\n",
       "    </div>\n",
       "    "
      ],
      "text/plain": [
       "<IPython.core.display.HTML object>"
      ]
     },
     "metadata": {},
     "output_type": "display_data"
    },
    {
     "name": "stderr",
     "output_type": "stream",
     "text": [
      "Sampling 4 chains for 2_500 tune and 1_600 draw iterations (10_000 + 6_400 draws total) took 423 seconds.\n",
      "There were 2 divergences after tuning. Increase `target_accept` or reparameterize.\n",
      "The acceptance probability does not match the target. It is 0.2412997973344293, but should be close to 0.8. Try to increase the number of tuning steps.\n",
      "The acceptance probability does not match the target. It is 0.7020194493399627, but should be close to 0.8. Try to increase the number of tuning steps.\n",
      "There was 1 divergence after tuning. Increase `target_accept` or reparameterize.\n",
      "The acceptance probability does not match the target. It is 0.23491519519654197, but should be close to 0.8. Try to increase the number of tuning steps.\n",
      "The rhat statistic is larger than 1.4 for some parameters. The sampler did not converge.\n",
      "The estimated number of effective samples is smaller than 200 for some parameters.\n"
     ]
    },
    {
     "name": "stdout",
     "output_type": "stream",
     "text": [
      "40 {'beta': 0.29589885722431114, 'gamma': 0.06966298445640351, 'N': 300667.9811514689, 'I0': 2.238414856291276}\n"
     ]
    },
    {
     "name": "stderr",
     "output_type": "stream",
     "text": [
      "Multiprocess sampling (4 chains in 4 jobs)\n",
      "NUTS: [sigma, I0, N, gamma, beta]\n"
     ]
    },
    {
     "data": {
      "text/html": [
       "\n",
       "    <div>\n",
       "        <style>\n",
       "            /* Turns off some styling */\n",
       "            progress {\n",
       "                /* gets rid of default border in Firefox and Opera. */\n",
       "                border: none;\n",
       "                /* Needs to be in here for Safari polyfill so background images work as expected. */\n",
       "                background-size: auto;\n",
       "            }\n",
       "            .progress-bar-interrupted, .progress-bar-interrupted::-webkit-progress-bar {\n",
       "                background: #F44336;\n",
       "            }\n",
       "        </style>\n",
       "      <progress value='16400' class='' max='16400' style='width:300px; height:20px; vertical-align: middle;'></progress>\n",
       "      100.00% [16400/16400 06:46<00:00 Sampling 4 chains, 14 divergences]\n",
       "    </div>\n",
       "    "
      ],
      "text/plain": [
       "<IPython.core.display.HTML object>"
      ]
     },
     "metadata": {},
     "output_type": "display_data"
    },
    {
     "name": "stderr",
     "output_type": "stream",
     "text": [
      "Sampling 4 chains for 2_500 tune and 1_600 draw iterations (10_000 + 6_400 draws total) took 417 seconds.\n",
      "There were 14 divergences after tuning. Increase `target_accept` or reparameterize.\n",
      "The acceptance probability does not match the target. It is 0.21139253143909145, but should be close to 0.8. Try to increase the number of tuning steps.\n",
      "The acceptance probability does not match the target. It is 0.6070386674728283, but should be close to 0.8. Try to increase the number of tuning steps.\n",
      "The acceptance probability does not match the target. It is 0.6311517700284962, but should be close to 0.8. Try to increase the number of tuning steps.\n",
      "The rhat statistic is larger than 1.4 for some parameters. The sampler did not converge.\n",
      "The estimated number of effective samples is smaller than 200 for some parameters.\n"
     ]
    },
    {
     "name": "stdout",
     "output_type": "stream",
     "text": [
      "41 {'beta': 0.28874377764324594, 'gamma': 0.06231976229405827, 'N': 402154.35702698486, 'I0': 2.2855120503544932}\n"
     ]
    },
    {
     "name": "stderr",
     "output_type": "stream",
     "text": [
      "Multiprocess sampling (4 chains in 4 jobs)\n",
      "NUTS: [sigma, I0, N, gamma, beta]\n"
     ]
    },
    {
     "data": {
      "text/html": [
       "\n",
       "    <div>\n",
       "        <style>\n",
       "            /* Turns off some styling */\n",
       "            progress {\n",
       "                /* gets rid of default border in Firefox and Opera. */\n",
       "                border: none;\n",
       "                /* Needs to be in here for Safari polyfill so background images work as expected. */\n",
       "                background-size: auto;\n",
       "            }\n",
       "            .progress-bar-interrupted, .progress-bar-interrupted::-webkit-progress-bar {\n",
       "                background: #F44336;\n",
       "            }\n",
       "        </style>\n",
       "      <progress value='16400' class='' max='16400' style='width:300px; height:20px; vertical-align: middle;'></progress>\n",
       "      100.00% [16400/16400 06:53<00:00 Sampling 4 chains, 3 divergences]\n",
       "    </div>\n",
       "    "
      ],
      "text/plain": [
       "<IPython.core.display.HTML object>"
      ]
     },
     "metadata": {},
     "output_type": "display_data"
    },
    {
     "name": "stderr",
     "output_type": "stream",
     "text": [
      "Sampling 4 chains for 2_500 tune and 1_600 draw iterations (10_000 + 6_400 draws total) took 424 seconds.\n",
      "The acceptance probability does not match the target. It is 0.657049191463817, but should be close to 0.8. Try to increase the number of tuning steps.\n",
      "There were 3 divergences after tuning. Increase `target_accept` or reparameterize.\n",
      "The acceptance probability does not match the target. It is 0.4071177144973504, but should be close to 0.8. Try to increase the number of tuning steps.\n",
      "The rhat statistic is larger than 1.2 for some parameters.\n",
      "The estimated number of effective samples is smaller than 200 for some parameters.\n"
     ]
    },
    {
     "name": "stdout",
     "output_type": "stream",
     "text": [
      "42 {'beta': 0.28225059620027065, 'gamma': 0.04354319351791552, 'N': 552129.6545595512, 'I0': 1.7933139576667931}\n"
     ]
    },
    {
     "name": "stderr",
     "output_type": "stream",
     "text": [
      "Multiprocess sampling (4 chains in 4 jobs)\n",
      "NUTS: [sigma, I0, N, gamma, beta]\n"
     ]
    },
    {
     "data": {
      "text/html": [
       "\n",
       "    <div>\n",
       "        <style>\n",
       "            /* Turns off some styling */\n",
       "            progress {\n",
       "                /* gets rid of default border in Firefox and Opera. */\n",
       "                border: none;\n",
       "                /* Needs to be in here for Safari polyfill so background images work as expected. */\n",
       "                background-size: auto;\n",
       "            }\n",
       "            .progress-bar-interrupted, .progress-bar-interrupted::-webkit-progress-bar {\n",
       "                background: #F44336;\n",
       "            }\n",
       "        </style>\n",
       "      <progress value='16400' class='' max='16400' style='width:300px; height:20px; vertical-align: middle;'></progress>\n",
       "      100.00% [16400/16400 07:39<00:00 Sampling 4 chains, 0 divergences]\n",
       "    </div>\n",
       "    "
      ],
      "text/plain": [
       "<IPython.core.display.HTML object>"
      ]
     },
     "metadata": {},
     "output_type": "display_data"
    },
    {
     "name": "stderr",
     "output_type": "stream",
     "text": [
      "Sampling 4 chains for 2_500 tune and 1_600 draw iterations (10_000 + 6_400 draws total) took 469 seconds.\n",
      "The acceptance probability does not match the target. It is 0.5810979889919865, but should be close to 0.8. Try to increase the number of tuning steps.\n",
      "The acceptance probability does not match the target. It is 0.6663040543489777, but should be close to 0.8. Try to increase the number of tuning steps.\n",
      "The acceptance probability does not match the target. It is 0.5227784686395978, but should be close to 0.8. Try to increase the number of tuning steps.\n",
      "The rhat statistic is larger than 1.05 for some parameters. This indicates slight problems during sampling.\n",
      "The estimated number of effective samples is smaller than 200 for some parameters.\n"
     ]
    },
    {
     "name": "stdout",
     "output_type": "stream",
     "text": [
      "43 {'beta': 0.2858769448862026, 'gamma': 0.04148000044442595, 'N': 565999.6732983458, 'I0': 1.5734913681699119}\n"
     ]
    },
    {
     "name": "stderr",
     "output_type": "stream",
     "text": [
      "Multiprocess sampling (4 chains in 4 jobs)\n",
      "NUTS: [sigma, I0, N, gamma, beta]\n"
     ]
    },
    {
     "data": {
      "text/html": [
       "\n",
       "    <div>\n",
       "        <style>\n",
       "            /* Turns off some styling */\n",
       "            progress {\n",
       "                /* gets rid of default border in Firefox and Opera. */\n",
       "                border: none;\n",
       "                /* Needs to be in here for Safari polyfill so background images work as expected. */\n",
       "                background-size: auto;\n",
       "            }\n",
       "            .progress-bar-interrupted, .progress-bar-interrupted::-webkit-progress-bar {\n",
       "                background: #F44336;\n",
       "            }\n",
       "        </style>\n",
       "      <progress value='16400' class='' max='16400' style='width:300px; height:20px; vertical-align: middle;'></progress>\n",
       "      100.00% [16400/16400 09:32<00:00 Sampling 4 chains, 0 divergences]\n",
       "    </div>\n",
       "    "
      ],
      "text/plain": [
       "<IPython.core.display.HTML object>"
      ]
     },
     "metadata": {},
     "output_type": "display_data"
    },
    {
     "name": "stderr",
     "output_type": "stream",
     "text": [
      "Sampling 4 chains for 2_500 tune and 1_600 draw iterations (10_000 + 6_400 draws total) took 582 seconds.\n",
      "The acceptance probability does not match the target. It is 0.6498344134966512, but should be close to 0.8. Try to increase the number of tuning steps.\n",
      "The acceptance probability does not match the target. It is 0.700945006118185, but should be close to 0.8. Try to increase the number of tuning steps.\n",
      "The rhat statistic is larger than 1.05 for some parameters. This indicates slight problems during sampling.\n",
      "The estimated number of effective samples is smaller than 200 for some parameters.\n"
     ]
    },
    {
     "name": "stdout",
     "output_type": "stream",
     "text": [
      "44 {'beta': 0.2844994750563382, 'gamma': 0.03829782409340824, 'N': 572121.9947138343, 'I0': 1.5191343814890257}\n"
     ]
    },
    {
     "name": "stderr",
     "output_type": "stream",
     "text": [
      "Multiprocess sampling (4 chains in 4 jobs)\n",
      "NUTS: [sigma, I0, N, gamma, beta]\n"
     ]
    },
    {
     "data": {
      "text/html": [
       "\n",
       "    <div>\n",
       "        <style>\n",
       "            /* Turns off some styling */\n",
       "            progress {\n",
       "                /* gets rid of default border in Firefox and Opera. */\n",
       "                border: none;\n",
       "                /* Needs to be in here for Safari polyfill so background images work as expected. */\n",
       "                background-size: auto;\n",
       "            }\n",
       "            .progress-bar-interrupted, .progress-bar-interrupted::-webkit-progress-bar {\n",
       "                background: #F44336;\n",
       "            }\n",
       "        </style>\n",
       "      <progress value='16400' class='' max='16400' style='width:300px; height:20px; vertical-align: middle;'></progress>\n",
       "      100.00% [16400/16400 11:13<00:00 Sampling 4 chains, 0 divergences]\n",
       "    </div>\n",
       "    "
      ],
      "text/plain": [
       "<IPython.core.display.HTML object>"
      ]
     },
     "metadata": {},
     "output_type": "display_data"
    },
    {
     "name": "stderr",
     "output_type": "stream",
     "text": [
      "Sampling 4 chains for 2_500 tune and 1_600 draw iterations (10_000 + 6_400 draws total) took 684 seconds.\n",
      "The acceptance probability does not match the target. It is 0.5779637114288063, but should be close to 0.8. Try to increase the number of tuning steps.\n",
      "The estimated number of effective samples is smaller than 200 for some parameters.\n"
     ]
    },
    {
     "name": "stdout",
     "output_type": "stream",
     "text": [
      "45 {'beta': 0.28199436032784725, 'gamma': 0.03572198793141796, 'N': 594699.1310217493, 'I0': 1.521808155468857}\n"
     ]
    },
    {
     "name": "stderr",
     "output_type": "stream",
     "text": [
      "Multiprocess sampling (4 chains in 4 jobs)\n",
      "NUTS: [sigma, I0, N, gamma, beta]\n"
     ]
    },
    {
     "data": {
      "text/html": [
       "\n",
       "    <div>\n",
       "        <style>\n",
       "            /* Turns off some styling */\n",
       "            progress {\n",
       "                /* gets rid of default border in Firefox and Opera. */\n",
       "                border: none;\n",
       "                /* Needs to be in here for Safari polyfill so background images work as expected. */\n",
       "                background-size: auto;\n",
       "            }\n",
       "            .progress-bar-interrupted, .progress-bar-interrupted::-webkit-progress-bar {\n",
       "                background: #F44336;\n",
       "            }\n",
       "        </style>\n",
       "      <progress value='16400' class='' max='16400' style='width:300px; height:20px; vertical-align: middle;'></progress>\n",
       "      100.00% [16400/16400 13:05<00:00 Sampling 4 chains, 0 divergences]\n",
       "    </div>\n",
       "    "
      ],
      "text/plain": [
       "<IPython.core.display.HTML object>"
      ]
     },
     "metadata": {},
     "output_type": "display_data"
    },
    {
     "name": "stderr",
     "output_type": "stream",
     "text": [
      "Sampling 4 chains for 2_500 tune and 1_600 draw iterations (10_000 + 6_400 draws total) took 795 seconds.\n",
      "The acceptance probability does not match the target. It is 0.5410804070317963, but should be close to 0.8. Try to increase the number of tuning steps.\n",
      "The rhat statistic is larger than 1.05 for some parameters. This indicates slight problems during sampling.\n",
      "The estimated number of effective samples is smaller than 200 for some parameters.\n"
     ]
    },
    {
     "name": "stdout",
     "output_type": "stream",
     "text": [
      "46 {'beta': 0.2807626456390755, 'gamma': 0.037099648139243276, 'N': 509186.52546337736, 'I0': 1.6278525956546803}\n"
     ]
    },
    {
     "name": "stderr",
     "output_type": "stream",
     "text": [
      "Multiprocess sampling (4 chains in 4 jobs)\n",
      "NUTS: [sigma, I0, N, gamma, beta]\n"
     ]
    },
    {
     "data": {
      "text/html": [
       "\n",
       "    <div>\n",
       "        <style>\n",
       "            /* Turns off some styling */\n",
       "            progress {\n",
       "                /* gets rid of default border in Firefox and Opera. */\n",
       "                border: none;\n",
       "                /* Needs to be in here for Safari polyfill so background images work as expected. */\n",
       "                background-size: auto;\n",
       "            }\n",
       "            .progress-bar-interrupted, .progress-bar-interrupted::-webkit-progress-bar {\n",
       "                background: #F44336;\n",
       "            }\n",
       "        </style>\n",
       "      <progress value='16400' class='' max='16400' style='width:300px; height:20px; vertical-align: middle;'></progress>\n",
       "      100.00% [16400/16400 09:31<00:00 Sampling 4 chains, 0 divergences]\n",
       "    </div>\n",
       "    "
      ],
      "text/plain": [
       "<IPython.core.display.HTML object>"
      ]
     },
     "metadata": {},
     "output_type": "display_data"
    },
    {
     "name": "stderr",
     "output_type": "stream",
     "text": [
      "Sampling 4 chains for 2_500 tune and 1_600 draw iterations (10_000 + 6_400 draws total) took 581 seconds.\n",
      "The acceptance probability does not match the target. It is 0.3374069362120231, but should be close to 0.8. Try to increase the number of tuning steps.\n",
      "The rhat statistic is larger than 1.4 for some parameters. The sampler did not converge.\n",
      "The estimated number of effective samples is smaller than 200 for some parameters.\n"
     ]
    },
    {
     "name": "stdout",
     "output_type": "stream",
     "text": [
      "47 {'beta': 0.28892015410254773, 'gamma': 0.044061678340609554, 'N': 321265.86948275677, 'I0': 1.5671475298858122}\n"
     ]
    },
    {
     "name": "stderr",
     "output_type": "stream",
     "text": [
      "Multiprocess sampling (4 chains in 4 jobs)\n",
      "NUTS: [sigma, I0, N, gamma, beta]\n"
     ]
    },
    {
     "data": {
      "text/html": [
       "\n",
       "    <div>\n",
       "        <style>\n",
       "            /* Turns off some styling */\n",
       "            progress {\n",
       "                /* gets rid of default border in Firefox and Opera. */\n",
       "                border: none;\n",
       "                /* Needs to be in here for Safari polyfill so background images work as expected. */\n",
       "                background-size: auto;\n",
       "            }\n",
       "            .progress-bar-interrupted, .progress-bar-interrupted::-webkit-progress-bar {\n",
       "                background: #F44336;\n",
       "            }\n",
       "        </style>\n",
       "      <progress value='16400' class='' max='16400' style='width:300px; height:20px; vertical-align: middle;'></progress>\n",
       "      100.00% [16400/16400 09:12<00:00 Sampling 4 chains, 0 divergences]\n",
       "    </div>\n",
       "    "
      ],
      "text/plain": [
       "<IPython.core.display.HTML object>"
      ]
     },
     "metadata": {},
     "output_type": "display_data"
    },
    {
     "name": "stderr",
     "output_type": "stream",
     "text": [
      "Sampling 4 chains for 2_500 tune and 1_600 draw iterations (10_000 + 6_400 draws total) took 562 seconds.\n",
      "The acceptance probability does not match the target. It is 0.7191269861581236, but should be close to 0.8. Try to increase the number of tuning steps.\n",
      "The acceptance probability does not match the target. It is 0.6087540945599336, but should be close to 0.8. Try to increase the number of tuning steps.\n",
      "The rhat statistic is larger than 1.05 for some parameters. This indicates slight problems during sampling.\n",
      "The estimated number of effective samples is smaller than 200 for some parameters.\n"
     ]
    },
    {
     "name": "stdout",
     "output_type": "stream",
     "text": [
      "48 {'beta': 0.2824758587356495, 'gamma': 0.036015332904564275, 'N': 206625.2848277589, 'I0': 1.5763515377324666}\n"
     ]
    },
    {
     "name": "stderr",
     "output_type": "stream",
     "text": [
      "Multiprocess sampling (4 chains in 4 jobs)\n",
      "NUTS: [sigma, I0, N, gamma, beta]\n"
     ]
    },
    {
     "data": {
      "text/html": [
       "\n",
       "    <div>\n",
       "        <style>\n",
       "            /* Turns off some styling */\n",
       "            progress {\n",
       "                /* gets rid of default border in Firefox and Opera. */\n",
       "                border: none;\n",
       "                /* Needs to be in here for Safari polyfill so background images work as expected. */\n",
       "                background-size: auto;\n",
       "            }\n",
       "            .progress-bar-interrupted, .progress-bar-interrupted::-webkit-progress-bar {\n",
       "                background: #F44336;\n",
       "            }\n",
       "        </style>\n",
       "      <progress value='16400' class='' max='16400' style='width:300px; height:20px; vertical-align: middle;'></progress>\n",
       "      100.00% [16400/16400 09:00<00:00 Sampling 4 chains, 0 divergences]\n",
       "    </div>\n",
       "    "
      ],
      "text/plain": [
       "<IPython.core.display.HTML object>"
      ]
     },
     "metadata": {},
     "output_type": "display_data"
    },
    {
     "name": "stderr",
     "output_type": "stream",
     "text": [
      "Sampling 4 chains for 2_500 tune and 1_600 draw iterations (10_000 + 6_400 draws total) took 549 seconds.\n",
      "The acceptance probability does not match the target. It is 0.5658708100314037, but should be close to 0.8. Try to increase the number of tuning steps.\n",
      "The acceptance probability does not match the target. It is 0.6005599835812896, but should be close to 0.8. Try to increase the number of tuning steps.\n",
      "The acceptance probability does not match the target. It is 0.4088806446095567, but should be close to 0.8. Try to increase the number of tuning steps.\n",
      "The acceptance probability does not match the target. It is 0.6232660567552191, but should be close to 0.8. Try to increase the number of tuning steps.\n",
      "The rhat statistic is larger than 1.2 for some parameters.\n",
      "The estimated number of effective samples is smaller than 200 for some parameters.\n"
     ]
    },
    {
     "name": "stdout",
     "output_type": "stream",
     "text": [
      "49 {'beta': 0.29804019103512325, 'gamma': 0.04662288072462841, 'N': 124383.11809203016, 'I0': 1.3606251335741404}\n"
     ]
    },
    {
     "name": "stderr",
     "output_type": "stream",
     "text": [
      "Multiprocess sampling (4 chains in 4 jobs)\n",
      "NUTS: [sigma, I0, N, gamma, beta]\n"
     ]
    },
    {
     "data": {
      "text/html": [
       "\n",
       "    <div>\n",
       "        <style>\n",
       "            /* Turns off some styling */\n",
       "            progress {\n",
       "                /* gets rid of default border in Firefox and Opera. */\n",
       "                border: none;\n",
       "                /* Needs to be in here for Safari polyfill so background images work as expected. */\n",
       "                background-size: auto;\n",
       "            }\n",
       "            .progress-bar-interrupted, .progress-bar-interrupted::-webkit-progress-bar {\n",
       "                background: #F44336;\n",
       "            }\n",
       "        </style>\n",
       "      <progress value='16400' class='' max='16400' style='width:300px; height:20px; vertical-align: middle;'></progress>\n",
       "      100.00% [16400/16400 11:25<00:00 Sampling 4 chains, 0 divergences]\n",
       "    </div>\n",
       "    "
      ],
      "text/plain": [
       "<IPython.core.display.HTML object>"
      ]
     },
     "metadata": {},
     "output_type": "display_data"
    },
    {
     "name": "stderr",
     "output_type": "stream",
     "text": [
      "Sampling 4 chains for 2_500 tune and 1_600 draw iterations (10_000 + 6_400 draws total) took 695 seconds.\n",
      "The acceptance probability does not match the target. It is 0.5335973176244322, but should be close to 0.8. Try to increase the number of tuning steps.\n",
      "The acceptance probability does not match the target. It is 0.6998451586659239, but should be close to 0.8. Try to increase the number of tuning steps.\n",
      "The rhat statistic is larger than 1.05 for some parameters. This indicates slight problems during sampling.\n",
      "The estimated number of effective samples is smaller than 200 for some parameters.\n"
     ]
    },
    {
     "name": "stdout",
     "output_type": "stream",
     "text": [
      "50 {'beta': 0.29454949680996384, 'gamma': 0.03620884199289987, 'N': 88275.81770535102, 'I0': 1.190677567695884}\n"
     ]
    },
    {
     "name": "stderr",
     "output_type": "stream",
     "text": [
      "Multiprocess sampling (4 chains in 4 jobs)\n",
      "NUTS: [sigma, I0, N, gamma, beta]\n"
     ]
    },
    {
     "data": {
      "text/html": [
       "\n",
       "    <div>\n",
       "        <style>\n",
       "            /* Turns off some styling */\n",
       "            progress {\n",
       "                /* gets rid of default border in Firefox and Opera. */\n",
       "                border: none;\n",
       "                /* Needs to be in here for Safari polyfill so background images work as expected. */\n",
       "                background-size: auto;\n",
       "            }\n",
       "            .progress-bar-interrupted, .progress-bar-interrupted::-webkit-progress-bar {\n",
       "                background: #F44336;\n",
       "            }\n",
       "        </style>\n",
       "      <progress value='16400' class='' max='16400' style='width:300px; height:20px; vertical-align: middle;'></progress>\n",
       "      100.00% [16400/16400 11:01<00:00 Sampling 4 chains, 4 divergences]\n",
       "    </div>\n",
       "    "
      ],
      "text/plain": [
       "<IPython.core.display.HTML object>"
      ]
     },
     "metadata": {},
     "output_type": "display_data"
    },
    {
     "name": "stderr",
     "output_type": "stream",
     "text": [
      "Sampling 4 chains for 2_500 tune and 1_600 draw iterations (10_000 + 6_400 draws total) took 671 seconds.\n",
      "The acceptance probability does not match the target. It is 0.6354400979700658, but should be close to 0.8. Try to increase the number of tuning steps.\n",
      "There were 4 divergences after tuning. Increase `target_accept` or reparameterize.\n",
      "The acceptance probability does not match the target. It is 0.18108536711041828, but should be close to 0.8. Try to increase the number of tuning steps.\n",
      "The acceptance probability does not match the target. It is 0.670054358583615, but should be close to 0.8. Try to increase the number of tuning steps.\n",
      "The rhat statistic is larger than 1.4 for some parameters. The sampler did not converge.\n",
      "The estimated number of effective samples is smaller than 200 for some parameters.\n"
     ]
    },
    {
     "name": "stdout",
     "output_type": "stream",
     "text": [
      "51 {'beta': 0.3060097821749025, 'gamma': 0.04464696783237747, 'N': 81204.43484869535, 'I0': 1.0686526301998651}\n"
     ]
    },
    {
     "name": "stderr",
     "output_type": "stream",
     "text": [
      "Multiprocess sampling (4 chains in 4 jobs)\n",
      "NUTS: [sigma, I0, N, gamma, beta]\n"
     ]
    },
    {
     "data": {
      "text/html": [
       "\n",
       "    <div>\n",
       "        <style>\n",
       "            /* Turns off some styling */\n",
       "            progress {\n",
       "                /* gets rid of default border in Firefox and Opera. */\n",
       "                border: none;\n",
       "                /* Needs to be in here for Safari polyfill so background images work as expected. */\n",
       "                background-size: auto;\n",
       "            }\n",
       "            .progress-bar-interrupted, .progress-bar-interrupted::-webkit-progress-bar {\n",
       "                background: #F44336;\n",
       "            }\n",
       "        </style>\n",
       "      <progress value='16400' class='' max='16400' style='width:300px; height:20px; vertical-align: middle;'></progress>\n",
       "      100.00% [16400/16400 11:03<00:00 Sampling 4 chains, 1 divergences]\n",
       "    </div>\n",
       "    "
      ],
      "text/plain": [
       "<IPython.core.display.HTML object>"
      ]
     },
     "metadata": {},
     "output_type": "display_data"
    },
    {
     "name": "stderr",
     "output_type": "stream",
     "text": [
      "Sampling 4 chains for 2_500 tune and 1_600 draw iterations (10_000 + 6_400 draws total) took 673 seconds.\n",
      "The acceptance probability does not match the target. It is 0.6409107791400914, but should be close to 0.8. Try to increase the number of tuning steps.\n",
      "There was 1 divergence after tuning. Increase `target_accept` or reparameterize.\n",
      "The acceptance probability does not match the target. It is 0.49831563555588304, but should be close to 0.8. Try to increase the number of tuning steps.\n",
      "The acceptance probability does not match the target. It is 0.580287531790319, but should be close to 0.8. Try to increase the number of tuning steps.\n",
      "The rhat statistic is larger than 1.05 for some parameters. This indicates slight problems during sampling.\n",
      "The estimated number of effective samples is smaller than 200 for some parameters.\n"
     ]
    },
    {
     "name": "stdout",
     "output_type": "stream",
     "text": [
      "52 {'beta': 0.30451590820026214, 'gamma': 0.04010193223603348, 'N': 75138.46176839038, 'I0': 1.0094805321842448}\n"
     ]
    },
    {
     "name": "stderr",
     "output_type": "stream",
     "text": [
      "Multiprocess sampling (4 chains in 4 jobs)\n",
      "NUTS: [sigma, I0, N, gamma, beta]\n"
     ]
    },
    {
     "data": {
      "text/html": [
       "\n",
       "    <div>\n",
       "        <style>\n",
       "            /* Turns off some styling */\n",
       "            progress {\n",
       "                /* gets rid of default border in Firefox and Opera. */\n",
       "                border: none;\n",
       "                /* Needs to be in here for Safari polyfill so background images work as expected. */\n",
       "                background-size: auto;\n",
       "            }\n",
       "            .progress-bar-interrupted, .progress-bar-interrupted::-webkit-progress-bar {\n",
       "                background: #F44336;\n",
       "            }\n",
       "        </style>\n",
       "      <progress value='16400' class='' max='16400' style='width:300px; height:20px; vertical-align: middle;'></progress>\n",
       "      100.00% [16400/16400 12:56<00:00 Sampling 4 chains, 0 divergences]\n",
       "    </div>\n",
       "    "
      ],
      "text/plain": [
       "<IPython.core.display.HTML object>"
      ]
     },
     "metadata": {},
     "output_type": "display_data"
    },
    {
     "name": "stderr",
     "output_type": "stream",
     "text": [
      "Sampling 4 chains for 2_500 tune and 1_600 draw iterations (10_000 + 6_400 draws total) took 786 seconds.\n",
      "The acceptance probability does not match the target. It is 0.5970579167457867, but should be close to 0.8. Try to increase the number of tuning steps.\n",
      "The acceptance probability does not match the target. It is 0.3298685211308306, but should be close to 0.8. Try to increase the number of tuning steps.\n",
      "The rhat statistic is larger than 1.4 for some parameters. The sampler did not converge.\n",
      "The estimated number of effective samples is smaller than 200 for some parameters.\n"
     ]
    },
    {
     "name": "stdout",
     "output_type": "stream",
     "text": [
      "53 {'beta': 0.3070623280976841, 'gamma': 0.040988705617802025, 'N': 73572.24392162032, 'I0': 0.9668854835015019}\n"
     ]
    },
    {
     "name": "stderr",
     "output_type": "stream",
     "text": [
      "Multiprocess sampling (4 chains in 4 jobs)\n",
      "NUTS: [sigma, I0, N, gamma, beta]\n"
     ]
    },
    {
     "data": {
      "text/html": [
       "\n",
       "    <div>\n",
       "        <style>\n",
       "            /* Turns off some styling */\n",
       "            progress {\n",
       "                /* gets rid of default border in Firefox and Opera. */\n",
       "                border: none;\n",
       "                /* Needs to be in here for Safari polyfill so background images work as expected. */\n",
       "                background-size: auto;\n",
       "            }\n",
       "            .progress-bar-interrupted, .progress-bar-interrupted::-webkit-progress-bar {\n",
       "                background: #F44336;\n",
       "            }\n",
       "        </style>\n",
       "      <progress value='16400' class='' max='16400' style='width:300px; height:20px; vertical-align: middle;'></progress>\n",
       "      100.00% [16400/16400 12:21<00:00 Sampling 4 chains, 0 divergences]\n",
       "    </div>\n",
       "    "
      ],
      "text/plain": [
       "<IPython.core.display.HTML object>"
      ]
     },
     "metadata": {},
     "output_type": "display_data"
    },
    {
     "name": "stderr",
     "output_type": "stream",
     "text": [
      "Sampling 4 chains for 2_500 tune and 1_600 draw iterations (10_000 + 6_400 draws total) took 751 seconds.\n",
      "The acceptance probability does not match the target. It is 0.5994675496141454, but should be close to 0.8. Try to increase the number of tuning steps.\n",
      "The acceptance probability does not match the target. It is 0.6582334722402965, but should be close to 0.8. Try to increase the number of tuning steps.\n",
      "The acceptance probability does not match the target. It is 0.6240475756846617, but should be close to 0.8. Try to increase the number of tuning steps.\n",
      "The acceptance probability does not match the target. It is 0.558569168643852, but should be close to 0.8. Try to increase the number of tuning steps.\n",
      "The rhat statistic is larger than 1.2 for some parameters.\n",
      "The estimated number of effective samples is smaller than 200 for some parameters.\n"
     ]
    },
    {
     "name": "stdout",
     "output_type": "stream",
     "text": [
      "54 {'beta': 0.3061124509398523, 'gamma': 0.039932803787165946, 'N': 73660.91886398783, 'I0': 0.9624693886881048}\n"
     ]
    },
    {
     "name": "stderr",
     "output_type": "stream",
     "text": [
      "Multiprocess sampling (4 chains in 4 jobs)\n",
      "NUTS: [sigma, I0, N, gamma, beta]\n"
     ]
    },
    {
     "data": {
      "text/html": [
       "\n",
       "    <div>\n",
       "        <style>\n",
       "            /* Turns off some styling */\n",
       "            progress {\n",
       "                /* gets rid of default border in Firefox and Opera. */\n",
       "                border: none;\n",
       "                /* Needs to be in here for Safari polyfill so background images work as expected. */\n",
       "                background-size: auto;\n",
       "            }\n",
       "            .progress-bar-interrupted, .progress-bar-interrupted::-webkit-progress-bar {\n",
       "                background: #F44336;\n",
       "            }\n",
       "        </style>\n",
       "      <progress value='16400' class='' max='16400' style='width:300px; height:20px; vertical-align: middle;'></progress>\n",
       "      100.00% [16400/16400 12:52<00:00 Sampling 4 chains, 0 divergences]\n",
       "    </div>\n",
       "    "
      ],
      "text/plain": [
       "<IPython.core.display.HTML object>"
      ]
     },
     "metadata": {},
     "output_type": "display_data"
    },
    {
     "name": "stderr",
     "output_type": "stream",
     "text": [
      "Sampling 4 chains for 2_500 tune and 1_600 draw iterations (10_000 + 6_400 draws total) took 783 seconds.\n",
      "The acceptance probability does not match the target. It is 0.6191186479967529, but should be close to 0.8. Try to increase the number of tuning steps.\n",
      "The acceptance probability does not match the target. It is 0.636811997699946, but should be close to 0.8. Try to increase the number of tuning steps.\n",
      "The acceptance probability does not match the target. It is 0.6261827489625287, but should be close to 0.8. Try to increase the number of tuning steps.\n",
      "The estimated number of effective samples is smaller than 200 for some parameters.\n"
     ]
    },
    {
     "name": "stdout",
     "output_type": "stream",
     "text": [
      "55 {'beta': 0.29800106683235933, 'gamma': 0.03199868170423354, 'N': 73205.96474341502, 'I0': 0.9891352126894597}\n"
     ]
    },
    {
     "name": "stderr",
     "output_type": "stream",
     "text": [
      "Multiprocess sampling (4 chains in 4 jobs)\n",
      "NUTS: [sigma, I0, N, gamma, beta]\n"
     ]
    },
    {
     "data": {
      "text/html": [
       "\n",
       "    <div>\n",
       "        <style>\n",
       "            /* Turns off some styling */\n",
       "            progress {\n",
       "                /* gets rid of default border in Firefox and Opera. */\n",
       "                border: none;\n",
       "                /* Needs to be in here for Safari polyfill so background images work as expected. */\n",
       "                background-size: auto;\n",
       "            }\n",
       "            .progress-bar-interrupted, .progress-bar-interrupted::-webkit-progress-bar {\n",
       "                background: #F44336;\n",
       "            }\n",
       "        </style>\n",
       "      <progress value='16400' class='' max='16400' style='width:300px; height:20px; vertical-align: middle;'></progress>\n",
       "      100.00% [16400/16400 13:32<00:00 Sampling 4 chains, 0 divergences]\n",
       "    </div>\n",
       "    "
      ],
      "text/plain": [
       "<IPython.core.display.HTML object>"
      ]
     },
     "metadata": {},
     "output_type": "display_data"
    },
    {
     "name": "stderr",
     "output_type": "stream",
     "text": [
      "Sampling 4 chains for 2_500 tune and 1_600 draw iterations (10_000 + 6_400 draws total) took 822 seconds.\n",
      "The acceptance probability does not match the target. It is 0.5163011105644572, but should be close to 0.8. Try to increase the number of tuning steps.\n",
      "The acceptance probability does not match the target. It is 0.6960614226456971, but should be close to 0.8. Try to increase the number of tuning steps.\n",
      "The acceptance probability does not match the target. It is 0.3854143698026975, but should be close to 0.8. Try to increase the number of tuning steps.\n",
      "The acceptance probability does not match the target. It is 0.7211112449145273, but should be close to 0.8. Try to increase the number of tuning steps.\n",
      "The rhat statistic is larger than 1.2 for some parameters.\n",
      "The estimated number of effective samples is smaller than 200 for some parameters.\n"
     ]
    },
    {
     "name": "stdout",
     "output_type": "stream",
     "text": [
      "56 {'beta': 0.3022428198388617, 'gamma': 0.03882793717230088, 'N': 74673.20183675818, 'I0': 1.048849290473141}\n"
     ]
    },
    {
     "name": "stderr",
     "output_type": "stream",
     "text": [
      "Multiprocess sampling (4 chains in 4 jobs)\n",
      "NUTS: [sigma, I0, N, gamma, beta]\n"
     ]
    },
    {
     "data": {
      "text/html": [
       "\n",
       "    <div>\n",
       "        <style>\n",
       "            /* Turns off some styling */\n",
       "            progress {\n",
       "                /* gets rid of default border in Firefox and Opera. */\n",
       "                border: none;\n",
       "                /* Needs to be in here for Safari polyfill so background images work as expected. */\n",
       "                background-size: auto;\n",
       "            }\n",
       "            .progress-bar-interrupted, .progress-bar-interrupted::-webkit-progress-bar {\n",
       "                background: #F44336;\n",
       "            }\n",
       "        </style>\n",
       "      <progress value='16400' class='' max='16400' style='width:300px; height:20px; vertical-align: middle;'></progress>\n",
       "      100.00% [16400/16400 15:11<00:00 Sampling 4 chains, 0 divergences]\n",
       "    </div>\n",
       "    "
      ],
      "text/plain": [
       "<IPython.core.display.HTML object>"
      ]
     },
     "metadata": {},
     "output_type": "display_data"
    },
    {
     "name": "stderr",
     "output_type": "stream",
     "text": [
      "Sampling 4 chains for 2_500 tune and 1_600 draw iterations (10_000 + 6_400 draws total) took 922 seconds.\n",
      "The acceptance probability does not match the target. It is 0.6298367075143774, but should be close to 0.8. Try to increase the number of tuning steps.\n",
      "The acceptance probability does not match the target. It is 0.5688455498955972, but should be close to 0.8. Try to increase the number of tuning steps.\n",
      "The acceptance probability does not match the target. It is 0.43453692100941693, but should be close to 0.8. Try to increase the number of tuning steps.\n",
      "The rhat statistic is larger than 1.2 for some parameters.\n",
      "The estimated number of effective samples is smaller than 200 for some parameters.\n"
     ]
    },
    {
     "name": "stdout",
     "output_type": "stream",
     "text": [
      "57 {'beta': 0.29954720310007715, 'gamma': 0.03862572090083874, 'N': 76633.5504598906, 'I0': 1.1150344172446223}\n"
     ]
    },
    {
     "name": "stderr",
     "output_type": "stream",
     "text": [
      "Multiprocess sampling (4 chains in 4 jobs)\n",
      "NUTS: [sigma, I0, N, gamma, beta]\n"
     ]
    },
    {
     "data": {
      "text/html": [
       "\n",
       "    <div>\n",
       "        <style>\n",
       "            /* Turns off some styling */\n",
       "            progress {\n",
       "                /* gets rid of default border in Firefox and Opera. */\n",
       "                border: none;\n",
       "                /* Needs to be in here for Safari polyfill so background images work as expected. */\n",
       "                background-size: auto;\n",
       "            }\n",
       "            .progress-bar-interrupted, .progress-bar-interrupted::-webkit-progress-bar {\n",
       "                background: #F44336;\n",
       "            }\n",
       "        </style>\n",
       "      <progress value='16400' class='' max='16400' style='width:300px; height:20px; vertical-align: middle;'></progress>\n",
       "      100.00% [16400/16400 13:17<00:00 Sampling 4 chains, 0 divergences]\n",
       "    </div>\n",
       "    "
      ],
      "text/plain": [
       "<IPython.core.display.HTML object>"
      ]
     },
     "metadata": {},
     "output_type": "display_data"
    },
    {
     "name": "stderr",
     "output_type": "stream",
     "text": [
      "Sampling 4 chains for 2_500 tune and 1_600 draw iterations (10_000 + 6_400 draws total) took 807 seconds.\n",
      "The acceptance probability does not match the target. It is 0.5688435000278373, but should be close to 0.8. Try to increase the number of tuning steps.\n",
      "The acceptance probability does not match the target. It is 0.7128275266773769, but should be close to 0.8. Try to increase the number of tuning steps.\n",
      "The acceptance probability does not match the target. It is 0.5862871152839824, but should be close to 0.8. Try to increase the number of tuning steps.\n",
      "The acceptance probability does not match the target. It is 0.538952690172272, but should be close to 0.8. Try to increase the number of tuning steps.\n",
      "The rhat statistic is larger than 1.05 for some parameters. This indicates slight problems during sampling.\n",
      "The estimated number of effective samples is smaller than 200 for some parameters.\n"
     ]
    },
    {
     "name": "stdout",
     "output_type": "stream",
     "text": [
      "58 {'beta': 0.3061148174524775, 'gamma': 0.04473863133329674, 'N': 77521.69369453186, 'I0': 1.0763335367083924}\n"
     ]
    },
    {
     "name": "stderr",
     "output_type": "stream",
     "text": [
      "Multiprocess sampling (4 chains in 4 jobs)\n",
      "NUTS: [sigma, I0, N, gamma, beta]\n"
     ]
    },
    {
     "data": {
      "text/html": [
       "\n",
       "    <div>\n",
       "        <style>\n",
       "            /* Turns off some styling */\n",
       "            progress {\n",
       "                /* gets rid of default border in Firefox and Opera. */\n",
       "                border: none;\n",
       "                /* Needs to be in here for Safari polyfill so background images work as expected. */\n",
       "                background-size: auto;\n",
       "            }\n",
       "            .progress-bar-interrupted, .progress-bar-interrupted::-webkit-progress-bar {\n",
       "                background: #F44336;\n",
       "            }\n",
       "        </style>\n",
       "      <progress value='16400' class='' max='16400' style='width:300px; height:20px; vertical-align: middle;'></progress>\n",
       "      100.00% [16400/16400 14:25<00:00 Sampling 4 chains, 0 divergences]\n",
       "    </div>\n",
       "    "
      ],
      "text/plain": [
       "<IPython.core.display.HTML object>"
      ]
     },
     "metadata": {},
     "output_type": "display_data"
    },
    {
     "name": "stderr",
     "output_type": "stream",
     "text": [
      "Sampling 4 chains for 2_500 tune and 1_600 draw iterations (10_000 + 6_400 draws total) took 874 seconds.\n",
      "The acceptance probability does not match the target. It is 0.6545841294868151, but should be close to 0.8. Try to increase the number of tuning steps.\n",
      "The acceptance probability does not match the target. It is 0.6767203893923124, but should be close to 0.8. Try to increase the number of tuning steps.\n",
      "The rhat statistic is larger than 1.05 for some parameters. This indicates slight problems during sampling.\n",
      "The estimated number of effective samples is smaller than 200 for some parameters.\n"
     ]
    },
    {
     "name": "stdout",
     "output_type": "stream",
     "text": [
      "59 {'beta': 0.3030687619869878, 'gamma': 0.04371448832778338, 'N': 78594.66128566972, 'I0': 1.145398803983668}\n"
     ]
    },
    {
     "name": "stderr",
     "output_type": "stream",
     "text": [
      "Multiprocess sampling (4 chains in 4 jobs)\n",
      "NUTS: [sigma, I0, N, gamma, beta]\n"
     ]
    },
    {
     "data": {
      "text/html": [
       "\n",
       "    <div>\n",
       "        <style>\n",
       "            /* Turns off some styling */\n",
       "            progress {\n",
       "                /* gets rid of default border in Firefox and Opera. */\n",
       "                border: none;\n",
       "                /* Needs to be in here for Safari polyfill so background images work as expected. */\n",
       "                background-size: auto;\n",
       "            }\n",
       "            .progress-bar-interrupted, .progress-bar-interrupted::-webkit-progress-bar {\n",
       "                background: #F44336;\n",
       "            }\n",
       "        </style>\n",
       "      <progress value='16400' class='' max='16400' style='width:300px; height:20px; vertical-align: middle;'></progress>\n",
       "      100.00% [16400/16400 13:38<00:00 Sampling 4 chains, 0 divergences]\n",
       "    </div>\n",
       "    "
      ],
      "text/plain": [
       "<IPython.core.display.HTML object>"
      ]
     },
     "metadata": {},
     "output_type": "display_data"
    },
    {
     "name": "stderr",
     "output_type": "stream",
     "text": [
      "Sampling 4 chains for 2_500 tune and 1_600 draw iterations (10_000 + 6_400 draws total) took 827 seconds.\n",
      "The acceptance probability does not match the target. It is 0.6477206558186342, but should be close to 0.8. Try to increase the number of tuning steps.\n",
      "The acceptance probability does not match the target. It is 0.7017265883112518, but should be close to 0.8. Try to increase the number of tuning steps.\n",
      "The acceptance probability does not match the target. It is 0.5693902410903557, but should be close to 0.8. Try to increase the number of tuning steps.\n",
      "The acceptance probability does not match the target. It is 0.616216630850906, but should be close to 0.8. Try to increase the number of tuning steps.\n",
      "The rhat statistic is larger than 1.05 for some parameters. This indicates slight problems during sampling.\n",
      "The estimated number of effective samples is smaller than 200 for some parameters.\n"
     ]
    },
    {
     "name": "stdout",
     "output_type": "stream",
     "text": [
      "60 {'beta': 0.3072663095852464, 'gamma': 0.04996261442514831, 'N': 80525.09248394571, 'I0': 1.1897696082857894}\n"
     ]
    },
    {
     "name": "stderr",
     "output_type": "stream",
     "text": [
      "Multiprocess sampling (4 chains in 4 jobs)\n",
      "NUTS: [sigma, I0, N, gamma, beta]\n"
     ]
    },
    {
     "data": {
      "text/html": [
       "\n",
       "    <div>\n",
       "        <style>\n",
       "            /* Turns off some styling */\n",
       "            progress {\n",
       "                /* gets rid of default border in Firefox and Opera. */\n",
       "                border: none;\n",
       "                /* Needs to be in here for Safari polyfill so background images work as expected. */\n",
       "                background-size: auto;\n",
       "            }\n",
       "            .progress-bar-interrupted, .progress-bar-interrupted::-webkit-progress-bar {\n",
       "                background: #F44336;\n",
       "            }\n",
       "        </style>\n",
       "      <progress value='16400' class='' max='16400' style='width:300px; height:20px; vertical-align: middle;'></progress>\n",
       "      100.00% [16400/16400 15:46<00:00 Sampling 4 chains, 0 divergences]\n",
       "    </div>\n",
       "    "
      ],
      "text/plain": [
       "<IPython.core.display.HTML object>"
      ]
     },
     "metadata": {},
     "output_type": "display_data"
    },
    {
     "name": "stderr",
     "output_type": "stream",
     "text": [
      "Sampling 4 chains for 2_500 tune and 1_600 draw iterations (10_000 + 6_400 draws total) took 956 seconds.\n",
      "The acceptance probability does not match the target. It is 0.572779521603437, but should be close to 0.8. Try to increase the number of tuning steps.\n",
      "The rhat statistic is larger than 1.05 for some parameters. This indicates slight problems during sampling.\n",
      "The estimated number of effective samples is smaller than 200 for some parameters.\n"
     ]
    }
   ],
   "source": [
    "def SIRSeries(data,start=30,end=120,fit_I0=True):\n",
    "    estimates = {}\n",
    "    \n",
    "    tr = None\n",
    "    for l in range(start,end+1):\n",
    "        initial = {} if tr == None else {'beta':np.mean(tr.beta),'gamma':np.mean(tr.gamma),'N':np.mean(tr.N)}\n",
    "        \n",
    "        if fit_I0 and tr != None:\n",
    "            initial['I0'] = np.mean(tr.I0)\n",
    "        print(l,initial)\n",
    "        \n",
    "#        initial=initial\n",
    "        \n",
    "        tr = FitSIRModel(data=data,l=l,I0=None)\n",
    "        \n",
    "        estimates[l] = {'beta':tr.beta,'gamma':tr.gamma,'N':tr.N,\"est\":np.cumsum(-tr.dS,axis=1)}\n",
    "        if fit_I0:\n",
    "            estimates[l][\"I0\"] = tr.I0\n",
    "    return estimates\n",
    "\n",
    "sir_est = SIRSeries(data,30,60)"
   ]
  },
  {
   "cell_type": "code",
   "execution_count": 8,
   "metadata": {
    "scrolled": true
   },
   "outputs": [
    {
     "name": "stdout",
     "output_type": "stream",
     "text": [
      "\t beta 0.24727795960639085 [0.18655331 0.19377147 0.2437316  0.31385935 0.32139477]\n",
      "\t gamma 0.06172536175557521 [0.01371915 0.01744446 0.05498513 0.12689899 0.13623394]\n",
      "\t N 289460.001596363 [ 47454.89398334  56881.01018459 210340.80858579 750417.25347316\n",
      " 917841.81030194]\n",
      "\t I0 5.162817611728303 [2.52787669 2.94258297 4.79360367 8.51442654 9.68924375]\n",
      "\t beta 0.24931714750998743 [0.19741546 0.20414318 0.24596159 0.30407129 0.31463102]\n",
      "\t gamma 0.05423386270238229 [0.01244079 0.01576821 0.04971782 0.10624961 0.11851313]\n",
      "\t N 270839.6023171962 [ 45172.28731643  58283.96310994 203921.23398763 675128.46486493\n",
      " 904233.20646955]\n",
      "\t I0 4.553093393613878 [2.35439504 2.62690311 4.36630429 7.24745752 7.96420807]\n",
      "\t beta 0.2573789036173357 [0.20548368 0.21094811 0.25359678 0.31151179 0.32259195]\n",
      "\t gamma 0.056759172622979005 [0.01292806 0.01662757 0.05189735 0.10872794 0.11789583]\n",
      "\t N 268868.7933120525 [ 46723.59570883  56180.36433577 198850.4655444  705925.01793894\n",
      " 996447.40890339]\n",
      "\t I0 4.107686408350234 [2.1846073  2.42760452 3.90233031 6.44388973 7.1114281 ]\n",
      "\t beta 0.26802337278531235 [0.21066499 0.21596717 0.26124397 0.34944234 0.35575756]\n",
      "\t gamma 0.06510838232012543 [0.01293075 0.01653125 0.05633918 0.15284773 0.15503565]\n",
      "\t N 275988.25207556644 [ 46566.64774371  61577.2410763  196740.00336696 760919.53604211\n",
      " 919632.6682706 ]\n",
      "\t I0 3.8177697322489337 [2.19993789 2.44873247 3.6598212  5.79659509 6.35551002]\n",
      "\t beta 0.2729126065671036 [0.21472485 0.22029959 0.26730135 0.35134741 0.35664947]\n",
      "\t gamma 0.06717369183326868 [0.01357149 0.0175262  0.06241158 0.13509511 0.14045516]\n",
      "\t N 293667.5509766404 [ 55643.29435455  66364.03350619 212511.11198926 811916.67835739\n",
      " 966966.52443282]\n",
      "\t I0 3.5870654832278 [2.00540369 2.13233283 3.458836   5.29346242 5.86916987]\n",
      "\t beta 0.2674516474901468 [0.21636933 0.22079077 0.26333664 0.32257841 0.32570035]\n",
      "\t gamma 0.0612644167426518 [0.01267512 0.0161036  0.0557516  0.11591596 0.12009699]\n",
      "\t N 264274.07017553644 [ 59587.51470849  68217.65378729 187005.88451375 682276.85437576\n",
      " 942237.35988479]\n",
      "\t I0 3.6192717255560094 [2.31196325 2.49617059 3.49126802 5.16529886 5.59202108]\n",
      "\t beta 0.278054608279059 [0.22071607 0.22512825 0.27145899 0.33804536 0.34317721]\n",
      "\t gamma 0.0673397820707339 [0.01301252 0.01675859 0.05996782 0.12690139 0.13023896]\n",
      "\t N 262248.70966962184 [ 63382.70507294  79073.82303966 208004.45837314 632499.536887\n",
      " 816564.97208703]\n",
      "\t I0 3.1985666951749554 [2.14994674 2.24727569 3.09487582 4.69193139 5.07273884]\n",
      "\t beta 0.2600465637598636 [0.22165212 0.22555625 0.25706484 0.30609914 0.31240468]\n",
      "\t gamma 0.04611233176724342 [0.0120739  0.01466649 0.0435322  0.08952627 0.09689549]\n",
      "\t N 318585.84563767136 [  62405.81573708   77318.92004506  246907.18602987  809062.88807407\n",
      " 1035397.63162824]\n",
      "\t I0 3.208538905320589 [2.07519621 2.18417568 3.11147339 4.51521757 4.83976735]\n",
      "\t beta 0.2696870940386631 [0.22749176 0.231381   0.26981073 0.31413593 0.31766221]\n",
      "\t gamma 0.05267982823186667 [0.01197261 0.01523525 0.0518354  0.10900803 0.1132533 ]\n",
      "\t N 326164.8030563655 [ 77228.4562956   94160.72233231 287168.46303648 729263.69079495\n",
      " 953349.08268763]\n",
      "\t I0 2.908713828233724 [1.99488492 2.18534305 2.8481113  3.90523767 4.18200901]\n",
      "\t beta 0.29589885722431114 [0.23562637 0.24138226 0.29626229 0.35865449 0.36022907]\n",
      "\t gamma 0.06966298445640351 [0.01398239 0.01799429 0.06840365 0.12329441 0.12566464]\n",
      "\t N 300667.9811514689 [ 50016.39737188  77761.85266012 259759.20797416 671178.67220966\n",
      " 828470.0787238 ]\n",
      "\t I0 2.238414856291276 [1.41998982 1.45744063 2.17354206 3.27315037 3.53146114]\n",
      "\t beta 0.28874377764324594 [0.23932815 0.24462788 0.28359396 0.33964131 0.34335575]\n",
      "\t gamma 0.06231976229405827 [0.01300902 0.01591887 0.05395322 0.12962473 0.13242264]\n",
      "\t N 402154.35702698486 [ 109357.41407606  132313.99765633  309409.35235001  999951.47388157\n",
      " 1281687.63521554]\n",
      "\t I0 2.2855120503544932 [1.51540853 1.60058654 2.27148695 2.92277159 3.13103318]\n",
      "\t beta 0.28225059620027065 [0.24651003 0.25045157 0.28279331 0.31208966 0.31539225]\n",
      "\t gamma 0.04354319351791552 [0.01122041 0.01460089 0.04379526 0.0754951  0.0799266 ]\n",
      "\t N 552129.6545595512 [ 127734.48043298  152783.56265788  427702.4575687  1321271.15470439\n",
      " 1572623.924228  ]\n",
      "\t I0 1.7933139576667931 [1.2428508  1.30005675 1.72215403 2.52901242 2.7183345 ]\n",
      "\t beta 0.2858769448862026 [0.25130723 0.25567552 0.28478779 0.31950336 0.32232484]\n",
      "\t gamma 0.04148000044442595 [0.01127912 0.01417588 0.04020655 0.07430371 0.07932901]\n",
      "\t N 565999.6732983458 [ 158207.96951028  180712.24911938  451033.27149213 1503396.31836223\n",
      " 2039118.00802213]\n",
      "\t I0 1.5734913681699119 [1.03057397 1.07129461 1.52966209 2.15215824 2.30785462]\n",
      "\t beta 0.2844994750563382 [0.2531621  0.25671475 0.28341279 0.31777666 0.32312709]\n",
      "\t gamma 0.03829782409340824 [0.00989532 0.0122599  0.03654992 0.07327176 0.07720729]\n",
      "\t N 572121.9947138343 [ 164447.46221655  189386.67157412  473130.84496954 1275163.0534238\n",
      " 1622845.75903386]\n",
      "\t I0 1.5191343814890257 [1.03484246 1.11319942 1.49292869 2.00557733 2.1100013 ]\n",
      "\t beta 0.28199436032784725 [0.25424359 0.25759729 0.28163757 0.30662704 0.32303533]\n",
      "\t gamma 0.03572198793141796 [0.01060818 0.01327073 0.03576883 0.0606821  0.06404198]\n",
      "\t N 594699.1310217493 [ 168563.90095199  199452.75598483  475553.94757415 1339046.48621945\n",
      " 1706364.18562494]\n",
      "\t I0 1.521808155468857 [0.89384795 1.08214383 1.51496798 1.97344092 2.08254772]\n",
      "\t beta 0.2807626456390755 [0.25169223 0.25524255 0.28069639 0.30464986 0.31177082]\n",
      "\t gamma 0.037099648139243276 [0.01006378 0.01287049 0.036494   0.0613325  0.06720917]\n",
      "\t N 509186.52546337736 [ 159516.88538213  182158.48713028  435505.07667786 1119207.60550082\n",
      " 1270604.3859641 ]\n",
      "\t I0 1.6278525956546803 [1.20342119 1.2492772  1.61828843 2.06234965 2.16235826]\n",
      "\t beta 0.28892015410254773 [0.25116615 0.25470765 0.28115125 0.33835095 0.34132621]\n",
      "\t gamma 0.044061678340609554 [0.00967109 0.01261492 0.0378248  0.08962011 0.09315336]\n",
      "\t N 321265.86948275677 [126856.49885642 141637.1411587  242334.84248609 693779.7193972\n",
      " 888899.40814601]\n",
      "\t I0 1.5671475298858122 [1.12190153 1.1457037  1.51683028 2.13604746 2.24996699]\n",
      "\t beta 0.2824758587356495 [0.25158843 0.25627057 0.28105031 0.31521115 0.31832445]\n",
      "\t gamma 0.036015332904564275 [0.0100393  0.0125453  0.03481538 0.06327144 0.06883595]\n",
      "\t N 206625.2848277589 [ 93780.58035184  98725.24739765 159045.16317294 456278.99545527\n",
      " 536402.69451032]\n",
      "\t I0 1.5763515377324666 [0.98716535 1.05995617 1.5436595  2.24976414 2.4159736 ]\n",
      "\t beta 0.29804019103512325 [0.25983212 0.26416012 0.30033396 0.33303877 0.33387744]\n",
      "\t gamma 0.04662288072462841 [0.0119561  0.01521694 0.0485457  0.07283154 0.07421286]\n",
      "\t N 124383.11809203016 [ 82118.23707325  85311.08392113 112849.6086585  200887.80525496\n",
      " 229550.17737646]\n",
      "\t I0 1.3606251335741404 [0.90163337 0.9117229  1.32902486 1.96620678 2.09594055]\n",
      "\t beta 0.29454949680996384 [0.26411297 0.26804442 0.29284137 0.32600193 0.33157536]\n",
      "\t gamma 0.03620884199289987 [0.01030775 0.01257945 0.03386492 0.06754054 0.07629139]\n",
      "\t N 88275.81770535102 [ 71788.23979536  73434.17811865  85300.29995211 113338.08866083\n",
      " 120262.84507724]\n",
      "\t I0 1.190677567695884 [0.82448325 0.85347742 1.1561827  1.6885753  1.82843822]\n",
      "\t beta 0.3060097821749025 [0.27002804 0.27450985 0.30754469 0.33332626 0.33517052]\n",
      "\t gamma 0.04464696783237747 [0.01160972 0.01452013 0.0450513  0.07232704 0.07382813]\n",
      "\t N 81204.43484869535 [69361.36090762 71119.31403974 82100.86807402 91188.9283975\n",
      " 92963.86695746]\n",
      "\t I0 1.0686526301998651 [0.7787289  0.7942799  1.04563951 1.41280959 1.52867435]\n",
      "\t beta 0.30451590820026214 [0.27442665 0.27777013 0.30656663 0.32730203 0.32903571]\n",
      "\t gamma 0.04010193223603348 [0.01162448 0.01450352 0.04112889 0.06517941 0.06728601]\n",
      "\t N 75138.46176839038 [67350.3038492  68345.38988475 74853.87726486 82893.57276025\n",
      " 84426.19856388]\n",
      "\t I0 1.0094805321842448 [0.66718397 0.72693457 0.99487145 1.31454    1.39515865]\n",
      "\t beta 0.3070623280976841 [0.27289922 0.2771496  0.30727055 0.33404169 0.33712408]\n",
      "\t gamma 0.040988705617802025 [0.0105739  0.01317813 0.04073141 0.06606567 0.06804051]\n",
      "\t N 73572.24392162032 [67929.11303722 68680.46937748 73746.16687355 78287.05753251\n",
      " 79450.71897363]\n",
      "\t I0 0.9668854835015019 [0.65913738 0.67503949 0.97085019 1.27418005 1.35989231]\n",
      "\t beta 0.3061124509398523 [0.27508561 0.27872199 0.30443422 0.33853298 0.34125522]\n",
      "\t gamma 0.039932803787165946 [0.01190707 0.01406301 0.03837074 0.06757223 0.06908532]\n",
      "\t N 73660.91886398783 [68643.81392883 69281.49285045 73772.81765257 77756.92717336\n",
      " 78590.7293879 ]\n",
      "\t I0 0.9624693886881048 [0.67717141 0.70317551 0.96314874 1.25267962 1.33503401]\n",
      "\t beta 0.29800106683235933 [0.27118007 0.27482781 0.29710618 0.32117425 0.32479123]\n",
      "\t gamma 0.03199868170423354 [0.00928428 0.0116339  0.03128943 0.05130511 0.05391222]\n",
      "\t N 73205.96474341502 [69148.24103621 69592.90863294 73320.11933646 76401.64249668\n",
      " 77468.08427672]\n",
      "\t I0 0.9891352126894597 [0.69777549 0.73418367 0.97214507 1.30156635 1.39436773]\n",
      "\t beta 0.3022428198388617 [0.27320184 0.27654836 0.30148813 0.32990755 0.33153326]\n",
      "\t gamma 0.03882793717230088 [0.01139468 0.01381079 0.03803974 0.06944237 0.07014508]\n",
      "\t N 74673.20183675818 [70739.77627284 71357.42562891 74421.50830861 77854.28638159\n",
      " 78703.8073955 ]\n",
      "\t I0 1.048849290473141 [0.75481221 0.78174375 1.05790185 1.30524245 1.39994434]\n",
      "\t beta 0.29954720310007715 [0.27024835 0.27336289 0.3005656  0.32169757 0.32389061]\n",
      "\t gamma 0.03862572090083874 [0.01047108 0.01318953 0.03660039 0.06476796 0.06616457]\n",
      "\t N 76633.5504598906 [72020.0417159  72670.07065176 76213.61272379 81919.09778024\n",
      " 82207.66745991]\n",
      "\t I0 1.1150344172446223 [0.77771524 0.83730566 1.12120648 1.37358692 1.46289308]\n",
      "\t beta 0.3061148174524775 [0.27182442 0.2754161  0.30501403 0.34592588 0.34901112]\n",
      "\t gamma 0.04473863133329674 [0.01307783 0.01581186 0.04441681 0.07702344 0.08270154]\n",
      "\t N 77521.69369453186 [73428.37128349 74028.20257928 77913.7353293  80206.56331411\n",
      " 80514.23222549]\n",
      "\t I0 1.0763335367083924 [0.76053453 0.79237946 1.06143242 1.38869869 1.48798873]\n",
      "\t beta 0.3030687619869878 [0.26945124 0.27291436 0.3024978  0.33561583 0.33901645]\n",
      "\t gamma 0.04371448832778338 [0.01254041 0.01601518 0.04310496 0.0758356  0.08317048]\n",
      "\t N 78594.66128566972 [74467.79911681 75198.12485686 78384.22035243 82484.14587579\n",
      " 83067.86602134]\n",
      "\t I0 1.145398803983668 [0.82706217 0.87208982 1.1153446  1.52516699 1.61687786]\n",
      "\t beta 0.3072663095852464 [0.27020155 0.27447915 0.30585368 0.34442293 0.34998878]\n",
      "\t gamma 0.04996261442514831 [0.01518432 0.01882415 0.0494013  0.09055515 0.0949988 ]\n",
      "\t N 80525.09248394571 [76078.88191294 76837.41144357 80598.10472561 84183.50414539\n",
      " 84499.39596833]\n",
      "\t I0 1.1897696082857894 [0.78750387 0.86185758 1.19065145 1.534541   1.61073354]\n",
      "\t beta 0.30835084932058837 [0.26907158 0.27309329 0.3038569  0.35599169 0.39128304]\n",
      "\t gamma 0.052990314490426814 [0.0168481  0.02060216 0.04846384 0.10426085 0.12125115]\n",
      "\t N 82133.0598472021 [77532.93576802 78197.52782125 81934.44361447 86728.43640655\n",
      " 87935.0972944 ]\n",
      "\t I0 1.2556358519544053 [0.65516688 0.83409929 1.24308289 1.71987069 1.84974882]\n"
     ]
    }
   ],
   "source": [
    "with open(\"estimates/sir_symptomatic_%d\"%time.time(),\"wb+\") as f:\n",
    "    pickle.dump(sir_est,f)\n",
    "\n",
    "for k,v in sir_est.items():\n",
    "#    print(k,v[\"ssd\"])\n",
    "    for p in ['beta','gamma','N','I0']:\n",
    "        print(\"\\t\",p,np.mean(v[p]),np.percentile(v[p],q=(2.5,5,50,95,97.5)))"
   ]
  },
  {
   "cell_type": "code",
   "execution_count": 9,
   "metadata": {},
   "outputs": [],
   "source": [
    "def FitGompertz(data,l=90,initial={}):\n",
    "    with pm.Model() as model:\n",
    "        a = pm.Lognormal(name=\"a\",\n",
    "                    mu=tt.log(tt.cast(1e5,dtype='float64')),\n",
    "                    sigma=tt.cast(.6,dtype='float64'))\n",
    "        b = pm.Lognormal(name=\"b\",\n",
    "                    mu=tt.log(tt.cast(11,dtype='float64')),\n",
    "                    sigma=tt.cast(.8,dtype='float64'))\n",
    "        c = pm.Lognormal(name=\"c\",\n",
    "                    mu=tt.log(tt.cast(.07,dtype='float64')),\n",
    "                    sigma=tt.cast(.8,dtype='float64'))\n",
    "    \n",
    "        est = Gompertz(a,b,c,l)\n",
    "        est_deaths = pm.Deterministic(\"deaths\",est)\n",
    "    \n",
    "        sigma_obs = pm.HalfCauchy( name=\"sigma\", beta=40 )\n",
    "        pm.StudentT(\n",
    "                    name=\"like_studentT\",\n",
    "                    nu=4,\n",
    "                    mu=est_deaths,\n",
    "                    sigma=tt.abs_(est_deaths + 1) ** 0.5 * sigma_obs,\n",
    "                    observed=data[:l]\n",
    "        )\n",
    "        init = \"advi+adapt_diag\" if len(initial) == 0 else None\n",
    "        trace = pm.sample( model=model,init=init,start=initial,draws=1200,tune=2000,cores=4,chains=4)\n",
    "        return trace"
   ]
  },
  {
   "cell_type": "code",
   "execution_count": null,
   "metadata": {},
   "outputs": [],
   "source": [
    "l=len(ts)\n",
    "trace = FitGompertz(data,l)"
   ]
  },
  {
   "cell_type": "code",
   "execution_count": null,
   "metadata": {},
   "outputs": [],
   "source": [
    "#l=80\n",
    "#gtrace = trace\n",
    "plt.plot(ts[:l],data[:l],\"+\")\n",
    "#plt.plot(ts[:l],np.mean(trace.dI,axis=0))\n",
    "plt.plot(ts[:l],np.mean(gtrace.deaths,axis=0))\n",
    "\n",
    "print(np.median(gtrace.a),np.percentile(trace.a,q=(2.5,97.5)))\n",
    "print(np.median(gtrace.b),np.percentile(trace.b,q=(2.5,97.5)))\n",
    "print(np.median(gtrace.c),np.percentile(trace.c,q=(2.5,97.5)))\n",
    "\n",
    "print( np.sum(np.power(data[:l]-np.mean(gtrace.deaths[:l],axis=0),2 ) ) )\n"
   ]
  },
  {
   "cell_type": "code",
   "execution_count": 10,
   "metadata": {
    "scrolled": false
   },
   "outputs": [
    {
     "name": "stdout",
     "output_type": "stream",
     "text": [
      "30 {}\n"
     ]
    },
    {
     "name": "stderr",
     "output_type": "stream",
     "text": [
      "Auto-assigning NUTS sampler...\n",
      "Initializing NUTS using advi+adapt_diag...\n"
     ]
    },
    {
     "data": {
      "text/html": [
       "\n",
       "    <div>\n",
       "        <style>\n",
       "            /* Turns off some styling */\n",
       "            progress {\n",
       "                /* gets rid of default border in Firefox and Opera. */\n",
       "                border: none;\n",
       "                /* Needs to be in here for Safari polyfill so background images work as expected. */\n",
       "                background-size: auto;\n",
       "            }\n",
       "            .progress-bar-interrupted, .progress-bar-interrupted::-webkit-progress-bar {\n",
       "                background: #F44336;\n",
       "            }\n",
       "        </style>\n",
       "      <progress value='9732' class='' max='200000' style='width:300px; height:20px; vertical-align: middle;'></progress>\n",
       "      4.87% [9732/200000 00:00<00:18 Average Loss = 203.59]\n",
       "    </div>\n",
       "    "
      ],
      "text/plain": [
       "<IPython.core.display.HTML object>"
      ]
     },
     "metadata": {},
     "output_type": "display_data"
    },
    {
     "name": "stderr",
     "output_type": "stream",
     "text": [
      "Convergence achieved at 11000\n",
      "Interrupted at 10,999 [5%]: Average Loss = 222.93\n",
      "Multiprocess sampling (4 chains in 4 jobs)\n",
      "NUTS: [sigma, c, b, a]\n"
     ]
    },
    {
     "data": {
      "text/html": [
       "\n",
       "    <div>\n",
       "        <style>\n",
       "            /* Turns off some styling */\n",
       "            progress {\n",
       "                /* gets rid of default border in Firefox and Opera. */\n",
       "                border: none;\n",
       "                /* Needs to be in here for Safari polyfill so background images work as expected. */\n",
       "                background-size: auto;\n",
       "            }\n",
       "            .progress-bar-interrupted, .progress-bar-interrupted::-webkit-progress-bar {\n",
       "                background: #F44336;\n",
       "            }\n",
       "        </style>\n",
       "      <progress value='12800' class='' max='12800' style='width:300px; height:20px; vertical-align: middle;'></progress>\n",
       "      100.00% [12800/12800 00:12<00:00 Sampling 4 chains, 0 divergences]\n",
       "    </div>\n",
       "    "
      ],
      "text/plain": [
       "<IPython.core.display.HTML object>"
      ]
     },
     "metadata": {},
     "output_type": "display_data"
    },
    {
     "name": "stderr",
     "output_type": "stream",
     "text": [
      "Sampling 4 chains for 2_000 tune and 1_200 draw iterations (8_000 + 4_800 draws total) took 20 seconds.\n",
      "The number of effective samples is smaller than 25% for some parameters.\n"
     ]
    },
    {
     "name": "stdout",
     "output_type": "stream",
     "text": [
      "31 {'a': 159998.165886908, 'b': 10.9410281230157, 'c': 0.027141995447891056}\n"
     ]
    },
    {
     "name": "stderr",
     "output_type": "stream",
     "text": [
      "Multiprocess sampling (4 chains in 4 jobs)\n",
      "NUTS: [sigma, c, b, a]\n"
     ]
    },
    {
     "data": {
      "text/html": [
       "\n",
       "    <div>\n",
       "        <style>\n",
       "            /* Turns off some styling */\n",
       "            progress {\n",
       "                /* gets rid of default border in Firefox and Opera. */\n",
       "                border: none;\n",
       "                /* Needs to be in here for Safari polyfill so background images work as expected. */\n",
       "                background-size: auto;\n",
       "            }\n",
       "            .progress-bar-interrupted, .progress-bar-interrupted::-webkit-progress-bar {\n",
       "                background: #F44336;\n",
       "            }\n",
       "        </style>\n",
       "      <progress value='12800' class='' max='12800' style='width:300px; height:20px; vertical-align: middle;'></progress>\n",
       "      100.00% [12800/12800 00:13<00:00 Sampling 4 chains, 0 divergences]\n",
       "    </div>\n",
       "    "
      ],
      "text/plain": [
       "<IPython.core.display.HTML object>"
      ]
     },
     "metadata": {},
     "output_type": "display_data"
    },
    {
     "name": "stderr",
     "output_type": "stream",
     "text": [
      "Sampling 4 chains for 2_000 tune and 1_200 draw iterations (8_000 + 4_800 draws total) took 21 seconds.\n"
     ]
    },
    {
     "name": "stdout",
     "output_type": "stream",
     "text": [
      "32 {'a': 170365.388847181, 'b': 11.321909954958288, 'c': 0.028584555299850458}\n"
     ]
    },
    {
     "name": "stderr",
     "output_type": "stream",
     "text": [
      "Multiprocess sampling (4 chains in 4 jobs)\n",
      "NUTS: [sigma, c, b, a]\n"
     ]
    },
    {
     "data": {
      "text/html": [
       "\n",
       "    <div>\n",
       "        <style>\n",
       "            /* Turns off some styling */\n",
       "            progress {\n",
       "                /* gets rid of default border in Firefox and Opera. */\n",
       "                border: none;\n",
       "                /* Needs to be in here for Safari polyfill so background images work as expected. */\n",
       "                background-size: auto;\n",
       "            }\n",
       "            .progress-bar-interrupted, .progress-bar-interrupted::-webkit-progress-bar {\n",
       "                background: #F44336;\n",
       "            }\n",
       "        </style>\n",
       "      <progress value='12800' class='' max='12800' style='width:300px; height:20px; vertical-align: middle;'></progress>\n",
       "      100.00% [12800/12800 00:13<00:00 Sampling 4 chains, 0 divergences]\n",
       "    </div>\n",
       "    "
      ],
      "text/plain": [
       "<IPython.core.display.HTML object>"
      ]
     },
     "metadata": {},
     "output_type": "display_data"
    },
    {
     "name": "stderr",
     "output_type": "stream",
     "text": [
      "Sampling 4 chains for 2_000 tune and 1_200 draw iterations (8_000 + 4_800 draws total) took 22 seconds.\n",
      "The number of effective samples is smaller than 25% for some parameters.\n"
     ]
    },
    {
     "name": "stdout",
     "output_type": "stream",
     "text": [
      "33 {'a': 182706.65495712537, 'b': 11.683079517421131, 'c': 0.029735665565587325}\n"
     ]
    },
    {
     "name": "stderr",
     "output_type": "stream",
     "text": [
      "Multiprocess sampling (4 chains in 4 jobs)\n",
      "NUTS: [sigma, c, b, a]\n"
     ]
    },
    {
     "data": {
      "text/html": [
       "\n",
       "    <div>\n",
       "        <style>\n",
       "            /* Turns off some styling */\n",
       "            progress {\n",
       "                /* gets rid of default border in Firefox and Opera. */\n",
       "                border: none;\n",
       "                /* Needs to be in here for Safari polyfill so background images work as expected. */\n",
       "                background-size: auto;\n",
       "            }\n",
       "            .progress-bar-interrupted, .progress-bar-interrupted::-webkit-progress-bar {\n",
       "                background: #F44336;\n",
       "            }\n",
       "        </style>\n",
       "      <progress value='12800' class='' max='12800' style='width:300px; height:20px; vertical-align: middle;'></progress>\n",
       "      100.00% [12800/12800 00:14<00:00 Sampling 4 chains, 0 divergences]\n",
       "    </div>\n",
       "    "
      ],
      "text/plain": [
       "<IPython.core.display.HTML object>"
      ]
     },
     "metadata": {},
     "output_type": "display_data"
    },
    {
     "name": "stderr",
     "output_type": "stream",
     "text": [
      "Sampling 4 chains for 2_000 tune and 1_200 draw iterations (8_000 + 4_800 draws total) took 23 seconds.\n",
      "The acceptance probability does not match the target. It is 0.8790519265301089, but should be close to 0.8. Try to increase the number of tuning steps.\n",
      "The number of effective samples is smaller than 25% for some parameters.\n"
     ]
    },
    {
     "name": "stdout",
     "output_type": "stream",
     "text": [
      "34 {'a': 199067.076188201, 'b': 12.013684499633548, 'c': 0.03043638752914769}\n"
     ]
    },
    {
     "name": "stderr",
     "output_type": "stream",
     "text": [
      "Multiprocess sampling (4 chains in 4 jobs)\n",
      "NUTS: [sigma, c, b, a]\n"
     ]
    },
    {
     "data": {
      "text/html": [
       "\n",
       "    <div>\n",
       "        <style>\n",
       "            /* Turns off some styling */\n",
       "            progress {\n",
       "                /* gets rid of default border in Firefox and Opera. */\n",
       "                border: none;\n",
       "                /* Needs to be in here for Safari polyfill so background images work as expected. */\n",
       "                background-size: auto;\n",
       "            }\n",
       "            .progress-bar-interrupted, .progress-bar-interrupted::-webkit-progress-bar {\n",
       "                background: #F44336;\n",
       "            }\n",
       "        </style>\n",
       "      <progress value='12800' class='' max='12800' style='width:300px; height:20px; vertical-align: middle;'></progress>\n",
       "      100.00% [12800/12800 00:15<00:00 Sampling 4 chains, 0 divergences]\n",
       "    </div>\n",
       "    "
      ],
      "text/plain": [
       "<IPython.core.display.HTML object>"
      ]
     },
     "metadata": {},
     "output_type": "display_data"
    },
    {
     "name": "stderr",
     "output_type": "stream",
     "text": [
      "Sampling 4 chains for 2_000 tune and 1_200 draw iterations (8_000 + 4_800 draws total) took 23 seconds.\n",
      "The acceptance probability does not match the target. It is 0.8997231520788648, but should be close to 0.8. Try to increase the number of tuning steps.\n",
      "The number of effective samples is smaller than 25% for some parameters.\n"
     ]
    },
    {
     "name": "stdout",
     "output_type": "stream",
     "text": [
      "35 {'a': 213150.6909777702, 'b': 12.289492446043493, 'c': 0.03108005074803449}\n"
     ]
    },
    {
     "name": "stderr",
     "output_type": "stream",
     "text": [
      "Multiprocess sampling (4 chains in 4 jobs)\n",
      "NUTS: [sigma, c, b, a]\n"
     ]
    },
    {
     "data": {
      "text/html": [
       "\n",
       "    <div>\n",
       "        <style>\n",
       "            /* Turns off some styling */\n",
       "            progress {\n",
       "                /* gets rid of default border in Firefox and Opera. */\n",
       "                border: none;\n",
       "                /* Needs to be in here for Safari polyfill so background images work as expected. */\n",
       "                background-size: auto;\n",
       "            }\n",
       "            .progress-bar-interrupted, .progress-bar-interrupted::-webkit-progress-bar {\n",
       "                background: #F44336;\n",
       "            }\n",
       "        </style>\n",
       "      <progress value='12800' class='' max='12800' style='width:300px; height:20px; vertical-align: middle;'></progress>\n",
       "      100.00% [12800/12800 00:14<00:00 Sampling 4 chains, 0 divergences]\n",
       "    </div>\n",
       "    "
      ],
      "text/plain": [
       "<IPython.core.display.HTML object>"
      ]
     },
     "metadata": {},
     "output_type": "display_data"
    },
    {
     "name": "stderr",
     "output_type": "stream",
     "text": [
      "Sampling 4 chains for 2_000 tune and 1_200 draw iterations (8_000 + 4_800 draws total) took 23 seconds.\n",
      "The number of effective samples is smaller than 10% for some parameters.\n"
     ]
    },
    {
     "name": "stdout",
     "output_type": "stream",
     "text": [
      "36 {'a': 222038.28837149352, 'b': 12.61494295919637, 'c': 0.03188659364688687}\n"
     ]
    },
    {
     "name": "stderr",
     "output_type": "stream",
     "text": [
      "Multiprocess sampling (4 chains in 4 jobs)\n",
      "NUTS: [sigma, c, b, a]\n"
     ]
    },
    {
     "data": {
      "text/html": [
       "\n",
       "    <div>\n",
       "        <style>\n",
       "            /* Turns off some styling */\n",
       "            progress {\n",
       "                /* gets rid of default border in Firefox and Opera. */\n",
       "                border: none;\n",
       "                /* Needs to be in here for Safari polyfill so background images work as expected. */\n",
       "                background-size: auto;\n",
       "            }\n",
       "            .progress-bar-interrupted, .progress-bar-interrupted::-webkit-progress-bar {\n",
       "                background: #F44336;\n",
       "            }\n",
       "        </style>\n",
       "      <progress value='12800' class='' max='12800' style='width:300px; height:20px; vertical-align: middle;'></progress>\n",
       "      100.00% [12800/12800 00:15<00:00 Sampling 4 chains, 0 divergences]\n",
       "    </div>\n",
       "    "
      ],
      "text/plain": [
       "<IPython.core.display.HTML object>"
      ]
     },
     "metadata": {},
     "output_type": "display_data"
    },
    {
     "name": "stderr",
     "output_type": "stream",
     "text": [
      "Sampling 4 chains for 2_000 tune and 1_200 draw iterations (8_000 + 4_800 draws total) took 24 seconds.\n",
      "The number of effective samples is smaller than 25% for some parameters.\n"
     ]
    },
    {
     "name": "stdout",
     "output_type": "stream",
     "text": [
      "37 {'a': 263210.1674651953, 'b': 13.073203627618115, 'c': 0.03237570604660474}\n"
     ]
    },
    {
     "name": "stderr",
     "output_type": "stream",
     "text": [
      "Multiprocess sampling (4 chains in 4 jobs)\n",
      "NUTS: [sigma, c, b, a]\n"
     ]
    },
    {
     "data": {
      "text/html": [
       "\n",
       "    <div>\n",
       "        <style>\n",
       "            /* Turns off some styling */\n",
       "            progress {\n",
       "                /* gets rid of default border in Firefox and Opera. */\n",
       "                border: none;\n",
       "                /* Needs to be in here for Safari polyfill so background images work as expected. */\n",
       "                background-size: auto;\n",
       "            }\n",
       "            .progress-bar-interrupted, .progress-bar-interrupted::-webkit-progress-bar {\n",
       "                background: #F44336;\n",
       "            }\n",
       "        </style>\n",
       "      <progress value='12800' class='' max='12800' style='width:300px; height:20px; vertical-align: middle;'></progress>\n",
       "      100.00% [12800/12800 00:15<00:00 Sampling 4 chains, 0 divergences]\n",
       "    </div>\n",
       "    "
      ],
      "text/plain": [
       "<IPython.core.display.HTML object>"
      ]
     },
     "metadata": {},
     "output_type": "display_data"
    },
    {
     "name": "stderr",
     "output_type": "stream",
     "text": [
      "Sampling 4 chains for 2_000 tune and 1_200 draw iterations (8_000 + 4_800 draws total) took 24 seconds.\n",
      "The number of effective samples is smaller than 25% for some parameters.\n"
     ]
    },
    {
     "name": "stdout",
     "output_type": "stream",
     "text": [
      "38 {'a': 275333.0416766, 'b': 13.644377150646077, 'c': 0.033549814579511075}\n"
     ]
    },
    {
     "name": "stderr",
     "output_type": "stream",
     "text": [
      "Multiprocess sampling (4 chains in 4 jobs)\n",
      "NUTS: [sigma, c, b, a]\n"
     ]
    },
    {
     "data": {
      "text/html": [
       "\n",
       "    <div>\n",
       "        <style>\n",
       "            /* Turns off some styling */\n",
       "            progress {\n",
       "                /* gets rid of default border in Firefox and Opera. */\n",
       "                border: none;\n",
       "                /* Needs to be in here for Safari polyfill so background images work as expected. */\n",
       "                background-size: auto;\n",
       "            }\n",
       "            .progress-bar-interrupted, .progress-bar-interrupted::-webkit-progress-bar {\n",
       "                background: #F44336;\n",
       "            }\n",
       "        </style>\n",
       "      <progress value='12800' class='' max='12800' style='width:300px; height:20px; vertical-align: middle;'></progress>\n",
       "      100.00% [12800/12800 00:15<00:00 Sampling 4 chains, 0 divergences]\n",
       "    </div>\n",
       "    "
      ],
      "text/plain": [
       "<IPython.core.display.HTML object>"
      ]
     },
     "metadata": {},
     "output_type": "display_data"
    },
    {
     "name": "stderr",
     "output_type": "stream",
     "text": [
      "Sampling 4 chains for 2_000 tune and 1_200 draw iterations (8_000 + 4_800 draws total) took 24 seconds.\n",
      "The number of effective samples is smaller than 25% for some parameters.\n"
     ]
    },
    {
     "name": "stdout",
     "output_type": "stream",
     "text": [
      "39 {'a': 281815.02124588995, 'b': 14.304853602386187, 'c': 0.03519832940647398}\n"
     ]
    },
    {
     "name": "stderr",
     "output_type": "stream",
     "text": [
      "Multiprocess sampling (4 chains in 4 jobs)\n",
      "NUTS: [sigma, c, b, a]\n"
     ]
    },
    {
     "data": {
      "text/html": [
       "\n",
       "    <div>\n",
       "        <style>\n",
       "            /* Turns off some styling */\n",
       "            progress {\n",
       "                /* gets rid of default border in Firefox and Opera. */\n",
       "                border: none;\n",
       "                /* Needs to be in here for Safari polyfill so background images work as expected. */\n",
       "                background-size: auto;\n",
       "            }\n",
       "            .progress-bar-interrupted, .progress-bar-interrupted::-webkit-progress-bar {\n",
       "                background: #F44336;\n",
       "            }\n",
       "        </style>\n",
       "      <progress value='12800' class='' max='12800' style='width:300px; height:20px; vertical-align: middle;'></progress>\n",
       "      100.00% [12800/12800 00:16<00:00 Sampling 4 chains, 0 divergences]\n",
       "    </div>\n",
       "    "
      ],
      "text/plain": [
       "<IPython.core.display.HTML object>"
      ]
     },
     "metadata": {},
     "output_type": "display_data"
    },
    {
     "name": "stderr",
     "output_type": "stream",
     "text": [
      "Sampling 4 chains for 2_000 tune and 1_200 draw iterations (8_000 + 4_800 draws total) took 24 seconds.\n",
      "The number of effective samples is smaller than 25% for some parameters.\n"
     ]
    },
    {
     "name": "stdout",
     "output_type": "stream",
     "text": [
      "40 {'a': 277727.053341884, 'b': 15.564435796875847, 'c': 0.03833815341524633}\n"
     ]
    },
    {
     "name": "stderr",
     "output_type": "stream",
     "text": [
      "Multiprocess sampling (4 chains in 4 jobs)\n",
      "NUTS: [sigma, c, b, a]\n"
     ]
    },
    {
     "data": {
      "text/html": [
       "\n",
       "    <div>\n",
       "        <style>\n",
       "            /* Turns off some styling */\n",
       "            progress {\n",
       "                /* gets rid of default border in Firefox and Opera. */\n",
       "                border: none;\n",
       "                /* Needs to be in here for Safari polyfill so background images work as expected. */\n",
       "                background-size: auto;\n",
       "            }\n",
       "            .progress-bar-interrupted, .progress-bar-interrupted::-webkit-progress-bar {\n",
       "                background: #F44336;\n",
       "            }\n",
       "        </style>\n",
       "      <progress value='12800' class='' max='12800' style='width:300px; height:20px; vertical-align: middle;'></progress>\n",
       "      100.00% [12800/12800 00:16<00:00 Sampling 4 chains, 0 divergences]\n",
       "    </div>\n",
       "    "
      ],
      "text/plain": [
       "<IPython.core.display.HTML object>"
      ]
     },
     "metadata": {},
     "output_type": "display_data"
    },
    {
     "name": "stderr",
     "output_type": "stream",
     "text": [
      "Sampling 4 chains for 2_000 tune and 1_200 draw iterations (8_000 + 4_800 draws total) took 24 seconds.\n",
      "The number of effective samples is smaller than 25% for some parameters.\n"
     ]
    },
    {
     "name": "stdout",
     "output_type": "stream",
     "text": [
      "41 {'a': 264328.3773931685, 'b': 17.235290501324386, 'c': 0.041984053176307275}\n"
     ]
    },
    {
     "name": "stderr",
     "output_type": "stream",
     "text": [
      "Multiprocess sampling (4 chains in 4 jobs)\n",
      "NUTS: [sigma, c, b, a]\n"
     ]
    },
    {
     "data": {
      "text/html": [
       "\n",
       "    <div>\n",
       "        <style>\n",
       "            /* Turns off some styling */\n",
       "            progress {\n",
       "                /* gets rid of default border in Firefox and Opera. */\n",
       "                border: none;\n",
       "                /* Needs to be in here for Safari polyfill so background images work as expected. */\n",
       "                background-size: auto;\n",
       "            }\n",
       "            .progress-bar-interrupted, .progress-bar-interrupted::-webkit-progress-bar {\n",
       "                background: #F44336;\n",
       "            }\n",
       "        </style>\n",
       "      <progress value='12800' class='' max='12800' style='width:300px; height:20px; vertical-align: middle;'></progress>\n",
       "      100.00% [12800/12800 00:15<00:00 Sampling 4 chains, 0 divergences]\n",
       "    </div>\n",
       "    "
      ],
      "text/plain": [
       "<IPython.core.display.HTML object>"
      ]
     },
     "metadata": {},
     "output_type": "display_data"
    },
    {
     "name": "stderr",
     "output_type": "stream",
     "text": [
      "Sampling 4 chains for 2_000 tune and 1_200 draw iterations (8_000 + 4_800 draws total) took 23 seconds.\n",
      "The acceptance probability does not match the target. It is 0.6620525998684663, but should be close to 0.8. Try to increase the number of tuning steps.\n",
      "The acceptance probability does not match the target. It is 0.7190816089081206, but should be close to 0.8. Try to increase the number of tuning steps.\n",
      "The estimated number of effective samples is smaller than 200 for some parameters.\n"
     ]
    },
    {
     "name": "stdout",
     "output_type": "stream",
     "text": [
      "42 {'a': 259664.2642247803, 'b': 19.414042535763002, 'c': 0.0459540913645408}\n"
     ]
    },
    {
     "name": "stderr",
     "output_type": "stream",
     "text": [
      "Multiprocess sampling (4 chains in 4 jobs)\n",
      "NUTS: [sigma, c, b, a]\n"
     ]
    },
    {
     "data": {
      "text/html": [
       "\n",
       "    <div>\n",
       "        <style>\n",
       "            /* Turns off some styling */\n",
       "            progress {\n",
       "                /* gets rid of default border in Firefox and Opera. */\n",
       "                border: none;\n",
       "                /* Needs to be in here for Safari polyfill so background images work as expected. */\n",
       "                background-size: auto;\n",
       "            }\n",
       "            .progress-bar-interrupted, .progress-bar-interrupted::-webkit-progress-bar {\n",
       "                background: #F44336;\n",
       "            }\n",
       "        </style>\n",
       "      <progress value='12800' class='' max='12800' style='width:300px; height:20px; vertical-align: middle;'></progress>\n",
       "      100.00% [12800/12800 00:14<00:00 Sampling 4 chains, 0 divergences]\n",
       "    </div>\n",
       "    "
      ],
      "text/plain": [
       "<IPython.core.display.HTML object>"
      ]
     },
     "metadata": {},
     "output_type": "display_data"
    },
    {
     "name": "stderr",
     "output_type": "stream",
     "text": [
      "Sampling 4 chains for 2_000 tune and 1_200 draw iterations (8_000 + 4_800 draws total) took 22 seconds.\n",
      "The acceptance probability does not match the target. It is 0.5932204821711192, but should be close to 0.8. Try to increase the number of tuning steps.\n",
      "The number of effective samples is smaller than 10% for some parameters.\n"
     ]
    },
    {
     "name": "stdout",
     "output_type": "stream",
     "text": [
      "43 {'a': 300476.9838461922, 'b': 21.088044354768716, 'c': 0.047722289242091744}\n"
     ]
    },
    {
     "name": "stderr",
     "output_type": "stream",
     "text": [
      "Multiprocess sampling (4 chains in 4 jobs)\n",
      "NUTS: [sigma, c, b, a]\n"
     ]
    },
    {
     "data": {
      "text/html": [
       "\n",
       "    <div>\n",
       "        <style>\n",
       "            /* Turns off some styling */\n",
       "            progress {\n",
       "                /* gets rid of default border in Firefox and Opera. */\n",
       "                border: none;\n",
       "                /* Needs to be in here for Safari polyfill so background images work as expected. */\n",
       "                background-size: auto;\n",
       "            }\n",
       "            .progress-bar-interrupted, .progress-bar-interrupted::-webkit-progress-bar {\n",
       "                background: #F44336;\n",
       "            }\n",
       "        </style>\n",
       "      <progress value='12800' class='' max='12800' style='width:300px; height:20px; vertical-align: middle;'></progress>\n",
       "      100.00% [12800/12800 00:15<00:00 Sampling 4 chains, 0 divergences]\n",
       "    </div>\n",
       "    "
      ],
      "text/plain": [
       "<IPython.core.display.HTML object>"
      ]
     },
     "metadata": {},
     "output_type": "display_data"
    },
    {
     "name": "stderr",
     "output_type": "stream",
     "text": [
      "Sampling 4 chains for 2_000 tune and 1_200 draw iterations (8_000 + 4_800 draws total) took 23 seconds.\n",
      "The number of effective samples is smaller than 25% for some parameters.\n"
     ]
    },
    {
     "name": "stdout",
     "output_type": "stream",
     "text": [
      "44 {'a': 336935.18502305006, 'b': 22.74860360847919, 'c': 0.049393960134411434}\n"
     ]
    },
    {
     "name": "stderr",
     "output_type": "stream",
     "text": [
      "Multiprocess sampling (4 chains in 4 jobs)\n",
      "NUTS: [sigma, c, b, a]\n"
     ]
    },
    {
     "data": {
      "text/html": [
       "\n",
       "    <div>\n",
       "        <style>\n",
       "            /* Turns off some styling */\n",
       "            progress {\n",
       "                /* gets rid of default border in Firefox and Opera. */\n",
       "                border: none;\n",
       "                /* Needs to be in here for Safari polyfill so background images work as expected. */\n",
       "                background-size: auto;\n",
       "            }\n",
       "            .progress-bar-interrupted, .progress-bar-interrupted::-webkit-progress-bar {\n",
       "                background: #F44336;\n",
       "            }\n",
       "        </style>\n",
       "      <progress value='12800' class='' max='12800' style='width:300px; height:20px; vertical-align: middle;'></progress>\n",
       "      100.00% [12800/12800 00:15<00:00 Sampling 4 chains, 0 divergences]\n",
       "    </div>\n",
       "    "
      ],
      "text/plain": [
       "<IPython.core.display.HTML object>"
      ]
     },
     "metadata": {},
     "output_type": "display_data"
    },
    {
     "name": "stderr",
     "output_type": "stream",
     "text": [
      "Sampling 4 chains for 2_000 tune and 1_200 draw iterations (8_000 + 4_800 draws total) took 24 seconds.\n",
      "The acceptance probability does not match the target. It is 0.7051027030754642, but should be close to 0.8. Try to increase the number of tuning steps.\n",
      "The number of effective samples is smaller than 10% for some parameters.\n"
     ]
    },
    {
     "name": "stdout",
     "output_type": "stream",
     "text": [
      "45 {'a': 388642.948499518, 'b': 24.08791208814868, 'c': 0.05031941889952387}\n"
     ]
    },
    {
     "name": "stderr",
     "output_type": "stream",
     "text": [
      "Multiprocess sampling (4 chains in 4 jobs)\n",
      "NUTS: [sigma, c, b, a]\n"
     ]
    },
    {
     "data": {
      "text/html": [
       "\n",
       "    <div>\n",
       "        <style>\n",
       "            /* Turns off some styling */\n",
       "            progress {\n",
       "                /* gets rid of default border in Firefox and Opera. */\n",
       "                border: none;\n",
       "                /* Needs to be in here for Safari polyfill so background images work as expected. */\n",
       "                background-size: auto;\n",
       "            }\n",
       "            .progress-bar-interrupted, .progress-bar-interrupted::-webkit-progress-bar {\n",
       "                background: #F44336;\n",
       "            }\n",
       "        </style>\n",
       "      <progress value='12800' class='' max='12800' style='width:300px; height:20px; vertical-align: middle;'></progress>\n",
       "      100.00% [12800/12800 00:16<00:00 Sampling 4 chains, 0 divergences]\n",
       "    </div>\n",
       "    "
      ],
      "text/plain": [
       "<IPython.core.display.HTML object>"
      ]
     },
     "metadata": {},
     "output_type": "display_data"
    },
    {
     "name": "stderr",
     "output_type": "stream",
     "text": [
      "Sampling 4 chains for 2_000 tune and 1_200 draw iterations (8_000 + 4_800 draws total) took 24 seconds.\n",
      "The number of effective samples is smaller than 10% for some parameters.\n"
     ]
    },
    {
     "name": "stdout",
     "output_type": "stream",
     "text": [
      "46 {'a': 423094.201724829, 'b': 24.75308167387191, 'c': 0.05051166325313682}\n"
     ]
    },
    {
     "name": "stderr",
     "output_type": "stream",
     "text": [
      "Multiprocess sampling (4 chains in 4 jobs)\n",
      "NUTS: [sigma, c, b, a]\n"
     ]
    },
    {
     "data": {
      "text/html": [
       "\n",
       "    <div>\n",
       "        <style>\n",
       "            /* Turns off some styling */\n",
       "            progress {\n",
       "                /* gets rid of default border in Firefox and Opera. */\n",
       "                border: none;\n",
       "                /* Needs to be in here for Safari polyfill so background images work as expected. */\n",
       "                background-size: auto;\n",
       "            }\n",
       "            .progress-bar-interrupted, .progress-bar-interrupted::-webkit-progress-bar {\n",
       "                background: #F44336;\n",
       "            }\n",
       "        </style>\n",
       "      <progress value='12800' class='' max='12800' style='width:300px; height:20px; vertical-align: middle;'></progress>\n",
       "      100.00% [12800/12800 00:16<00:00 Sampling 4 chains, 0 divergences]\n",
       "    </div>\n",
       "    "
      ],
      "text/plain": [
       "<IPython.core.display.HTML object>"
      ]
     },
     "metadata": {},
     "output_type": "display_data"
    },
    {
     "name": "stderr",
     "output_type": "stream",
     "text": [
      "Sampling 4 chains for 2_000 tune and 1_200 draw iterations (8_000 + 4_800 draws total) took 25 seconds.\n",
      "The acceptance probability does not match the target. It is 0.5818845346223247, but should be close to 0.8. Try to increase the number of tuning steps.\n",
      "The rhat statistic is larger than 1.05 for some parameters. This indicates slight problems during sampling.\n",
      "The estimated number of effective samples is smaller than 200 for some parameters.\n"
     ]
    },
    {
     "name": "stdout",
     "output_type": "stream",
     "text": [
      "47 {'a': 530501.7445263203, 'b': 24.87820630985696, 'c': 0.04932153834644373}\n"
     ]
    },
    {
     "name": "stderr",
     "output_type": "stream",
     "text": [
      "Multiprocess sampling (4 chains in 4 jobs)\n",
      "NUTS: [sigma, c, b, a]\n"
     ]
    },
    {
     "data": {
      "text/html": [
       "\n",
       "    <div>\n",
       "        <style>\n",
       "            /* Turns off some styling */\n",
       "            progress {\n",
       "                /* gets rid of default border in Firefox and Opera. */\n",
       "                border: none;\n",
       "                /* Needs to be in here for Safari polyfill so background images work as expected. */\n",
       "                background-size: auto;\n",
       "            }\n",
       "            .progress-bar-interrupted, .progress-bar-interrupted::-webkit-progress-bar {\n",
       "                background: #F44336;\n",
       "            }\n",
       "        </style>\n",
       "      <progress value='12800' class='' max='12800' style='width:300px; height:20px; vertical-align: middle;'></progress>\n",
       "      100.00% [12800/12800 00:19<00:00 Sampling 4 chains, 0 divergences]\n",
       "    </div>\n",
       "    "
      ],
      "text/plain": [
       "<IPython.core.display.HTML object>"
      ]
     },
     "metadata": {},
     "output_type": "display_data"
    },
    {
     "name": "stderr",
     "output_type": "stream",
     "text": [
      "Sampling 4 chains for 2_000 tune and 1_200 draw iterations (8_000 + 4_800 draws total) took 27 seconds.\n",
      "The acceptance probability does not match the target. It is 0.7177290573763321, but should be close to 0.8. Try to increase the number of tuning steps.\n",
      "The estimated number of effective samples is smaller than 200 for some parameters.\n"
     ]
    },
    {
     "name": "stdout",
     "output_type": "stream",
     "text": [
      "48 {'a': 532423.0759371448, 'b': 25.252069491986354, 'c': 0.04946593456990782}\n"
     ]
    },
    {
     "name": "stderr",
     "output_type": "stream",
     "text": [
      "Multiprocess sampling (4 chains in 4 jobs)\n",
      "NUTS: [sigma, c, b, a]\n"
     ]
    },
    {
     "data": {
      "text/html": [
       "\n",
       "    <div>\n",
       "        <style>\n",
       "            /* Turns off some styling */\n",
       "            progress {\n",
       "                /* gets rid of default border in Firefox and Opera. */\n",
       "                border: none;\n",
       "                /* Needs to be in here for Safari polyfill so background images work as expected. */\n",
       "                background-size: auto;\n",
       "            }\n",
       "            .progress-bar-interrupted, .progress-bar-interrupted::-webkit-progress-bar {\n",
       "                background: #F44336;\n",
       "            }\n",
       "        </style>\n",
       "      <progress value='12800' class='' max='12800' style='width:300px; height:20px; vertical-align: middle;'></progress>\n",
       "      100.00% [12800/12800 00:19<00:00 Sampling 4 chains, 0 divergences]\n",
       "    </div>\n",
       "    "
      ],
      "text/plain": [
       "<IPython.core.display.HTML object>"
      ]
     },
     "metadata": {},
     "output_type": "display_data"
    },
    {
     "name": "stderr",
     "output_type": "stream",
     "text": [
      "Sampling 4 chains for 2_000 tune and 1_200 draw iterations (8_000 + 4_800 draws total) took 28 seconds.\n",
      "The acceptance probability does not match the target. It is 0.5742778939723152, but should be close to 0.8. Try to increase the number of tuning steps.\n",
      "The acceptance probability does not match the target. It is 0.7197241437894939, but should be close to 0.8. Try to increase the number of tuning steps.\n",
      "The rhat statistic is larger than 1.05 for some parameters. This indicates slight problems during sampling.\n",
      "The estimated number of effective samples is smaller than 200 for some parameters.\n"
     ]
    },
    {
     "name": "stdout",
     "output_type": "stream",
     "text": [
      "49 {'a': 693583.9160485468, 'b': 24.292510456569246, 'c': 0.04692862248572966}\n"
     ]
    },
    {
     "name": "stderr",
     "output_type": "stream",
     "text": [
      "Multiprocess sampling (4 chains in 4 jobs)\n",
      "NUTS: [sigma, c, b, a]\n"
     ]
    },
    {
     "data": {
      "text/html": [
       "\n",
       "    <div>\n",
       "        <style>\n",
       "            /* Turns off some styling */\n",
       "            progress {\n",
       "                /* gets rid of default border in Firefox and Opera. */\n",
       "                border: none;\n",
       "                /* Needs to be in here for Safari polyfill so background images work as expected. */\n",
       "                background-size: auto;\n",
       "            }\n",
       "            .progress-bar-interrupted, .progress-bar-interrupted::-webkit-progress-bar {\n",
       "                background: #F44336;\n",
       "            }\n",
       "        </style>\n",
       "      <progress value='12800' class='' max='12800' style='width:300px; height:20px; vertical-align: middle;'></progress>\n",
       "      100.00% [12800/12800 00:20<00:00 Sampling 4 chains, 0 divergences]\n",
       "    </div>\n",
       "    "
      ],
      "text/plain": [
       "<IPython.core.display.HTML object>"
      ]
     },
     "metadata": {},
     "output_type": "display_data"
    },
    {
     "name": "stderr",
     "output_type": "stream",
     "text": [
      "Sampling 4 chains for 2_000 tune and 1_200 draw iterations (8_000 + 4_800 draws total) took 28 seconds.\n",
      "The acceptance probability does not match the target. It is 0.7150112466173468, but should be close to 0.8. Try to increase the number of tuning steps.\n",
      "The estimated number of effective samples is smaller than 200 for some parameters.\n"
     ]
    },
    {
     "name": "stdout",
     "output_type": "stream",
     "text": [
      "50 {'a': 682481.6947760112, 'b': 24.288236741397267, 'c': 0.04687916061246183}\n"
     ]
    },
    {
     "name": "stderr",
     "output_type": "stream",
     "text": [
      "Multiprocess sampling (4 chains in 4 jobs)\n",
      "NUTS: [sigma, c, b, a]\n"
     ]
    },
    {
     "data": {
      "text/html": [
       "\n",
       "    <div>\n",
       "        <style>\n",
       "            /* Turns off some styling */\n",
       "            progress {\n",
       "                /* gets rid of default border in Firefox and Opera. */\n",
       "                border: none;\n",
       "                /* Needs to be in here for Safari polyfill so background images work as expected. */\n",
       "                background-size: auto;\n",
       "            }\n",
       "            .progress-bar-interrupted, .progress-bar-interrupted::-webkit-progress-bar {\n",
       "                background: #F44336;\n",
       "            }\n",
       "        </style>\n",
       "      <progress value='12800' class='' max='12800' style='width:300px; height:20px; vertical-align: middle;'></progress>\n",
       "      100.00% [12800/12800 00:19<00:00 Sampling 4 chains, 0 divergences]\n",
       "    </div>\n",
       "    "
      ],
      "text/plain": [
       "<IPython.core.display.HTML object>"
      ]
     },
     "metadata": {},
     "output_type": "display_data"
    },
    {
     "name": "stderr",
     "output_type": "stream",
     "text": [
      "Sampling 4 chains for 2_000 tune and 1_200 draw iterations (8_000 + 4_800 draws total) took 28 seconds.\n",
      "The acceptance probability does not match the target. It is 0.6800667027538447, but should be close to 0.8. Try to increase the number of tuning steps.\n",
      "The acceptance probability does not match the target. It is 0.6503109457205198, but should be close to 0.8. Try to increase the number of tuning steps.\n",
      "The rhat statistic is larger than 1.05 for some parameters. This indicates slight problems during sampling.\n",
      "The estimated number of effective samples is smaller than 200 for some parameters.\n"
     ]
    },
    {
     "name": "stdout",
     "output_type": "stream",
     "text": [
      "51 {'a': 648059.4951564122, 'b': 24.318667749619834, 'c': 0.04724167118957476}\n"
     ]
    },
    {
     "name": "stderr",
     "output_type": "stream",
     "text": [
      "Multiprocess sampling (4 chains in 4 jobs)\n",
      "NUTS: [sigma, c, b, a]\n"
     ]
    },
    {
     "data": {
      "text/html": [
       "\n",
       "    <div>\n",
       "        <style>\n",
       "            /* Turns off some styling */\n",
       "            progress {\n",
       "                /* gets rid of default border in Firefox and Opera. */\n",
       "                border: none;\n",
       "                /* Needs to be in here for Safari polyfill so background images work as expected. */\n",
       "                background-size: auto;\n",
       "            }\n",
       "            .progress-bar-interrupted, .progress-bar-interrupted::-webkit-progress-bar {\n",
       "                background: #F44336;\n",
       "            }\n",
       "        </style>\n",
       "      <progress value='12800' class='' max='12800' style='width:300px; height:20px; vertical-align: middle;'></progress>\n",
       "      100.00% [12800/12800 00:20<00:00 Sampling 4 chains, 0 divergences]\n",
       "    </div>\n",
       "    "
      ],
      "text/plain": [
       "<IPython.core.display.HTML object>"
      ]
     },
     "metadata": {},
     "output_type": "display_data"
    },
    {
     "name": "stderr",
     "output_type": "stream",
     "text": [
      "Sampling 4 chains for 2_000 tune and 1_200 draw iterations (8_000 + 4_800 draws total) took 29 seconds.\n",
      "The number of effective samples is smaller than 25% for some parameters.\n"
     ]
    },
    {
     "name": "stdout",
     "output_type": "stream",
     "text": [
      "52 {'a': 573100.0961086167, 'b': 24.29691709520308, 'c': 0.04783889043385502}\n"
     ]
    },
    {
     "name": "stderr",
     "output_type": "stream",
     "text": [
      "Multiprocess sampling (4 chains in 4 jobs)\n",
      "NUTS: [sigma, c, b, a]\n"
     ]
    },
    {
     "data": {
      "text/html": [
       "\n",
       "    <div>\n",
       "        <style>\n",
       "            /* Turns off some styling */\n",
       "            progress {\n",
       "                /* gets rid of default border in Firefox and Opera. */\n",
       "                border: none;\n",
       "                /* Needs to be in here for Safari polyfill so background images work as expected. */\n",
       "                background-size: auto;\n",
       "            }\n",
       "            .progress-bar-interrupted, .progress-bar-interrupted::-webkit-progress-bar {\n",
       "                background: #F44336;\n",
       "            }\n",
       "        </style>\n",
       "      <progress value='12800' class='' max='12800' style='width:300px; height:20px; vertical-align: middle;'></progress>\n",
       "      100.00% [12800/12800 00:18<00:00 Sampling 4 chains, 0 divergences]\n",
       "    </div>\n",
       "    "
      ],
      "text/plain": [
       "<IPython.core.display.HTML object>"
      ]
     },
     "metadata": {},
     "output_type": "display_data"
    },
    {
     "name": "stderr",
     "output_type": "stream",
     "text": [
      "Sampling 4 chains for 2_000 tune and 1_200 draw iterations (8_000 + 4_800 draws total) took 26 seconds.\n",
      "The acceptance probability does not match the target. It is 0.6723839270303559, but should be close to 0.8. Try to increase the number of tuning steps.\n",
      "The acceptance probability does not match the target. It is 0.6964154460942243, but should be close to 0.8. Try to increase the number of tuning steps.\n",
      "The number of effective samples is smaller than 10% for some parameters.\n"
     ]
    },
    {
     "name": "stdout",
     "output_type": "stream",
     "text": [
      "53 {'a': 490756.4521550443, 'b': 24.670147931390225, 'c': 0.04920442525202119}\n"
     ]
    },
    {
     "name": "stderr",
     "output_type": "stream",
     "text": [
      "Multiprocess sampling (4 chains in 4 jobs)\n",
      "NUTS: [sigma, c, b, a]\n"
     ]
    },
    {
     "data": {
      "text/html": [
       "\n",
       "    <div>\n",
       "        <style>\n",
       "            /* Turns off some styling */\n",
       "            progress {\n",
       "                /* gets rid of default border in Firefox and Opera. */\n",
       "                border: none;\n",
       "                /* Needs to be in here for Safari polyfill so background images work as expected. */\n",
       "                background-size: auto;\n",
       "            }\n",
       "            .progress-bar-interrupted, .progress-bar-interrupted::-webkit-progress-bar {\n",
       "                background: #F44336;\n",
       "            }\n",
       "        </style>\n",
       "      <progress value='12800' class='' max='12800' style='width:300px; height:20px; vertical-align: middle;'></progress>\n",
       "      100.00% [12800/12800 00:19<00:00 Sampling 4 chains, 0 divergences]\n",
       "    </div>\n",
       "    "
      ],
      "text/plain": [
       "<IPython.core.display.HTML object>"
      ]
     },
     "metadata": {},
     "output_type": "display_data"
    },
    {
     "name": "stderr",
     "output_type": "stream",
     "text": [
      "Sampling 4 chains for 2_000 tune and 1_200 draw iterations (8_000 + 4_800 draws total) took 28 seconds.\n",
      "The acceptance probability does not match the target. It is 0.7058942965341767, but should be close to 0.8. Try to increase the number of tuning steps.\n",
      "The acceptance probability does not match the target. It is 0.8974052669553992, but should be close to 0.8. Try to increase the number of tuning steps.\n",
      "The number of effective samples is smaller than 10% for some parameters.\n"
     ]
    },
    {
     "name": "stdout",
     "output_type": "stream",
     "text": [
      "54 {'a': 439279.5764931482, 'b': 25.003661146528483, 'c': 0.05033630920741265}\n"
     ]
    },
    {
     "name": "stderr",
     "output_type": "stream",
     "text": [
      "Multiprocess sampling (4 chains in 4 jobs)\n",
      "NUTS: [sigma, c, b, a]\n"
     ]
    },
    {
     "data": {
      "text/html": [
       "\n",
       "    <div>\n",
       "        <style>\n",
       "            /* Turns off some styling */\n",
       "            progress {\n",
       "                /* gets rid of default border in Firefox and Opera. */\n",
       "                border: none;\n",
       "                /* Needs to be in here for Safari polyfill so background images work as expected. */\n",
       "                background-size: auto;\n",
       "            }\n",
       "            .progress-bar-interrupted, .progress-bar-interrupted::-webkit-progress-bar {\n",
       "                background: #F44336;\n",
       "            }\n",
       "        </style>\n",
       "      <progress value='12800' class='' max='12800' style='width:300px; height:20px; vertical-align: middle;'></progress>\n",
       "      100.00% [12800/12800 00:17<00:00 Sampling 4 chains, 0 divergences]\n",
       "    </div>\n",
       "    "
      ],
      "text/plain": [
       "<IPython.core.display.HTML object>"
      ]
     },
     "metadata": {},
     "output_type": "display_data"
    },
    {
     "name": "stderr",
     "output_type": "stream",
     "text": [
      "Sampling 4 chains for 2_000 tune and 1_200 draw iterations (8_000 + 4_800 draws total) took 26 seconds.\n",
      "The acceptance probability does not match the target. It is 0.6663499569506213, but should be close to 0.8. Try to increase the number of tuning steps.\n",
      "The number of effective samples is smaller than 10% for some parameters.\n"
     ]
    },
    {
     "name": "stdout",
     "output_type": "stream",
     "text": [
      "55 {'a': 380660.47354061453, 'b': 25.478506481198824, 'c': 0.05187858607114488}\n"
     ]
    },
    {
     "name": "stderr",
     "output_type": "stream",
     "text": [
      "Multiprocess sampling (4 chains in 4 jobs)\n",
      "NUTS: [sigma, c, b, a]\n"
     ]
    },
    {
     "data": {
      "text/html": [
       "\n",
       "    <div>\n",
       "        <style>\n",
       "            /* Turns off some styling */\n",
       "            progress {\n",
       "                /* gets rid of default border in Firefox and Opera. */\n",
       "                border: none;\n",
       "                /* Needs to be in here for Safari polyfill so background images work as expected. */\n",
       "                background-size: auto;\n",
       "            }\n",
       "            .progress-bar-interrupted, .progress-bar-interrupted::-webkit-progress-bar {\n",
       "                background: #F44336;\n",
       "            }\n",
       "        </style>\n",
       "      <progress value='12800' class='' max='12800' style='width:300px; height:20px; vertical-align: middle;'></progress>\n",
       "      100.00% [12800/12800 00:19<00:00 Sampling 4 chains, 0 divergences]\n",
       "    </div>\n",
       "    "
      ],
      "text/plain": [
       "<IPython.core.display.HTML object>"
      ]
     },
     "metadata": {},
     "output_type": "display_data"
    },
    {
     "name": "stderr",
     "output_type": "stream",
     "text": [
      "Sampling 4 chains for 2_000 tune and 1_200 draw iterations (8_000 + 4_800 draws total) took 28 seconds.\n",
      "The acceptance probability does not match the target. It is 0.702940788322691, but should be close to 0.8. Try to increase the number of tuning steps.\n",
      "The number of effective samples is smaller than 10% for some parameters.\n"
     ]
    },
    {
     "name": "stdout",
     "output_type": "stream",
     "text": [
      "56 {'a': 329078.53714631934, 'b': 26.22555602732393, 'c': 0.053735855726880645}\n"
     ]
    },
    {
     "name": "stderr",
     "output_type": "stream",
     "text": [
      "Multiprocess sampling (4 chains in 4 jobs)\n",
      "NUTS: [sigma, c, b, a]\n"
     ]
    },
    {
     "data": {
      "text/html": [
       "\n",
       "    <div>\n",
       "        <style>\n",
       "            /* Turns off some styling */\n",
       "            progress {\n",
       "                /* gets rid of default border in Firefox and Opera. */\n",
       "                border: none;\n",
       "                /* Needs to be in here for Safari polyfill so background images work as expected. */\n",
       "                background-size: auto;\n",
       "            }\n",
       "            .progress-bar-interrupted, .progress-bar-interrupted::-webkit-progress-bar {\n",
       "                background: #F44336;\n",
       "            }\n",
       "        </style>\n",
       "      <progress value='12800' class='' max='12800' style='width:300px; height:20px; vertical-align: middle;'></progress>\n",
       "      100.00% [12800/12800 00:19<00:00 Sampling 4 chains, 0 divergences]\n",
       "    </div>\n",
       "    "
      ],
      "text/plain": [
       "<IPython.core.display.HTML object>"
      ]
     },
     "metadata": {},
     "output_type": "display_data"
    },
    {
     "name": "stderr",
     "output_type": "stream",
     "text": [
      "Sampling 4 chains for 2_000 tune and 1_200 draw iterations (8_000 + 4_800 draws total) took 28 seconds.\n",
      "The acceptance probability does not match the target. It is 0.8986116716619553, but should be close to 0.8. Try to increase the number of tuning steps.\n",
      "The number of effective samples is smaller than 25% for some parameters.\n"
     ]
    },
    {
     "name": "stdout",
     "output_type": "stream",
     "text": [
      "57 {'a': 288669.69154064375, 'b': 27.01772613333514, 'c': 0.05554624157463046}\n"
     ]
    },
    {
     "name": "stderr",
     "output_type": "stream",
     "text": [
      "Multiprocess sampling (4 chains in 4 jobs)\n",
      "NUTS: [sigma, c, b, a]\n"
     ]
    },
    {
     "data": {
      "text/html": [
       "\n",
       "    <div>\n",
       "        <style>\n",
       "            /* Turns off some styling */\n",
       "            progress {\n",
       "                /* gets rid of default border in Firefox and Opera. */\n",
       "                border: none;\n",
       "                /* Needs to be in here for Safari polyfill so background images work as expected. */\n",
       "                background-size: auto;\n",
       "            }\n",
       "            .progress-bar-interrupted, .progress-bar-interrupted::-webkit-progress-bar {\n",
       "                background: #F44336;\n",
       "            }\n",
       "        </style>\n",
       "      <progress value='12800' class='' max='12800' style='width:300px; height:20px; vertical-align: middle;'></progress>\n",
       "      100.00% [12800/12800 00:16<00:00 Sampling 4 chains, 0 divergences]\n",
       "    </div>\n",
       "    "
      ],
      "text/plain": [
       "<IPython.core.display.HTML object>"
      ]
     },
     "metadata": {},
     "output_type": "display_data"
    },
    {
     "name": "stderr",
     "output_type": "stream",
     "text": [
      "Sampling 4 chains for 2_000 tune and 1_200 draw iterations (8_000 + 4_800 draws total) took 24 seconds.\n",
      "The acceptance probability does not match the target. It is 0.6972814294284787, but should be close to 0.8. Try to increase the number of tuning steps.\n",
      "The acceptance probability does not match the target. It is 0.5024783001079653, but should be close to 0.8. Try to increase the number of tuning steps.\n",
      "The rhat statistic is larger than 1.05 for some parameters. This indicates slight problems during sampling.\n",
      "The estimated number of effective samples is smaller than 200 for some parameters.\n"
     ]
    },
    {
     "name": "stdout",
     "output_type": "stream",
     "text": [
      "58 {'a': 259806.78718522578, 'b': 27.679384895780846, 'c': 0.05703779081325395}\n"
     ]
    },
    {
     "name": "stderr",
     "output_type": "stream",
     "text": [
      "Multiprocess sampling (4 chains in 4 jobs)\n",
      "NUTS: [sigma, c, b, a]\n"
     ]
    },
    {
     "data": {
      "text/html": [
       "\n",
       "    <div>\n",
       "        <style>\n",
       "            /* Turns off some styling */\n",
       "            progress {\n",
       "                /* gets rid of default border in Firefox and Opera. */\n",
       "                border: none;\n",
       "                /* Needs to be in here for Safari polyfill so background images work as expected. */\n",
       "                background-size: auto;\n",
       "            }\n",
       "            .progress-bar-interrupted, .progress-bar-interrupted::-webkit-progress-bar {\n",
       "                background: #F44336;\n",
       "            }\n",
       "        </style>\n",
       "      <progress value='12800' class='' max='12800' style='width:300px; height:20px; vertical-align: middle;'></progress>\n",
       "      100.00% [12800/12800 00:18<00:00 Sampling 4 chains, 0 divergences]\n",
       "    </div>\n",
       "    "
      ],
      "text/plain": [
       "<IPython.core.display.HTML object>"
      ]
     },
     "metadata": {},
     "output_type": "display_data"
    },
    {
     "name": "stderr",
     "output_type": "stream",
     "text": [
      "Sampling 4 chains for 2_000 tune and 1_200 draw iterations (8_000 + 4_800 draws total) took 27 seconds.\n",
      "The acceptance probability does not match the target. It is 0.6325398757362664, but should be close to 0.8. Try to increase the number of tuning steps.\n",
      "The estimated number of effective samples is smaller than 200 for some parameters.\n"
     ]
    },
    {
     "name": "stdout",
     "output_type": "stream",
     "text": [
      "59 {'a': 237282.94714605983, 'b': 28.45098462728615, 'c': 0.05860108518520654}\n"
     ]
    },
    {
     "name": "stderr",
     "output_type": "stream",
     "text": [
      "Multiprocess sampling (4 chains in 4 jobs)\n",
      "NUTS: [sigma, c, b, a]\n"
     ]
    },
    {
     "data": {
      "text/html": [
       "\n",
       "    <div>\n",
       "        <style>\n",
       "            /* Turns off some styling */\n",
       "            progress {\n",
       "                /* gets rid of default border in Firefox and Opera. */\n",
       "                border: none;\n",
       "                /* Needs to be in here for Safari polyfill so background images work as expected. */\n",
       "                background-size: auto;\n",
       "            }\n",
       "            .progress-bar-interrupted, .progress-bar-interrupted::-webkit-progress-bar {\n",
       "                background: #F44336;\n",
       "            }\n",
       "        </style>\n",
       "      <progress value='12800' class='' max='12800' style='width:300px; height:20px; vertical-align: middle;'></progress>\n",
       "      100.00% [12800/12800 00:17<00:00 Sampling 4 chains, 0 divergences]\n",
       "    </div>\n",
       "    "
      ],
      "text/plain": [
       "<IPython.core.display.HTML object>"
      ]
     },
     "metadata": {},
     "output_type": "display_data"
    },
    {
     "name": "stderr",
     "output_type": "stream",
     "text": [
      "Sampling 4 chains for 2_000 tune and 1_200 draw iterations (8_000 + 4_800 draws total) took 25 seconds.\n",
      "The number of effective samples is smaller than 25% for some parameters.\n"
     ]
    },
    {
     "name": "stdout",
     "output_type": "stream",
     "text": [
      "60 {'a': 214540.92653439613, 'b': 29.668793403463024, 'c': 0.06063049386576329}\n"
     ]
    },
    {
     "name": "stderr",
     "output_type": "stream",
     "text": [
      "Multiprocess sampling (4 chains in 4 jobs)\n",
      "NUTS: [sigma, c, b, a]\n"
     ]
    },
    {
     "data": {
      "text/html": [
       "\n",
       "    <div>\n",
       "        <style>\n",
       "            /* Turns off some styling */\n",
       "            progress {\n",
       "                /* gets rid of default border in Firefox and Opera. */\n",
       "                border: none;\n",
       "                /* Needs to be in here for Safari polyfill so background images work as expected. */\n",
       "                background-size: auto;\n",
       "            }\n",
       "            .progress-bar-interrupted, .progress-bar-interrupted::-webkit-progress-bar {\n",
       "                background: #F44336;\n",
       "            }\n",
       "        </style>\n",
       "      <progress value='12800' class='' max='12800' style='width:300px; height:20px; vertical-align: middle;'></progress>\n",
       "      100.00% [12800/12800 00:16<00:00 Sampling 4 chains, 0 divergences]\n",
       "    </div>\n",
       "    "
      ],
      "text/plain": [
       "<IPython.core.display.HTML object>"
      ]
     },
     "metadata": {},
     "output_type": "display_data"
    },
    {
     "name": "stderr",
     "output_type": "stream",
     "text": [
      "Sampling 4 chains for 2_000 tune and 1_200 draw iterations (8_000 + 4_800 draws total) took 24 seconds.\n",
      "The acceptance probability does not match the target. It is 0.681423273945523, but should be close to 0.8. Try to increase the number of tuning steps.\n",
      "The number of effective samples is smaller than 25% for some parameters.\n"
     ]
    }
   ],
   "source": [
    "def GompertzSeries(data,start=30,end=120):\n",
    "    estimates = {}\n",
    "    tr = None\n",
    "    for l in range(start,end+1):\n",
    "        initial = {} if tr == None else {'a':np.mean(tr.a),'b':np.mean(tr.b),'c':np.mean(tr.c)}\n",
    "        print(l,initial)\n",
    "        tr = FitGompertz(data,l=l)#,initial=initial)\n",
    "#        ssd = np.sum(np.power(data[:l]-np.mean(tr.deaths,axis=0),2))\n",
    "        estimates[l] = {'a':tr.a,'b':tr.b,'c':tr.c,\"est\":tr.deaths}\n",
    "    return estimates\n",
    "\n",
    "gomp_est = GompertzSeries(data,30,60)\n"
   ]
  },
  {
   "cell_type": "code",
   "execution_count": 11,
   "metadata": {
    "scrolled": false
   },
   "outputs": [
    {
     "ename": "KeyError",
     "evalue": "'ssd'",
     "output_type": "error",
     "traceback": [
      "\u001b[0;31m---------------------------------------------------------------------------\u001b[0m",
      "\u001b[0;31mKeyError\u001b[0m                                  Traceback (most recent call last)",
      "\u001b[0;32m<ipython-input-11-9610123284eb>\u001b[0m in \u001b[0;36m<module>\u001b[0;34m\u001b[0m\n\u001b[1;32m      3\u001b[0m \u001b[0;34m\u001b[0m\u001b[0m\n\u001b[1;32m      4\u001b[0m \u001b[0;32mfor\u001b[0m \u001b[0mk\u001b[0m\u001b[0;34m,\u001b[0m\u001b[0mv\u001b[0m \u001b[0;32min\u001b[0m \u001b[0mgomp_est\u001b[0m\u001b[0;34m.\u001b[0m\u001b[0mitems\u001b[0m\u001b[0;34m(\u001b[0m\u001b[0;34m)\u001b[0m\u001b[0;34m:\u001b[0m\u001b[0;34m\u001b[0m\u001b[0;34m\u001b[0m\u001b[0m\n\u001b[0;32m----> 5\u001b[0;31m     \u001b[0mprint\u001b[0m\u001b[0;34m(\u001b[0m\u001b[0mk\u001b[0m\u001b[0;34m,\u001b[0m\u001b[0mv\u001b[0m\u001b[0;34m[\u001b[0m\u001b[0;34m\"ssd\"\u001b[0m\u001b[0;34m]\u001b[0m\u001b[0;34m)\u001b[0m\u001b[0;34m\u001b[0m\u001b[0;34m\u001b[0m\u001b[0m\n\u001b[0m\u001b[1;32m      6\u001b[0m     \u001b[0;32mfor\u001b[0m \u001b[0mp\u001b[0m \u001b[0;32min\u001b[0m \u001b[0;34m[\u001b[0m\u001b[0;34m'a'\u001b[0m\u001b[0;34m,\u001b[0m\u001b[0;34m'b'\u001b[0m\u001b[0;34m,\u001b[0m\u001b[0;34m'c'\u001b[0m\u001b[0;34m]\u001b[0m\u001b[0;34m:\u001b[0m\u001b[0;34m\u001b[0m\u001b[0;34m\u001b[0m\u001b[0m\n\u001b[1;32m      7\u001b[0m         \u001b[0mprint\u001b[0m\u001b[0;34m(\u001b[0m\u001b[0;34m\"\\t\"\u001b[0m\u001b[0;34m,\u001b[0m\u001b[0mp\u001b[0m\u001b[0;34m,\u001b[0m\u001b[0mnp\u001b[0m\u001b[0;34m.\u001b[0m\u001b[0mmean\u001b[0m\u001b[0;34m(\u001b[0m\u001b[0mv\u001b[0m\u001b[0;34m[\u001b[0m\u001b[0mp\u001b[0m\u001b[0;34m]\u001b[0m\u001b[0;34m)\u001b[0m\u001b[0;34m,\u001b[0m\u001b[0mnp\u001b[0m\u001b[0;34m.\u001b[0m\u001b[0mpercentile\u001b[0m\u001b[0;34m(\u001b[0m\u001b[0mv\u001b[0m\u001b[0;34m[\u001b[0m\u001b[0mp\u001b[0m\u001b[0;34m]\u001b[0m\u001b[0;34m,\u001b[0m\u001b[0mq\u001b[0m\u001b[0;34m=\u001b[0m\u001b[0;34m(\u001b[0m\u001b[0;36m2.5\u001b[0m\u001b[0;34m,\u001b[0m\u001b[0;36m5\u001b[0m\u001b[0;34m,\u001b[0m\u001b[0;36m50\u001b[0m\u001b[0;34m,\u001b[0m\u001b[0;36m95\u001b[0m\u001b[0;34m,\u001b[0m\u001b[0;36m97.5\u001b[0m\u001b[0;34m)\u001b[0m\u001b[0;34m)\u001b[0m\u001b[0;34m)\u001b[0m\u001b[0;34m\u001b[0m\u001b[0;34m\u001b[0m\u001b[0m\n",
      "\u001b[0;31mKeyError\u001b[0m: 'ssd'"
     ]
    }
   ],
   "source": [
    "with open(\"estimates/gomp_symptomatic_%d\"%time.time(),\"wb+\") as f:\n",
    "    pickle.dump(gomp_est,f)\n",
    "\n",
    "for k,v in gomp_est.items():\n",
    "    print(k,v[\"ssd\"])\n",
    "    for p in ['a','b','c']:\n",
    "        print(\"\\t\",p,np.mean(v[p]),np.percentile(v[p],q=(2.5,5,50,95,97.5)))\n"
   ]
  },
  {
   "cell_type": "code",
   "execution_count": null,
   "metadata": {},
   "outputs": [],
   "source": [
    "trace = FitGompertz(l=30)\n",
    "plt.plot(ts1[:l],deaths1[:l],\"+\")\n",
    "plt.plot(ts1[:l],trace.deaths[0])\n",
    "plt.fill_between(ts1[:l],*np.percentile(trace.deaths,axis=0,q=(2.5,97.5)),color=\"orange\",alpha=.2)\n",
    "\n",
    "gomp_est = np.mean(trace.deaths,axis=0)\n",
    "print(SSD(deaths1[:1],gomp_est))\n"
   ]
  },
  {
   "cell_type": "code",
   "execution_count": null,
   "metadata": {},
   "outputs": [],
   "source": [
    "a = [x for x in range(10)]\n",
    "print(a[7:3])"
   ]
  },
  {
   "cell_type": "code",
   "execution_count": null,
   "metadata": {},
   "outputs": [],
   "source": []
  }
 ],
 "metadata": {
  "kernelspec": {
   "display_name": "Python 3",
   "language": "python",
   "name": "python3"
  },
  "language_info": {
   "codemirror_mode": {
    "name": "ipython",
    "version": 3
   },
   "file_extension": ".py",
   "mimetype": "text/x-python",
   "name": "python",
   "nbconvert_exporter": "python",
   "pygments_lexer": "ipython3",
   "version": "3.7.9"
  }
 },
 "nbformat": 4,
 "nbformat_minor": 4
}
